{
  "nbformat": 4,
  "nbformat_minor": 0,
  "metadata": {
    "colab": {
      "name": "ch2en-attention.ipynb",
      "version": "0.3.2",
      "provenance": [],
      "collapsed_sections": []
    },
    "kernelspec": {
      "name": "python3",
      "display_name": "Python 3"
    },
    "accelerator": "GPU"
  },
  "cells": [
    {
      "metadata": {
        "id": "CaFhfry30d5R",
        "colab_type": "code",
        "colab": {}
      },
      "cell_type": "code",
      "source": [
        "#!pip3 install jieba"
      ],
      "execution_count": 0,
      "outputs": []
    },
    {
      "metadata": {
        "id": "b0_EXL0t0d5U",
        "colab_type": "code",
        "colab": {}
      },
      "cell_type": "code",
      "source": [
        "#!python preprocess_translation/token_zh_en.py"
      ],
      "execution_count": 0,
      "outputs": []
    },
    {
      "metadata": {
        "id": "QQTKmCqMLfv2",
        "colab_type": "code",
        "outputId": "60518cc2-955c-4246-9c1e-7c6bbab6bb45",
        "colab": {
          "base_uri": "https://localhost:8080/",
          "height": 34
        }
      },
      "cell_type": "code",
      "source": [
        "\n",
        "from google.colab import drive\n",
        "drive.mount('/content/drive/')"
      ],
      "execution_count": 3,
      "outputs": [
        {
          "output_type": "stream",
          "text": [
            "Drive already mounted at /content/drive/; to attempt to forcibly remount, call drive.mount(\"/content/drive/\", force_remount=True).\n"
          ],
          "name": "stdout"
        }
      ]
    },
    {
      "metadata": {
        "id": "Tvqp0ME6R1u1",
        "colab_type": "code",
        "colab": {
          "base_uri": "https://localhost:8080/",
          "height": 51
        },
        "outputId": "6c583473-614c-4453-8e36-79d8d965a5e6"
      },
      "cell_type": "code",
      "source": [
        "!pip3 install sacrebleu"
      ],
      "execution_count": 4,
      "outputs": [
        {
          "output_type": "stream",
          "text": [
            "Requirement already satisfied: sacrebleu in /usr/local/lib/python3.6/dist-packages (1.2.12)\n",
            "Requirement already satisfied: typing in /usr/local/lib/python3.6/dist-packages (from sacrebleu) (3.6.6)\n"
          ],
          "name": "stdout"
        }
      ]
    },
    {
      "metadata": {
        "id": "xGw8DDZT0d5X",
        "colab_type": "code",
        "colab": {}
      },
      "cell_type": "code",
      "source": [
        "from __future__ import unicode_literals, print_function, division\n",
        "from io import open\n",
        "import unicodedata\n",
        "import string\n",
        "import re\n",
        "import random\n",
        "import operator\n",
        "from torch.utils.data import Dataset\n",
        "from collections import Counter\n",
        "import matplotlib.pyplot as plt\n",
        "import numpy as np\n",
        "import torch\n",
        "import torch.nn as nn\n",
        "from torch import optim\n",
        "import torch.nn.functional as F\n",
        "import sacrebleu\n",
        "#from masked_cross_entropy import *\n",
        "\n",
        "import random\n",
        "device = torch.device(\"cuda\" if torch.cuda.is_available() else \"cpu\")"
      ],
      "execution_count": 0,
      "outputs": []
    },
    {
      "metadata": {
        "id": "3ZpimCHv14L4",
        "colab_type": "code",
        "colab": {}
      },
      "cell_type": "code",
      "source": [
        ""
      ],
      "execution_count": 0,
      "outputs": []
    },
    {
      "metadata": {
        "id": "naDNIMEj1Qm4",
        "colab_type": "code",
        "outputId": "933434e3-9ebe-429e-d932-a94a5a4d325a",
        "colab": {
          "base_uri": "https://localhost:8080/",
          "height": 51
        }
      },
      "cell_type": "code",
      "source": [
        "!pip3 install sacrebleu"
      ],
      "execution_count": 6,
      "outputs": [
        {
          "output_type": "stream",
          "text": [
            "Requirement already satisfied: sacrebleu in /usr/local/lib/python3.6/dist-packages (1.2.12)\n",
            "Requirement already satisfied: typing in /usr/local/lib/python3.6/dist-packages (from sacrebleu) (3.6.6)\n"
          ],
          "name": "stdout"
        }
      ]
    },
    {
      "metadata": {
        "id": "O47m-P3N1DJw",
        "colab_type": "code",
        "outputId": "7e612ee6-0a73-4426-8dfc-ae8d436bba30",
        "colab": {
          "base_uri": "https://localhost:8080/",
          "height": 51
        }
      },
      "cell_type": "code",
      "source": [
        "from os import path\n",
        "from wheel.pep425tags import get_abbr_impl, get_impl_ver, get_abi_tag\n",
        "platform = '{}{}-{}'.format(get_abbr_impl(), get_impl_ver(), get_abi_tag())\n",
        "\n",
        "accelerator = 'cu80' if path.exists('/opt/bin/nvidia-smi') else 'cpu'\n",
        "\n",
        "!pip install -q http://download.pytorch.org/whl/{accelerator}/torch-0.4.1-{platform}-linux_x86_64.whl torchvision\n",
        "import torch\n",
        "print(torch.__version__)\n",
        "print(torch.cuda.is_available())"
      ],
      "execution_count": 7,
      "outputs": [
        {
          "output_type": "stream",
          "text": [
            "0.4.1\n",
            "True\n"
          ],
          "name": "stdout"
        }
      ]
    },
    {
      "metadata": {
        "id": "0-6BiXr1MaHT",
        "colab_type": "code",
        "colab": {}
      },
      "cell_type": "code",
      "source": [
        "import torch\n",
        "from torch.nn import functional\n",
        "from torch.autograd import Variable\n",
        "\n",
        "def sequence_mask(sequence_length, max_len=None):\n",
        "    if max_len is None:\n",
        "        max_len = sequence_length.data.max()\n",
        "    batch_size = sequence_length.size(0)\n",
        "    seq_range = torch.arange(0, max_len).long()\n",
        "    seq_range_expand = seq_range.unsqueeze(0).expand(batch_size, max_len)\n",
        "    seq_range_expand = Variable(seq_range_expand)\n",
        "    if sequence_length.is_cuda:\n",
        "        seq_range_expand = seq_range_expand.cuda()\n",
        "    seq_length_expand = (sequence_length.unsqueeze(1)\n",
        "                         .expand_as(seq_range_expand))\n",
        "    return seq_range_expand < seq_length_expand\n",
        "\n",
        "\n",
        "def masked_cross_entropy(logits, target, length):\n",
        "    length = Variable(torch.LongTensor(length)).cuda()\n",
        "\n",
        "    \"\"\"\n",
        "    Args:\n",
        "        logits: A Variable containing a FloatTensor of size\n",
        "            (batch, max_len, num_classes) which contains the\n",
        "            unnormalized probability for each class.\n",
        "        target: A Variable containing a LongTensor of size\n",
        "            (batch, max_len) which contains the index of the true\n",
        "            class for each corresponding step.\n",
        "        length: A Variable containing a LongTensor of size (batch,)\n",
        "            which contains the length of each data in a batch.\n",
        "\n",
        "    Returns:\n",
        "        loss: An average loss value masked by the length.\n",
        "    \"\"\"\n",
        "\n",
        "    # logits_flat: (batch * max_len, num_classes)\n",
        "    logits_flat = logits.view(-1, logits.size(-1))\n",
        "    # log_probs_flat: (batch * max_len, num_classes)\n",
        "    log_probs_flat = functional.log_softmax(logits_flat, dim=1)\n",
        "    # target_flat: (batch * max_len, 1)\n",
        "    target_flat = target.view(-1, 1)\n",
        "    # losses_flat: (batch * max_len, 1)\n",
        "    losses_flat = -torch.gather(log_probs_flat, dim=1, index=target_flat)\n",
        "    # losses: (batch, max_len)\n",
        "    losses = losses_flat.view(*target.size())\n",
        "    # mask: (batch, max_len)\n",
        "    mask = sequence_mask(sequence_length=length, max_len=target.size(1))\n",
        "    losses = losses * mask.float()\n",
        "    loss = losses.sum() / length.float().sum()\n",
        "    return loss\n"
      ],
      "execution_count": 0,
      "outputs": []
    },
    {
      "metadata": {
        "id": "EYDlc9JJ0d5Z",
        "colab_type": "code",
        "colab": {}
      },
      "cell_type": "code",
      "source": [
        "device = torch.device(\"cuda\" if torch.cuda.is_available() else \"cpu\")\n",
        "PAD_token = 0\n",
        "SOS_token = 1\n",
        "EOS_token = 2\n",
        "vocab_size = 85000\n",
        "hidden_size = 256\n",
        "# emb_size = 256\n",
        "MAX_LENGTH = 100 # since 99% source sentence is <= 100\n",
        "# MAX_LENGTH_1 = max(len(pair[0].split(\" \")) for pair in pairs)\n",
        "# MAX_LENGTH_2 = max(len(pair[1].split(\" \")) for pair in pairs)\n",
        "dropout_p = 0.1\n",
        "teacher_forcing_ratio = 0.5\n",
        "BATCH_SIZE = 32"
      ],
      "execution_count": 0,
      "outputs": []
    },
    {
      "metadata": {
        "id": "1lpKjlOAMzVQ",
        "colab_type": "code",
        "outputId": "e8d0c80b-c07e-45da-95f6-f1c29a304159",
        "colab": {
          "base_uri": "https://localhost:8080/",
          "height": 34
        }
      },
      "cell_type": "code",
      "source": [
        "device"
      ],
      "execution_count": 10,
      "outputs": [
        {
          "output_type": "execute_result",
          "data": {
            "text/plain": [
              "device(type='cuda')"
            ]
          },
          "metadata": {
            "tags": []
          },
          "execution_count": 10
        }
      ]
    },
    {
      "metadata": {
        "id": "OESV2zjg0d5c",
        "colab_type": "text"
      },
      "cell_type": "markdown",
      "source": [
        "## Loading Data"
      ]
    },
    {
      "metadata": {
        "id": "X0G2eDBP0d5c",
        "colab_type": "code",
        "colab": {}
      },
      "cell_type": "code",
      "source": [
        "class Lang:\n",
        "    def __init__(self, name):\n",
        "        self.name = name\n",
        "        self.word2index = {}\n",
        "        self.word2count = {}\n",
        "        self.index2word = {0: \"PAD\", 1: \"SOS\", 2:\"EOS\", 3:\"UNK\"}\n",
        "        self.n_words = 4  # Count SOS and EOS\n",
        "\n",
        "    def addSentence(self, sentence):\n",
        "        for word in sentence.split(' '):\n",
        "            self.addWord(word)\n",
        "\n",
        "    def addWord(self, word):\n",
        "        if word not in self.word2index:\n",
        "            self.word2index[word] = self.n_words\n",
        "            self.word2count[word] = 1\n",
        "            self.index2word[self.n_words] = word\n",
        "            self.n_words += 1\n",
        "        else:\n",
        "            self.word2count[word] += 1"
      ],
      "execution_count": 0,
      "outputs": []
    },
    {
      "metadata": {
        "id": "aSH-w7tB0d5f",
        "colab_type": "code",
        "colab": {}
      },
      "cell_type": "code",
      "source": [
        "def normalizeEnString(s):\n",
        "#    s = unicodeToAscii(s.lower().strip())\n",
        "#    s = re.sub(r\"&apos;\", r\" \", s)\n",
        "    s = re.sub(r\"([.!?])\", r\" \\1\", s)\n",
        "    s = re.sub(r\"[^a-zA-Z.!?]+\", r\" \", s)\n",
        "    return s\n",
        "def normalizeChString(s):\n",
        "#    s = re.sub(r\"([。！？])\", r\" \\1\", s)\n",
        "#    s = re.sub(r\"[.-*]+\", r\" \", s)\n",
        "    return s.strip() "
      ],
      "execution_count": 0,
      "outputs": []
    },
    {
      "metadata": {
        "id": "r6I6DZpA0d5i",
        "colab_type": "code",
        "outputId": "834e6fa5-9729-4211-c83b-799978db5842",
        "colab": {
          "base_uri": "https://localhost:8080/",
          "height": 34
        }
      },
      "cell_type": "code",
      "source": [
        "normalizeEnString(\"It &apos;s very pretty , and it has rapidly started to overgrow the once very rich biodiversity of the northwestern Mediterranean .\")"
      ],
      "execution_count": 13,
      "outputs": [
        {
          "output_type": "execute_result",
          "data": {
            "text/plain": [
              "'It apos s very pretty and it has rapidly started to overgrow the once very rich biodiversity of the northwestern Mediterranean .'"
            ]
          },
          "metadata": {
            "tags": []
          },
          "execution_count": 13
        }
      ]
    },
    {
      "metadata": {
        "id": "ToGkajXq0d5l",
        "colab_type": "code",
        "colab": {}
      },
      "cell_type": "code",
      "source": [
        "def readLangs(lang1, lang2, data='train'):\n",
        "    #data: train/dev/test\n",
        "    print(\"Reading lines...\")\n",
        "\n",
        "    # Read the file and split into lines\n",
        "    zh_lines = open('/content/drive/My Drive/iwslt-zh-en/{}.tok.zh'.format(data)).read().split('\\n')\n",
        "    en_lines = open('/content/drive/My Drive/iwslt-zh-en/{}.tok.en'.format(data)).read().split('\\n')\n",
        "    # Split every line into pairs and normalize\n",
        "    pairs = [[normalizeChString(element[0]), normalizeEnString(element[1])] for element in zip(zh_lines, en_lines)]\n",
        "\n",
        "    input_lang = Lang(lang1)\n",
        "    output_lang = Lang(lang2)\n",
        "\n",
        "    return input_lang, output_lang, pairs"
      ],
      "execution_count": 0,
      "outputs": []
    },
    {
      "metadata": {
        "id": "cHiI3Vm-0d5p",
        "colab_type": "code",
        "colab": {}
      },
      "cell_type": "code",
      "source": [
        "def prepareData(lang1, lang2):\n",
        "    input_lang, output_lang, pairs = readLangs(lang1, lang2)\n",
        "    print(\"Read %s sentence pairs\" % len(pairs))\n",
        "#    pairs = filterPairs(pairs)\n",
        "#    print(\"Trimmed to %s sentence pairs\" % len(pairs))\n",
        "    print(\"Counting words...\")\n",
        "    for pair in pairs:\n",
        "        input_lang.addSentence(pair[0])\n",
        "        output_lang.addSentence(pair[1])\n",
        "    print(\"Counted words:\")\n",
        "    print(input_lang.name, input_lang.n_words)\n",
        "    print(output_lang.name, output_lang.n_words)\n",
        "    return input_lang, output_lang, pairs\n"
      ],
      "execution_count": 0,
      "outputs": []
    },
    {
      "metadata": {
        "id": "wWnxmz7Q0d5s",
        "colab_type": "code",
        "outputId": "677bffd3-9b84-441d-b0e7-d899eeed6852",
        "colab": {
          "base_uri": "https://localhost:8080/",
          "height": 224
        }
      },
      "cell_type": "code",
      "source": [
        "def build_topwordVocab(lang, vocab_size):\n",
        "    print(\"Build vocabulary by top {} frequent word...\".format(vocab_size))\n",
        "    sorted_word2Count = sorted(lang.word2count.items(),\n",
        "        key=operator.itemgetter(1),\n",
        "        reverse=True)\n",
        "    sorted_words = [x[0] for x in sorted_word2Count[:vocab_size]]\n",
        "    \n",
        "    lang.word2index = {}\n",
        "\n",
        "    for ind, word in enumerate(sorted_words):\n",
        "            lang.word2index[word] = ind + 4\n",
        "\n",
        "#     lang.word2index = {}\n",
        "    lang.index2word = {}\n",
        "    lang.index2word[0] = \"PAD\"\n",
        "    lang.index2word[1] = \"SOS\"\n",
        "    lang.index2word[2] = \"EOS\"\n",
        "    lang.index2word[3] = \"UNK\"\n",
        "\n",
        "    for ind, word in enumerate(sorted_words):\n",
        "        lang.index2word[ind + 4] = word\n",
        "    \n",
        "    lang.n_words = len(lang.index2word)\n",
        "    \n",
        "    print(lang.name, lang.n_words)\n",
        "    return lang\n",
        "\n",
        "input_lang, output_lang, pairs = prepareData('ch', 'eng')\n",
        "\n",
        "input_lang = build_topwordVocab(input_lang,vocab_size=85000)\n",
        "output_lang = build_topwordVocab(output_lang, vocab_size=85000)\n",
        "print(random.choice(pairs))"
      ],
      "execution_count": 16,
      "outputs": [
        {
          "output_type": "stream",
          "text": [
            "Reading lines...\n",
            "Read 213378 sentence pairs\n",
            "Counting words...\n",
            "Counted words:\n",
            "ch 91144\n",
            "eng 59373\n",
            "Build vocabulary by top 85000 frequent word...\n",
            "ch 85004\n",
            "Build vocabulary by top 85000 frequent word...\n",
            "eng 59373\n",
            "['它 有 非常 巨大 的 影响 ， 甚至 影响 到 整个 国家   对 我们 在 何时 、 何地 、 为何   要 削减 公共开支   和 其他 公共服务 部门 的 开支 的 决策 。   我们 知道 ， 正是 由于 这种 并行 ， 一些 公共服务 部门 的 工作   已经 被 更 多 的 外包 出去 了 。', 'It has huge implications even with this whole notion that we have on where when and why we should actually be cutting back on public spending and different types of public services which of course as we know are increasingly being outsourced because of this juxtaposition .']\n"
          ],
          "name": "stdout"
        }
      ]
    },
    {
      "metadata": {
        "id": "kBkqeT3J0d5v",
        "colab_type": "code",
        "outputId": "75881f17-9762-438b-8ccc-aaf92a3fd15a",
        "colab": {
          "base_uri": "https://localhost:8080/",
          "height": 34
        }
      },
      "cell_type": "code",
      "source": [
        "input_lang.n_words"
      ],
      "execution_count": 17,
      "outputs": [
        {
          "output_type": "execute_result",
          "data": {
            "text/plain": [
              "85004"
            ]
          },
          "metadata": {
            "tags": []
          },
          "execution_count": 17
        }
      ]
    },
    {
      "metadata": {
        "id": "I_PL2_xh0d5y",
        "colab_type": "code",
        "outputId": "bb3819b6-ba5a-4fcb-b717-d031bec64ea1",
        "colab": {
          "base_uri": "https://localhost:8080/",
          "height": 34
        }
      },
      "cell_type": "code",
      "source": [
        "_, _, val_pairs = readLangs('ch', 'eng', 'dev')"
      ],
      "execution_count": 18,
      "outputs": [
        {
          "output_type": "stream",
          "text": [
            "Reading lines...\n"
          ],
          "name": "stdout"
        }
      ]
    },
    {
      "metadata": {
        "id": "pOhmDw7U0d50",
        "colab_type": "code",
        "colab": {}
      },
      "cell_type": "code",
      "source": [
        "val_pairs = val_pairs[:-1] # since last line is '',''"
      ],
      "execution_count": 0,
      "outputs": []
    },
    {
      "metadata": {
        "id": "FJv4sN4W0d52",
        "colab_type": "code",
        "outputId": "69dbe860-f7a4-406e-f8c8-f1a4767945c0",
        "colab": {
          "base_uri": "https://localhost:8080/",
          "height": 54
        }
      },
      "cell_type": "code",
      "source": [
        "print(random.choice(val_pairs))"
      ],
      "execution_count": 20,
      "outputs": [
        {
          "output_type": "stream",
          "text": [
            "['所以 如果 摄影师 就 在 这里   灯光 就 在 这里 - - 比如 漂亮 的 水银灯   客户 说 ： \" Cameron , 我 想要 一张 走路 时 的 快门 照 \"   这 条 修长 的 美腿 先 迈步 ， 这 条 手臂 放在 后面 ， 这 条 手臂 放 前面   露出 四分之三 侧脸 ， 来来回回 ，   就 这样 ， 然后 回头 看 你 臆想 中 的 朋友   300 ， 400 ， 500 次', 'So if the photographer is right there and the light is right there like a nice HMI and the client says quot Cameron we want a walking shot quot well then this leg goes first nice and long this arm goes back this arm goes forward the head is at three quarters and you just go back and forth just do that and then you look back at your imaginary friends times .']\n"
          ],
          "name": "stdout"
        }
      ]
    },
    {
      "metadata": {
        "id": "jfDxfYTp0d56",
        "colab_type": "code",
        "colab": {}
      },
      "cell_type": "code",
      "source": [
        "val_input = [normalizeChString(line) for line in open('/content/drive/My Drive/iwslt-zh-en/dev.tok.zh').read().split('\\n')]\n",
        "val_output = [normalizeEnString(line) for line in open('/content/drive/My Drive/iwslt-zh-en/dev.tok.en').read().split('\\n')]\n",
        "val_inputs = []\n",
        "val_outputs = []\n",
        "for element in zip(val_input, val_output):\n",
        "    val_inputs.append(element[0])\n",
        "    val_outputs.append(element[1])"
      ],
      "execution_count": 0,
      "outputs": []
    },
    {
      "metadata": {
        "id": "Rcv1eMzr0d59",
        "colab_type": "code",
        "colab": {}
      },
      "cell_type": "code",
      "source": [
        "# sorted_word2Count = sorted(output_lang.word2count.items(),\n",
        "#     key=operator.itemgetter(1),\n",
        "#     reverse=True)"
      ],
      "execution_count": 0,
      "outputs": []
    },
    {
      "metadata": {
        "id": "xNGhLdZT0d5_",
        "colab_type": "code",
        "colab": {}
      },
      "cell_type": "code",
      "source": [
        "# output_lang.word2index ###标点符号排第一 之后要改掉"
      ],
      "execution_count": 0,
      "outputs": []
    },
    {
      "metadata": {
        "id": "vmMewXau0d6E",
        "colab_type": "text"
      },
      "cell_type": "markdown",
      "source": [
        "# Preparing Training Data"
      ]
    },
    {
      "metadata": {
        "id": "SPnqKF_F0d6F",
        "colab_type": "code",
        "colab": {}
      },
      "cell_type": "code",
      "source": [
        "def indexesFromSentence(lang, sentence):\n",
        "    idxs = []\n",
        "    for word in sentence.split(' '):\n",
        "        try:\n",
        "            idxs.append(lang.word2index[word])\n",
        "        except KeyError:\n",
        "            idxs.append(3)  # 3 is the id of 'UNK'\n",
        "    idxs.append(EOS_token)\n",
        "    return idxs\n",
        "\n",
        "# def tensorFromSentence(lang, sentence):\n",
        "#     indexes = indexesFromSentence(lang, sentence)\n",
        "#     indexes.append(EOS_token)\n",
        "#     return torch.tensor(indexes, dtype=torch.long, device=device).view(-1, 1)\n",
        "\n",
        "\n",
        "# def tensorsFromPair(pair):\n",
        "#     input_tensor = tensorFromSentence(input_lang, pair[0])\n",
        "#     target_tensor = tensorFromSentence(output_lang, pair[1])\n",
        "#     return (input_tensor, target_tensor)\n",
        "\n",
        "class VocabDataset(Dataset):\n",
        "    def __init__(self, pairs):\n",
        "#         pairs = [tensorsFromPair(pair) for pair in pairs]\n",
        "#         self.source_sent_list = [i[0] for i in pairs]\n",
        "#         self.target_sent_list = [i[1] for i in pairs]\n",
        "        \n",
        "        self.source_sent_list = [indexesFromSentence(input_lang,pair[0]) for pair in pairs]\n",
        "        self.target_sent_list = [indexesFromSentence(output_lang,pair[1]) for pair in pairs]\n",
        "        \n",
        "    def __len__(self):\n",
        "        return len(self.source_sent_list)\n",
        "        \n",
        "    def __getitem__(self, key):\n",
        "        token1_idx = self.source_sent_list[key][:MAX_LENGTH]\n",
        "        token2_idx = self.target_sent_list[key][:MAX_LENGTH]\n",
        "        return [token1_idx,token2_idx, len(token1_idx), len(token2_idx)]\n",
        "\n",
        "    \n",
        "def Vocab_collate_func(batch):\n",
        "    source_sent_list = []\n",
        "    target_sent_list = []\n",
        "    source_len_list = []\n",
        "    target_len_list = []\n",
        "\n",
        "    for datum in batch:   ### batch = sample\n",
        "        source_len_list.append(datum[2])\n",
        "        target_len_list.append(datum[3])\n",
        "\n",
        "    # padding\n",
        "    for datum in batch:\n",
        "        \n",
        "        # source sentence processing\n",
        "        padded_source = np.pad(np.array(datum[0]), \n",
        "                                pad_width=((0,MAX_LENGTH-datum[2])),          ### 0代表左边没有pad,右边的值代表右边pad的个数\n",
        "                                mode=\"constant\", constant_values=PAD_token)\n",
        "        source_sent_list.append(padded_source)\n",
        "        \n",
        "        # target sentence processing\n",
        "        padded_target = np.pad(np.array(datum[1]), \n",
        "                                pad_width=((0,MAX_LENGTH-datum[3])),          ### 0代表左边没有pad,右边的值代表右边pad的个数\n",
        "                                mode=\"constant\", constant_values=PAD_token)\n",
        "        target_sent_list.append(padded_target)\n",
        "        \n",
        "    return [torch.tensor(source_sent_list,device = device), \n",
        "            torch.tensor(target_sent_list,device = device),\n",
        "            torch.LongTensor(source_len_list,device = device), \n",
        "            torch.LongTensor(target_len_list,device = device)]\n",
        "\n",
        "train_dataset = VocabDataset(pairs)\n",
        "train_loader = torch.utils.data.DataLoader(dataset=train_dataset, \n",
        "                                           batch_size=BATCH_SIZE,\n",
        "                                           collate_fn=Vocab_collate_func,\n",
        "                                           shuffle=True)\n",
        "\n",
        "val_dataset = VocabDataset(val_pairs)\n",
        "val_loader = torch.utils.data.DataLoader(dataset=val_dataset,\n",
        "                                        batch_size=BATCH_SIZE,\n",
        "                                        collate_fn=Vocab_collate_func,\n",
        "                                        shuffle=False)"
      ],
      "execution_count": 0,
      "outputs": []
    },
    {
      "metadata": {
        "id": "dPcWBT6j0d6H",
        "colab_type": "code",
        "colab": {}
      },
      "cell_type": "code",
      "source": [
        "for i,(inputs, outputs, len1, len2) in enumerate(train_loader):\n",
        "    a, b = outputs, len1\n",
        "    break"
      ],
      "execution_count": 0,
      "outputs": []
    },
    {
      "metadata": {
        "id": "KhuTjMyQ0d6J",
        "colab_type": "code",
        "outputId": "bebfb87c-e744-4ddc-92e4-98434a7c911f",
        "colab": {
          "base_uri": "https://localhost:8080/",
          "height": 136
        }
      },
      "cell_type": "code",
      "source": [
        "a"
      ],
      "execution_count": 26,
      "outputs": [
        {
          "output_type": "execute_result",
          "data": {
            "text/plain": [
              "tensor([[  19,   59, 1676,  ...,    0,    0,    0],\n",
              "        [  12,  107,    7,  ...,    0,    0,    0],\n",
              "        [4272,  471,  103,  ...,    0,    0,    0],\n",
              "        ...,\n",
              "        [  32,  211,   90,  ...,    0,    0,    0],\n",
              "        [  43,    6,   17,  ...,    0,    0,    0],\n",
              "        [  89,   25,  124,  ...,    0,    0,    0]], device='cuda:0')"
            ]
          },
          "metadata": {
            "tags": []
          },
          "execution_count": 26
        }
      ]
    },
    {
      "metadata": {
        "id": "WWFx2Btu0d6M",
        "colab_type": "code",
        "outputId": "d094702f-6f72-4818-d5fb-2e195dfb4900",
        "colab": {
          "base_uri": "https://localhost:8080/",
          "height": 204
        }
      },
      "cell_type": "code",
      "source": [
        "a[0,:]"
      ],
      "execution_count": 27,
      "outputs": [
        {
          "output_type": "execute_result",
          "data": {
            "text/plain": [
              "tensor([   19,    59,  1676,     9,   303,  1513,  1781,    81,   709,    65,\n",
              "         6718, 12125,     9,  3573,    43,   692,    23,     5,   333,   882,\n",
              "        17840, 14307,     4,     2,     0,     0,     0,     0,     0,     0,\n",
              "            0,     0,     0,     0,     0,     0,     0,     0,     0,     0,\n",
              "            0,     0,     0,     0,     0,     0,     0,     0,     0,     0,\n",
              "            0,     0,     0,     0,     0,     0,     0,     0,     0,     0,\n",
              "            0,     0,     0,     0,     0,     0,     0,     0,     0,     0,\n",
              "            0,     0,     0,     0,     0,     0,     0,     0,     0,     0,\n",
              "            0,     0,     0,     0,     0,     0,     0,     0,     0,     0,\n",
              "            0,     0,     0,     0,     0,     0,     0,     0,     0,     0],\n",
              "       device='cuda:0')"
            ]
          },
          "metadata": {
            "tags": []
          },
          "execution_count": 27
        }
      ]
    },
    {
      "metadata": {
        "id": "PhwZoZz_0d6Q",
        "colab_type": "text"
      },
      "cell_type": "markdown",
      "source": [
        "# Build Encoder-Decoder"
      ]
    },
    {
      "metadata": {
        "id": "NXNJ6Ea00d6Q",
        "colab_type": "code",
        "colab": {}
      },
      "cell_type": "code",
      "source": [
        "class EncoderRNN(nn.Module):\n",
        "    def __init__(self, input_size, hidden_size, n_layers=1, dropout=0):\n",
        "        super(EncoderRNN, self).__init__()\n",
        "        self.hidden_size = hidden_size\n",
        "        self.n_layers = n_layers\n",
        "        self.dropout = dropout\n",
        "        self.embedding = nn.Embedding(input_size, hidden_size)\n",
        "        self.gru = nn.GRU(hidden_size, hidden_size, n_layers, dropout=self.dropout, bidirectional=True)\n",
        "    def forward(self, input, input_lengths, hidden, batch_size):\n",
        "#         embedded = self.embedding(input).view(1, batch_size, -1)\n",
        "#         output = embedded\n",
        "#         output, hidden = self.gru(output, hidden)\n",
        "#         output = output[:, :, :self.hidden_size] + output[:, : ,self.hidden_size:]\n",
        "#         return output, hidden\n",
        "        #output: eq_len, batch, num_directions * hidden_size\n",
        "        #hidden: num_layers * num_directions, batch, hidden_size)\n",
        "        embedded = self.embedding(input)\n",
        "#        print(embedded.size())\n",
        "        _, idx_sort = torch.sort(input_lengths, dim=0, descending=True)\n",
        "        _, idx_unsort = torch.sort(idx_sort, dim=0)\n",
        "        input_lengths = list(input_lengths[idx_sort])\n",
        "#        print(input_lengths)\n",
        "        idx_sort = Variable(idx_sort)\n",
        "        idx_unsort = Variable(idx_unsort)\n",
        "        # Sort input\n",
        "        \n",
        "        embedded = embedded.index_select(1, idx_sort.cuda())\n",
        "\n",
        "        # Pack it up\n",
        "        rnn_input_0 = nn.utils.rnn.pack_padded_sequence(embedded, input_lengths)\n",
        "        # Encode\n",
        "        output, hidden = self.gru(rnn_input_0, hidden)\n",
        "#        print(output.size(),'before pad')\n",
        "        # Unpack\n",
        "        output, output_lengths = torch.nn.utils.rnn.pad_packed_sequence(output, total_length=MAX_LENGTH, batch_first=True)\n",
        "#        print(output.size(), 'after pad')\n",
        "        output = output[:, :, :self.hidden_size] + output[:, : ,self.hidden_size:]\n",
        "        # Unsort\n",
        "        output = output.index_select(0, idx_unsort.cuda()).permute(1,0,2).contiguous()\n",
        "        hidden = hidden.permute(1,0,2).index_select(0, idx_unsort.cuda()).permute(1,0,2).contiguous()\n",
        "#        print(output.size(),hidden.size())\n",
        "#        print(' max_len x batch_size x hidden_size','n_layers * 2 x batch_size x hidden_size')\n",
        "        return output, hidden\n",
        "       \n",
        "      \n",
        "    def initHidden(self, batch_size):\n",
        "        return torch.zeros(2, batch_size, self.hidden_size, device=device)"
      ],
      "execution_count": 0,
      "outputs": []
    },
    {
      "metadata": {
        "id": "4IpPRFDr0d6S",
        "colab_type": "code",
        "colab": {}
      },
      "cell_type": "code",
      "source": [
        "class AttnDecoderRNN(nn.Module):\n",
        "    def __init__(self, hidden_size, output_size, dropout_p=0, n_layers=1,max_length=MAX_LENGTH):\n",
        "        super(AttnDecoderRNN, self).__init__()\n",
        "        self.hidden_size = hidden_size\n",
        "        self.output_size = output_size\n",
        "        self.dropout_p = dropout_p\n",
        "        self.max_length = max_length\n",
        "        self.n_layers = n_layers\n",
        "        self.embedding = nn.Embedding(self.output_size, self.hidden_size)\n",
        "        self.attn = nn.Linear(self.hidden_size * 2, self.max_length)\n",
        "        self.attn_combine = nn.Linear(self.hidden_size * 2, self.hidden_size)\n",
        "        self.dropout = nn.Dropout(self.dropout_p)\n",
        "        self.gru = nn.GRU(self.hidden_size, self.hidden_size, n_layers, dropout=dropout_p)\n",
        "        self.out = nn.Linear(self.hidden_size, self.output_size)\n",
        "\n",
        "    def forward(self, input, hidden, encoder_outputs, batch_size):\n",
        "        embedded = self.embedding(input).view(1, batch_size, -1)\n",
        "        embedded = self.dropout(embedded)\n",
        "        \n",
        "#         embedded: torch.Size([1, 32, 256])\n",
        "#         hidden: torch.Size([2, 32, 256])\n",
        "        \n",
        "        attn_weights = F.softmax(\n",
        "            self.attn(torch.cat((embedded[0], hidden[-1]), 1)), dim=1)   \n",
        "#         attn_weights:torch.Size([32, 100])\n",
        "        attn_applied = torch.bmm(attn_weights.unsqueeze(1),\n",
        "                                 encoder_outputs.transpose(0,1))\n",
        "#         encoder_outputs: 100*32*256 attn_applied: 32*1*256\n",
        "        output = torch.cat((embedded[0], attn_applied.transpose(0,1)[0]), 1)\n",
        "\n",
        "        # output: 32*768\n",
        "        output = self.attn_combine(output).unsqueeze(0)\n",
        "        # output 1*32*256\n",
        "        output = F.relu(output)\n",
        "        output, hidden = self.gru(output, hidden)\n",
        "        output = F.log_softmax(self.out(output[0]), dim=1)\n",
        "#         output: torch.Size([32, 69126])\n",
        "#         hidden: torch.Size([1, 32, 256])\n",
        "        return output, hidden, attn_weights"
      ],
      "execution_count": 0,
      "outputs": []
    },
    {
      "metadata": {
        "id": "MalYOqBn0d6U",
        "colab_type": "text"
      },
      "cell_type": "markdown",
      "source": [
        "# Testing the models"
      ]
    },
    {
      "metadata": {
        "id": "d1GxY0qw0d6V",
        "colab_type": "text"
      },
      "cell_type": "markdown",
      "source": [
        "# Training Model"
      ]
    },
    {
      "metadata": {
        "id": "4ICvoIhH0d6W",
        "colab_type": "code",
        "colab": {}
      },
      "cell_type": "code",
      "source": [
        "import time\n",
        "import math\n",
        "\n",
        "\n",
        "def asMinutes(s):\n",
        "    m = math.floor(s / 60)\n",
        "    s -= m * 60\n",
        "    return '%dm %ds' % (m, s)\n",
        "\n",
        "\n",
        "def timeSince(since, percent):\n",
        "    now = time.time()\n",
        "    s = now - since\n",
        "    es = s / (percent)\n",
        "    rs = es - s\n",
        "    return '%s (- %s)' % (asMinutes(s), asMinutes(rs))"
      ],
      "execution_count": 0,
      "outputs": []
    },
    {
      "metadata": {
        "id": "qiiPjqOy0d6Y",
        "colab_type": "code",
        "colab": {}
      },
      "cell_type": "code",
      "source": [
        "# this is just one sentence input, could be batchlized \n",
        "def train(input_tensor, target_tensor, input_lengths, target_lengths, encoder, decoder, \n",
        "          encoder_optimizer, decoder_optimizer, criterion, clip=50.0, max_len=MAX_LENGTH, mask = None):\n",
        "    encoder_optimizer.zero_grad()  # zero out the accumulated gradient over mini-batch\n",
        "    decoder_optimizer.zero_grad()\n",
        "    \n",
        "    \n",
        "    batch_size = input_tensor.size(1)\n",
        "    input_tensor = input_tensor.cuda()\n",
        "    target_tensor = target_tensor.cuda()\n",
        "#     input_length = input_tensor.size(0) # length of source sentence\n",
        "#     target_length = target_tensor.size(0)\n",
        "\n",
        "\n",
        "#    encoder_outputs, encoder_hidden = encoder(input_tensor, input_lengths, 0)\n",
        "    encoder_hidden = encoder.initHidden(batch_size)\n",
        "    encoder_outputs = torch.zeros(max_len, batch_size, encoder.hidden_size, device=device) \n",
        " \n",
        "    # feed-forward layer resulting encoder outputs, ei refers to each word token in input sentence\n",
        "#     for ei in range(max_len):\n",
        "#         encoder_output, encoder_hidden = encoder(\n",
        "#             input_tensor[ei], encoder_hidden, batch_size)  \n",
        "#         encoder_outputs[ei] = encoder_output[0] \n",
        "  \n",
        "    encoder_outputs, encoder_hidden = encoder(input_tensor, input_lengths, encoder_hidden, batch_size)\n",
        "    #encoder_outputs:  # max_len x batch_size x hidden_size\n",
        "    #hidden: n_layers * 2 x batch_size x hidden_size\n",
        "    loss = 0\n",
        "\n",
        "    \n",
        "    \n",
        "    decoder_input = torch.tensor([[SOS_token]*batch_size], device=device)  # decoder_input: torch.Size([1, 32])\n",
        "    # init decoder hidden \n",
        "    decoder_hidden = encoder_hidden[:decoder.n_layers] # Use last (forward) hidden state from encoder\n",
        "    \n",
        "#    max_target_length = max(target_lengths)\n",
        "    all_decoder_outputs = Variable(torch.zeros(max_len, batch_size, decoder.output_size))\n",
        "    \n",
        "    \n",
        "    decoder_input = decoder_input.cuda()\n",
        "    all_decoder_outputs = all_decoder_outputs.cuda()\n",
        "    \n",
        "    use_teacher_forcing = True if random.random() < teacher_forcing_ratio else False\n",
        "    \n",
        "    if use_teacher_forcing:\n",
        "        # Teacher forcing: Feed the target as the next input\n",
        "        for di in range(max_len):\n",
        "            decoder_output, decoder_hidden, decoder_attention = decoder(\n",
        "                decoder_input, decoder_hidden, encoder_outputs, batch_size)\n",
        "            \n",
        "            decoder_input = target_tensor[di]  # Teacher forcing\n",
        "            all_decoder_outputs[di] = decoder_output\n",
        "#            temp_loss = criterion(decoder_output, target_tensor[di])\n",
        "#            loss += temp_loss * mask[di:di+1].float()  \n",
        "#            loss += temp_loss.float()\n",
        "#            ave_loss = loss.sum()/batch_size \n",
        "            \n",
        "    else:\n",
        "        # Without teacher forcing: use its own predictions as the next input\n",
        "        for di in range(max_len):\n",
        "            # decoder_input: torch.Size([1, 32])\n",
        "            # decoder_hidden: torch.Size([1, 32, 256]) 1 token * batch * hidden size\n",
        "            # encoder_outputs: torch.Size([100, 32, 512])\n",
        "            decoder_output, decoder_hidden, decoder_attention = decoder(\n",
        "                decoder_input, decoder_hidden, encoder_outputs, batch_size)\n",
        "            topv, topi = decoder_output.topk(1)\n",
        "            # topv: 32*1\n",
        "            # topi: 32*1\n",
        "\n",
        "            decoder_input = topi.squeeze().detach()  # detach from history as input\n",
        "            all_decoder_outputs[di] = decoder_output\n",
        "            # decoder_input: 32\n",
        "            # target_tensor: 100*32\n",
        "            # decoder_output: 32*69127 \n",
        "#            temp_loss = criterion(decoder_output, target_tensor[di])\n",
        "#            loss += temp_loss * mask[di:di+1].float()\n",
        "#            loss += temp_loss.float()\n",
        "            # loss size 1*32\n",
        "#            ave_loss = loss.sum()/batch_size  \n",
        "            \n",
        "    # Loss calculation and backpropagation\n",
        "\n",
        "    loss = masked_cross_entropy(\n",
        "        all_decoder_outputs.transpose(0, 1).contiguous(), # -> batch x seq\n",
        "        target_tensor.transpose(0, 1).contiguous(), # -> batch x seq\n",
        "        target_lengths\n",
        "    )\n",
        "    loss.backward()\n",
        "    #    ave_loss.backward()\n",
        "    \n",
        "    # Clip gradient norms\n",
        "    ec = torch.nn.utils.clip_grad_norm_(encoder.parameters(), clip)\n",
        "    dc = torch.nn.utils.clip_grad_norm_(decoder.parameters(), clip)\n",
        "\n",
        "\n",
        "    \n",
        "    encoder_optimizer.step()   # update parameters\n",
        "    decoder_optimizer.step()\n",
        "\n",
        "    return loss.data[0]"
      ],
      "execution_count": 0,
      "outputs": []
    },
    {
      "metadata": {
        "id": "HmHvipVe0d6a",
        "colab_type": "code",
        "colab": {}
      },
      "cell_type": "code",
      "source": [
        "def trainIters(encoder, decoder, n_iters, print_every=100, plot_every=100, learning_rate=0.001, evaluate_every=3000):\n",
        "    start = time.time()\n",
        "\n",
        "    encoder_optimizer = optim.Adam(encoder.parameters(), lr=learning_rate)\n",
        "    decoder_optimizer = optim.Adam(decoder.parameters(), lr=learning_rate)\n",
        "    criterion = nn.NLLLoss(reduction='none') ##!!!!!!!!!!1 这个loss是否要换成crossentropy\n",
        "  \n",
        "    encoder.cuda()\n",
        "    decoder.cuda()\n",
        "    validation_scores = []\n",
        "    for epoch in range(1, n_iters + 1):\n",
        "        plot_losses = []\n",
        "        print_loss_total = 0  # Reset every print_every\n",
        "        plot_loss_total = 0  # Reset every plot_every\n",
        "        \n",
        "        for i, (input_sentences, target_sentences,len1,len2) in enumerate(train_loader): \n",
        "            input_tensor = input_sentences.transpose(0,1)   # 13*100 to 100*13\n",
        "            target_tensor = target_sentences.transpose(0,1)\n",
        "            mask = target_tensor.ge(1)   # 100 * 13\n",
        "            loss = train(input_tensor, target_tensor, len1, len2, encoder,\n",
        "                         decoder, encoder_optimizer, decoder_optimizer, criterion, mask = mask)\n",
        "            print_loss_total += loss\n",
        "            plot_loss_total += loss\n",
        "            \n",
        "            \n",
        "            if i > 0 and i % evaluate_every == 0:\n",
        "                bleu_score, (sys_sents, ref_sents) = test_model(encoder, decoder, val_loader)\n",
        "                print('Validation Score: {} \\n predicted sentence {} \\n Reference sentence: {}'.format(bleu_score, sys_sents, ref_sents))\n",
        "                validation_scores.append(bleu_score)\n",
        "            \n",
        "            if i > 0 and i % print_every == 0:\n",
        "                print_loss_avg = print_loss_total / print_every\n",
        "                print_loss_total = 0\n",
        "#                bleu_score, (sys_sents, ref_sents) = test_model(encoder, decoder, val_loader)\n",
        "                print('Time: {}, Epoch: [{}/{}], Step: [{}/{}], Train Loss: {}'.format(\n",
        "                    timeSince(start, i + 1/len(train_loader)), epoch, n_iters, i, \n",
        "                    len(train_loader),print_loss_avg))\n",
        "\n",
        "            if i > 0 and i % plot_every == 0:\n",
        "                plot_loss_avg = plot_loss_total / plot_every\n",
        "                plot_losses.append(plot_loss_avg)\n",
        "                plot_loss_total = 0\n",
        "                \n",
        "        print(plot_losses)\n",
        "        showPlot(plot_losses)"
      ],
      "execution_count": 0,
      "outputs": []
    },
    {
      "metadata": {
        "id": "mj8OwEU_0d6d",
        "colab_type": "text"
      },
      "cell_type": "markdown",
      "source": [
        "# Plotting results"
      ]
    },
    {
      "metadata": {
        "id": "bDqy1HHH0d6e",
        "colab_type": "code",
        "colab": {}
      },
      "cell_type": "code",
      "source": [
        "import matplotlib.pyplot as plt\n",
        "plt.switch_backend('agg')\n",
        "import matplotlib.ticker as ticker\n",
        "import numpy as np\n",
        "\n",
        "\n",
        "def showPlot(points):\n",
        "    plt.figure()\n",
        "    fig, ax = plt.subplots()\n",
        "    # this locator puts ticks at regular intervals\n",
        "    loc = ticker.MultipleLocator(base=0.2)\n",
        "    ax.yaxis.set_major_locator(loc)\n",
        "    plt.plot(points)"
      ],
      "execution_count": 0,
      "outputs": []
    },
    {
      "metadata": {
        "id": "L_-Y9XII0d6g",
        "colab_type": "text"
      },
      "cell_type": "markdown",
      "source": [
        "# Evaluation"
      ]
    },
    {
      "metadata": {
        "id": "muc68_Oz0d6h",
        "colab_type": "code",
        "colab": {}
      },
      "cell_type": "code",
      "source": [
        "def get_batch_outputs(encoder, decoder, input_sentences, input_lengths, max_length=MAX_LENGTH): \n",
        "    with torch.no_grad():\n",
        "        input_tensor = input_sentences.transpose(0,1)   # 32*100 to 100*32\n",
        "        batch_size = input_tensor.size(1)\n",
        "        encoder_hidden = encoder.initHidden(batch_size)\n",
        "        input_tensor = input_tensor.cuda()\n",
        "#        input_length = input_tensor.size(0) # length of source sentence\n",
        "#        encoder_outputs = torch.zeros(max_length, batch_size, encoder.hidden_size, device=device) \n",
        "        \n",
        "#         for ei in range(max_length):\n",
        "#             encoder_output, encoder_hidden = encoder(input_tensor[ei], \n",
        "#                                                      encoder_hidden, batch_size)  \n",
        "#             encoder_outputs[ei] = encoder_output[0] \n",
        "        encoder_outputs, encoder_hidden = encoder(input_tensor, input_lengths, encoder_hidden, batch_size)\n",
        "   \n",
        "\n",
        "            \n",
        "        decoder_input = torch.tensor([[SOS_token]*batch_size], device=device)  # decoder_input: torch.Size([1, 32])\n",
        "        decoder_hidden = encoder_hidden[:decoder.n_layers]\n",
        "        \n",
        "        decoded_words = np.empty((max_length, batch_size), dtype=object)\n",
        "        \n",
        "        for di in range(max_length):\n",
        "            decoder_output, decoder_hidden, decoder_attention = decoder(\n",
        "                decoder_input, decoder_hidden, encoder_outputs, batch_size)\n",
        "            topv, topi = decoder_output.topk(1)\n",
        "\n",
        "#            topi_lst = topi.squeeze().detach().tolist()\n",
        "            decoder_input = topi.squeeze().detach().cuda()  # detach from history as input\n",
        "            \n",
        "            decoded_words[di:] = np.array(['<EOS>' if idx==EOS_token else output_lang.index2word[idx] for idx in decoder_input.tolist()])\n",
        "        \n",
        "        return decoded_words.transpose()\n",
        "        "
      ],
      "execution_count": 0,
      "outputs": []
    },
    {
      "metadata": {
        "id": "ce-QyODD0d6l",
        "colab_type": "code",
        "colab": {}
      },
      "cell_type": "code",
      "source": [
        "def test_model(encoder, decoder, loader):\n",
        "    score = []\n",
        "    for i, (input_sentences, target_sentences, len1, len2) in enumerate(loader):\n",
        "        batch_size = input_sentences.size(0)\n",
        "#        print(batch_size)\n",
        "        sys_sentences = []\n",
        "        for sentence in get_batch_outputs(encoder, decoder, input_sentences, len1):\n",
        "            try:\n",
        "                end_idx = sentence.tolist().index('<EOS>')\n",
        "                sys_sentences.append(' '.join(sentence[:end_idx]))\n",
        "            except ValueError:\n",
        "                sys_sentences.append(' '.join(sentence))\n",
        "#        sys_sentences = [' '.join(sentence) for sentence in get_batch_outputs(encoder, decoder, input_sentences)]\n",
        "        ref_sentences = [val_pair[1] for val_pair in val_pairs[i*batch_size:(i+1)*batch_size]]\n",
        "#        print(ref_sentences)\n",
        "        score_batch = [sacrebleu.corpus_bleu([sys],[[ref]]).score for sys, ref in zip(sys_sentences, ref_sentences)]\n",
        "        score.append(sum(score_batch)/len(score_batch))\n",
        "    return sum(score)/len(score), (sys_sentences[1], ref_sentences[1])\n"
      ],
      "execution_count": 0,
      "outputs": []
    },
    {
      "metadata": {
        "id": "6cykvCm-0d6m",
        "colab_type": "code",
        "colab": {}
      },
      "cell_type": "code",
      "source": [
        "# encoder1 = EncoderRNN(input_lang.n_words, hidden_size).to(device)\n",
        "# attn_decoder1 = AttnDecoderRNN(hidden_size, output_lang.n_words, dropout_p=0).to(device)\n",
        "\n",
        "# test_model(encoder1, attn_decoder1, val_loader)"
      ],
      "execution_count": 0,
      "outputs": []
    },
    {
      "metadata": {
        "id": "-KxLg71I0d6q",
        "colab_type": "code",
        "colab": {}
      },
      "cell_type": "code",
      "source": [
        "# def evaluateRandomly(encoder, decoder, n=10):\n",
        "#     for i in range(n):\n",
        "#         pair = random.choice(pairs)\n",
        "#         print('>', pair[0])\n",
        "#         print('=', pair[1])\n",
        "#         output_words = generate_output(encoder, decoder, pairs)\n",
        "#         output_sentence = ' '.join(output_words)\n",
        "#         print('<', output_sentence)\n",
        "#         print('')"
      ],
      "execution_count": 0,
      "outputs": []
    },
    {
      "metadata": {
        "id": "MxNmz53S0d6r",
        "colab_type": "code",
        "colab": {}
      },
      "cell_type": "code",
      "source": [
        ""
      ],
      "execution_count": 0,
      "outputs": []
    },
    {
      "metadata": {
        "id": "hjafDuaU0d6s",
        "colab_type": "text"
      },
      "cell_type": "markdown",
      "source": [
        "# TRAINING AND EVALUATING"
      ]
    },
    {
      "metadata": {
        "id": "T3iWCiIQ0d6t",
        "colab_type": "code",
        "outputId": "00558e7a-cd8d-42e1-b7e6-15d8d51f3682",
        "colab": {
          "base_uri": "https://localhost:8080/",
          "height": 1516
        }
      },
      "cell_type": "code",
      "source": [
        "encoder1 = EncoderRNN(input_lang.n_words, hidden_size).to(device)\n",
        "attn_decoder1 = AttnDecoderRNN(hidden_size, output_lang.n_words, dropout_p=0).to(device)\n",
        "\n",
        "trainIters(encoder1, attn_decoder1, 3, print_every=100, plot_every=1)\n",
        "\n",
        "torch.save(encoder1.state_dict(), \"saved_model/encoder_hiddenSize{}\".format(hidden_size))\n",
        "torch.save(attn_decoder1.state_dict(), \"saved_model/attn_decoder_hiddenSize{}\".format(hidden_size))"
      ],
      "execution_count": 0,
      "outputs": [
        {
          "output_type": "stream",
          "text": [
            "/usr/local/lib/python3.6/dist-packages/ipykernel_launcher.py:99: UserWarning: invalid index of a 0-dim tensor. This will be an error in PyTorch 0.5. Use tensor.item() to convert a 0-dim tensor to a Python number\n"
          ],
          "name": "stderr"
        },
        {
          "output_type": "stream",
          "text": [
            "Time: 4m 13s (- -5m 48s), Epoch: [1/3], Step: [100/6669], Train Loss: 7.174850940704346\n",
            "Time: 8m 23s (- -9m 39s), Epoch: [1/3], Step: [200/6669], Train Loss: 6.453495502471924\n",
            "Time: 12m 33s (- -13m 29s), Epoch: [1/3], Step: [300/6669], Train Loss: 6.287192344665527\n",
            "Time: 16m 42s (- -17m 20s), Epoch: [1/3], Step: [400/6669], Train Loss: 6.103544235229492\n",
            "Time: 20m 52s (- -21m 9s), Epoch: [1/3], Step: [500/6669], Train Loss: 6.026916980743408\n",
            "Time: 25m 2s (- -26m 59s), Epoch: [1/3], Step: [600/6669], Train Loss: 5.870747089385986\n",
            "Time: 29m 13s (- -30m 49s), Epoch: [1/3], Step: [700/6669], Train Loss: 5.850930690765381\n",
            "Time: 33m 22s (- -34m 40s), Epoch: [1/3], Step: [800/6669], Train Loss: 5.753537654876709\n",
            "Time: 37m 31s (- -38m 30s), Epoch: [1/3], Step: [900/6669], Train Loss: 5.763922691345215\n",
            "Time: 41m 41s (- -42m 20s), Epoch: [1/3], Step: [1000/6669], Train Loss: 5.6264190673828125\n",
            "Time: 45m 51s (- -46m 10s), Epoch: [1/3], Step: [1100/6669], Train Loss: 5.634407997131348\n",
            "Time: 50m 2s (- -50m 0s), Epoch: [1/3], Step: [1200/6669], Train Loss: 5.702075004577637\n",
            "Time: 54m 12s (- -55m 50s), Epoch: [1/3], Step: [1300/6669], Train Loss: 5.616243839263916\n",
            "Time: 58m 21s (- -59m 41s), Epoch: [1/3], Step: [1400/6669], Train Loss: 5.510743141174316\n",
            "Time: 62m 30s (- -63m 32s), Epoch: [1/3], Step: [1500/6669], Train Loss: 5.513740539550781\n",
            "Time: 66m 40s (- -67m 22s), Epoch: [1/3], Step: [1600/6669], Train Loss: 5.522718906402588\n",
            "Time: 70m 49s (- -71m 12s), Epoch: [1/3], Step: [1700/6669], Train Loss: 5.4968976974487305\n",
            "Time: 75m 0s (- -75m 2s), Epoch: [1/3], Step: [1800/6669], Train Loss: 5.545958042144775\n",
            "Time: 79m 9s (- -80m 53s), Epoch: [1/3], Step: [1900/6669], Train Loss: 5.419707298278809\n",
            "Time: 83m 18s (- -84m 43s), Epoch: [1/3], Step: [2000/6669], Train Loss: 5.4362711906433105\n",
            "Time: 87m 27s (- -88m 34s), Epoch: [1/3], Step: [2100/6669], Train Loss: 5.379706859588623\n",
            "Time: 91m 37s (- -92m 24s), Epoch: [1/3], Step: [2200/6669], Train Loss: 5.4689435958862305\n",
            "Time: 95m 48s (- -96m 13s), Epoch: [1/3], Step: [2300/6669], Train Loss: 5.469282627105713\n",
            "Time: 99m 59s (- -100m 3s), Epoch: [1/3], Step: [2400/6669], Train Loss: 5.374314308166504\n",
            "Time: 104m 9s (- -105m 53s), Epoch: [1/3], Step: [2500/6669], Train Loss: 5.404109001159668\n",
            "Time: 108m 18s (- -109m 43s), Epoch: [1/3], Step: [2600/6669], Train Loss: 5.350379467010498\n",
            "Time: 112m 28s (- -113m 34s), Epoch: [1/3], Step: [2700/6669], Train Loss: 5.364808082580566\n",
            "Time: 116m 38s (- -117m 24s), Epoch: [1/3], Step: [2800/6669], Train Loss: 5.3408427238464355\n",
            "Time: 120m 48s (- -121m 14s), Epoch: [1/3], Step: [2900/6669], Train Loss: 5.339382648468018\n",
            "Validation Score: 4.7408676939383225 \n",
            " predicted sentence Because I apos m going to to of and and I and and and and I and and I I and I I and I I \n",
            " Reference sentence: So I set it up in my home two years ago and since then we have never experienced any problem with lions .\n",
            "Time: 125m 16s (- -126m 45s), Epoch: [1/3], Step: [3000/6669], Train Loss: 5.279345512390137\n",
            "Time: 129m 26s (- -130m 35s), Epoch: [1/3], Step: [3100/6669], Train Loss: 5.3477091789245605\n",
            "Time: 133m 35s (- -134m 26s), Epoch: [1/3], Step: [3200/6669], Train Loss: 5.177724361419678\n",
            "Time: 137m 44s (- -138m 17s), Epoch: [1/3], Step: [3300/6669], Train Loss: 5.247522354125977\n",
            "Time: 141m 54s (- -142m 7s), Epoch: [1/3], Step: [3400/6669], Train Loss: 5.338008403778076\n",
            "Time: 146m 5s (- -147m 56s), Epoch: [1/3], Step: [3500/6669], Train Loss: 5.450040340423584\n",
            "Time: 150m 15s (- -151m 47s), Epoch: [1/3], Step: [3600/6669], Train Loss: 5.251007080078125\n",
            "Time: 154m 24s (- -155m 37s), Epoch: [1/3], Step: [3700/6669], Train Loss: 5.176998138427734\n",
            "Time: 158m 33s (- -159m 28s), Epoch: [1/3], Step: [3800/6669], Train Loss: 5.173547744750977\n",
            "Time: 162m 43s (- -163m 19s), Epoch: [1/3], Step: [3900/6669], Train Loss: 5.21205472946167\n",
            "Time: 166m 53s (- -167m 9s), Epoch: [1/3], Step: [4000/6669], Train Loss: 5.290165901184082\n",
            "Time: 171m 2s (- -172m 59s), Epoch: [1/3], Step: [4100/6669], Train Loss: 5.18278169631958\n",
            "Time: 175m 13s (- -176m 49s), Epoch: [1/3], Step: [4200/6669], Train Loss: 5.269313335418701\n",
            "Time: 179m 22s (- -180m 40s), Epoch: [1/3], Step: [4300/6669], Train Loss: 5.13016414642334\n",
            "Time: 183m 30s (- -184m 31s), Epoch: [1/3], Step: [4400/6669], Train Loss: 5.125547885894775\n",
            "Time: 187m 39s (- -188m 22s), Epoch: [1/3], Step: [4500/6669], Train Loss: 5.107428073883057\n",
            "Time: 191m 48s (- -192m 14s), Epoch: [1/3], Step: [4600/6669], Train Loss: 5.0411529541015625\n",
            "Time: 195m 57s (- -196m 5s), Epoch: [1/3], Step: [4700/6669], Train Loss: 5.134128093719482\n",
            "Time: 200m 6s (- -201m 55s), Epoch: [1/3], Step: [4800/6669], Train Loss: 5.16109561920166\n",
            "Time: 204m 16s (- -205m 46s), Epoch: [1/3], Step: [4900/6669], Train Loss: 5.132725715637207\n",
            "Time: 208m 25s (- -209m 36s), Epoch: [1/3], Step: [5000/6669], Train Loss: 5.104465961456299\n",
            "Time: 212m 33s (- -213m 28s), Epoch: [1/3], Step: [5100/6669], Train Loss: 4.9470648765563965\n",
            "Time: 216m 43s (- -217m 19s), Epoch: [1/3], Step: [5200/6669], Train Loss: 5.159302234649658\n",
            "Time: 220m 51s (- -221m 10s), Epoch: [1/3], Step: [5300/6669], Train Loss: 5.015168190002441\n",
            "Time: 225m 1s (- -225m 1s), Epoch: [1/3], Step: [5400/6669], Train Loss: 5.135199069976807\n",
            "Time: 229m 9s (- -230m 52s), Epoch: [1/3], Step: [5500/6669], Train Loss: 5.041192054748535\n",
            "Time: 233m 18s (- -234m 43s), Epoch: [1/3], Step: [5600/6669], Train Loss: 5.083570957183838\n",
            "Time: 237m 28s (- -238m 33s), Epoch: [1/3], Step: [5700/6669], Train Loss: 5.163107395172119\n",
            "Time: 241m 36s (- -242m 25s), Epoch: [1/3], Step: [5800/6669], Train Loss: 5.046329975128174\n",
            "Time: 245m 46s (- -246m 16s), Epoch: [1/3], Step: [5900/6669], Train Loss: 5.142218589782715\n",
            "Validation Score: 5.276351017215426 \n",
            " predicted sentence Because I apos m a I I my my my and and and her and her her her her her her her her her her her her her her her her her her her her her her to her . . . . \n",
            " Reference sentence: So I set it up in my home two years ago and since then we have never experienced any problem with lions .\n",
            "Time: 250m 14s (- -251m 47s), Epoch: [1/3], Step: [6000/6669], Train Loss: 5.118791103363037\n",
            "Time: 254m 23s (- -255m 38s), Epoch: [1/3], Step: [6100/6669], Train Loss: 5.060037136077881\n",
            "Time: 258m 32s (- -259m 30s), Epoch: [1/3], Step: [6200/6669], Train Loss: 5.022414207458496\n",
            "Time: 262m 41s (- -263m 21s), Epoch: [1/3], Step: [6300/6669], Train Loss: 5.101818561553955\n",
            "Time: 266m 50s (- -267m 11s), Epoch: [1/3], Step: [6400/6669], Train Loss: 5.111869812011719\n",
            "Time: 270m 59s (- -271m 2s), Epoch: [1/3], Step: [6500/6669], Train Loss: 5.0054707527160645\n",
            "Time: 275m 9s (- -276m 52s), Epoch: [1/3], Step: [6600/6669], Train Loss: 5.053767204284668\n",
            "[tensor(21.9178, device='cuda:0'), tensor(10.8515, device='cuda:0'), tensor(10.7446, device='cuda:0'), tensor(10.5373, device='cuda:0'), tensor(10.1618, device='cuda:0'), tensor(9.7292, device='cuda:0'), tensor(9.2666, device='cuda:0'), tensor(8.9611, device='cuda:0'), tensor(8.4737, device='cuda:0'), tensor(8.4410, device='cuda:0'), tensor(7.9658, device='cuda:0'), tensor(7.6751, device='cuda:0'), tensor(7.5584, device='cuda:0'), tensor(7.4143, device='cuda:0'), tensor(7.0593, device='cuda:0'), tensor(6.9210, device='cuda:0'), tensor(7.0043, device='cuda:0'), tensor(7.0053, device='cuda:0'), tensor(6.7163, device='cuda:0'), tensor(6.4882, device='cuda:0'), tensor(6.6578, device='cuda:0'), tensor(6.8021, device='cuda:0'), tensor(6.7340, device='cuda:0'), tensor(6.8964, device='cuda:0'), tensor(6.6600, device='cuda:0'), tensor(6.9018, device='cuda:0'), tensor(6.9416, device='cuda:0'), tensor(6.9428, device='cuda:0'), tensor(6.8319, device='cuda:0'), tensor(6.6204, device='cuda:0'), tensor(6.4151, device='cuda:0'), tensor(7.0551, device='cuda:0'), tensor(6.7208, device='cuda:0'), tensor(7.0960, device='cuda:0'), tensor(7.0785, device='cuda:0'), tensor(6.7776, device='cuda:0'), tensor(6.6143, device='cuda:0'), tensor(6.4878, device='cuda:0'), tensor(6.9148, device='cuda:0'), tensor(6.6775, device='cuda:0'), tensor(6.8988, device='cuda:0'), tensor(7.1019, device='cuda:0'), tensor(6.8156, device='cuda:0'), tensor(6.7585, device='cuda:0'), tensor(6.7655, device='cuda:0'), tensor(6.8296, device='cuda:0'), tensor(6.6701, device='cuda:0'), tensor(6.8136, device='cuda:0'), tensor(6.7085, device='cuda:0'), tensor(6.9273, device='cuda:0'), tensor(6.6723, device='cuda:0'), tensor(6.7925, device='cuda:0'), tensor(6.9656, device='cuda:0'), tensor(6.7713, device='cuda:0'), tensor(6.5915, device='cuda:0'), tensor(6.7144, device='cuda:0'), tensor(6.7288, device='cuda:0'), tensor(6.7118, device='cuda:0'), tensor(6.7736, device='cuda:0'), tensor(6.7418, device='cuda:0'), tensor(6.7156, device='cuda:0'), tensor(6.8723, device='cuda:0'), tensor(6.7383, device='cuda:0'), tensor(6.6849, device='cuda:0'), tensor(6.4490, device='cuda:0'), tensor(6.7418, device='cuda:0'), tensor(6.5790, device='cuda:0'), tensor(6.5613, device='cuda:0'), tensor(6.6862, device='cuda:0'), tensor(6.3966, device='cuda:0'), tensor(6.5949, device='cuda:0'), tensor(6.6026, device='cuda:0'), tensor(6.6654, device='cuda:0'), tensor(6.6294, device='cuda:0'), tensor(6.4374, device='cuda:0'), tensor(6.8385, device='cuda:0'), tensor(6.8603, device='cuda:0'), tensor(6.6104, device='cuda:0'), tensor(6.7085, device='cuda:0'), tensor(6.7327, device='cuda:0'), tensor(6.5847, device='cuda:0'), tensor(6.5133, device='cuda:0'), tensor(6.7131, device='cuda:0'), tensor(6.5293, device='cuda:0'), tensor(6.5681, device='cuda:0'), tensor(6.5492, device='cuda:0'), tensor(6.6157, device='cuda:0'), tensor(6.4912, device='cuda:0'), tensor(6.3754, device='cuda:0'), tensor(6.5372, device='cuda:0'), tensor(6.7287, device='cuda:0'), tensor(6.8559, device='cuda:0'), tensor(6.4662, device='cuda:0'), tensor(6.3447, device='cuda:0'), tensor(6.8158, device='cuda:0'), tensor(6.4807, device='cuda:0'), tensor(6.5808, device='cuda:0'), tensor(7.0496, device='cuda:0'), tensor(6.4926, device='cuda:0'), tensor(6.6163, device='cuda:0'), tensor(6.5709, device='cuda:0'), tensor(6.4547, device='cuda:0'), tensor(6.2043, device='cuda:0'), tensor(6.7507, device='cuda:0'), tensor(6.5886, device='cuda:0'), tensor(6.3910, device='cuda:0'), tensor(6.5546, device='cuda:0'), tensor(6.5545, device='cuda:0'), tensor(6.4389, device='cuda:0'), tensor(6.5780, device='cuda:0'), tensor(6.6696, device='cuda:0'), tensor(6.4620, device='cuda:0'), tensor(6.4170, device='cuda:0'), tensor(6.5813, device='cuda:0'), tensor(6.5749, device='cuda:0'), tensor(6.6113, device='cuda:0'), tensor(6.5025, device='cuda:0'), tensor(6.2475, device='cuda:0'), tensor(6.7055, device='cuda:0'), tensor(6.6004, device='cuda:0'), tensor(6.7719, device='cuda:0'), tensor(6.2842, device='cuda:0'), tensor(6.2984, device='cuda:0'), tensor(6.8323, device='cuda:0'), tensor(6.4837, device='cuda:0'), tensor(6.3472, device='cuda:0'), tensor(6.5699, device='cuda:0'), tensor(6.5105, device='cuda:0'), tensor(6.5954, device='cuda:0'), tensor(6.2801, device='cuda:0'), tensor(6.8004, device='cuda:0'), tensor(6.3098, device='cuda:0'), tensor(6.2587, device='cuda:0'), tensor(6.7498, device='cuda:0'), tensor(6.2801, device='cuda:0'), tensor(6.5202, device='cuda:0'), tensor(6.5997, device='cuda:0'), tensor(6.5417, device='cuda:0'), tensor(6.5233, device='cuda:0'), tensor(6.2968, device='cuda:0'), tensor(6.5537, device='cuda:0'), tensor(6.3695, device='cuda:0'), tensor(6.7562, device='cuda:0'), tensor(6.3994, device='cuda:0'), tensor(6.4424, device='cuda:0'), tensor(6.4804, device='cuda:0'), tensor(6.2769, device='cuda:0'), tensor(6.1992, device='cuda:0'), tensor(6.9730, device='cuda:0'), tensor(6.6741, device='cuda:0'), tensor(6.3180, device='cuda:0'), tensor(6.4310, device='cuda:0'), tensor(6.5348, device='cuda:0'), tensor(6.4745, device='cuda:0'), tensor(6.3805, device='cuda:0'), tensor(6.2621, device='cuda:0'), tensor(6.3299, device='cuda:0'), tensor(6.2708, device='cuda:0'), tensor(6.3141, device='cuda:0'), tensor(6.5817, device='cuda:0'), tensor(6.5613, device='cuda:0'), tensor(6.6355, device='cuda:0'), tensor(6.1342, device='cuda:0'), tensor(6.1753, device='cuda:0'), tensor(6.8034, device='cuda:0'), tensor(6.4100, device='cuda:0'), tensor(6.3061, device='cuda:0'), tensor(6.3566, device='cuda:0'), tensor(6.6486, device='cuda:0'), tensor(6.3754, device='cuda:0'), tensor(6.4903, device='cuda:0'), tensor(6.3888, device='cuda:0'), tensor(6.3913, device='cuda:0'), tensor(6.4262, device='cuda:0'), tensor(6.5783, device='cuda:0'), tensor(6.2175, device='cuda:0'), tensor(6.5342, device='cuda:0'), tensor(6.3810, device='cuda:0'), tensor(6.7725, device='cuda:0'), tensor(6.2320, device='cuda:0'), tensor(6.6079, device='cuda:0'), tensor(6.4024, device='cuda:0'), tensor(6.7571, device='cuda:0'), tensor(6.3692, device='cuda:0'), tensor(6.3608, device='cuda:0'), tensor(6.3229, device='cuda:0'), tensor(6.3195, device='cuda:0'), tensor(6.2772, device='cuda:0'), tensor(6.0842, device='cuda:0'), tensor(6.2404, device='cuda:0'), tensor(6.3753, device='cuda:0'), tensor(6.3030, device='cuda:0'), tensor(5.9990, device='cuda:0'), tensor(6.0252, device='cuda:0'), tensor(6.6321, device='cuda:0'), tensor(6.3428, device='cuda:0'), tensor(6.5438, device='cuda:0'), tensor(6.4492, device='cuda:0'), tensor(6.5074, device='cuda:0'), tensor(6.2775, device='cuda:0'), tensor(6.4378, device='cuda:0'), tensor(6.4973, device='cuda:0'), tensor(6.4124, device='cuda:0'), tensor(6.4759, device='cuda:0'), tensor(6.4523, device='cuda:0'), tensor(6.3995, device='cuda:0'), tensor(6.4072, device='cuda:0'), tensor(6.7285, device='cuda:0'), tensor(6.4319, device='cuda:0'), tensor(6.5071, device='cuda:0'), tensor(6.5950, device='cuda:0'), tensor(6.5631, device='cuda:0'), tensor(6.3979, device='cuda:0'), tensor(6.2523, device='cuda:0'), tensor(6.3428, device='cuda:0'), tensor(6.3802, device='cuda:0'), tensor(6.5041, device='cuda:0'), tensor(6.4046, device='cuda:0'), tensor(6.4292, device='cuda:0'), tensor(6.3389, device='cuda:0'), tensor(6.3620, device='cuda:0'), tensor(6.5934, device='cuda:0'), tensor(6.1498, device='cuda:0'), tensor(6.0660, device='cuda:0'), tensor(6.2218, device='cuda:0'), tensor(6.5359, device='cuda:0'), tensor(6.3896, device='cuda:0'), tensor(6.5516, device='cuda:0'), tensor(6.1669, device='cuda:0'), tensor(6.5727, device='cuda:0'), tensor(6.2047, device='cuda:0'), tensor(6.2710, device='cuda:0'), tensor(6.1578, device='cuda:0'), tensor(6.2035, device='cuda:0'), tensor(6.4272, device='cuda:0'), tensor(5.9947, device='cuda:0'), tensor(6.2755, device='cuda:0'), tensor(6.3162, device='cuda:0'), tensor(6.2144, device='cuda:0'), tensor(6.6539, device='cuda:0'), tensor(6.2186, device='cuda:0'), tensor(6.6244, device='cuda:0'), tensor(6.4642, device='cuda:0'), tensor(6.0726, device='cuda:0'), tensor(6.2547, device='cuda:0'), tensor(6.3233, device='cuda:0'), tensor(6.4154, device='cuda:0'), tensor(6.4760, device='cuda:0'), tensor(5.9603, device='cuda:0'), tensor(5.9920, device='cuda:0'), tensor(6.2102, device='cuda:0'), tensor(6.3476, device='cuda:0'), tensor(6.1354, device='cuda:0'), tensor(6.3204, device='cuda:0'), tensor(5.9897, device='cuda:0'), tensor(6.4297, device='cuda:0'), tensor(6.2568, device='cuda:0'), tensor(6.1845, device='cuda:0'), tensor(6.6094, device='cuda:0'), tensor(6.1937, device='cuda:0'), tensor(6.3097, device='cuda:0'), tensor(6.2263, device='cuda:0'), tensor(6.0045, device='cuda:0'), tensor(6.1862, device='cuda:0'), tensor(6.3242, device='cuda:0'), tensor(6.1897, device='cuda:0'), tensor(6.1432, device='cuda:0'), tensor(6.0639, device='cuda:0'), tensor(6.4250, device='cuda:0'), tensor(6.3957, device='cuda:0'), tensor(5.8256, device='cuda:0'), tensor(6.1334, device='cuda:0'), tensor(6.1491, device='cuda:0'), tensor(6.9185, device='cuda:0'), tensor(6.0561, device='cuda:0'), tensor(6.6406, device='cuda:0'), tensor(6.2269, device='cuda:0'), tensor(6.3556, device='cuda:0'), tensor(6.1492, device='cuda:0'), tensor(6.4025, device='cuda:0'), tensor(6.0469, device='cuda:0'), tensor(6.3360, device='cuda:0'), tensor(5.9852, device='cuda:0'), tensor(5.7837, device='cuda:0'), tensor(6.0897, device='cuda:0'), tensor(6.5134, device='cuda:0'), tensor(6.4634, device='cuda:0'), tensor(5.9891, device='cuda:0'), tensor(5.8433, device='cuda:0'), tensor(6.5583, device='cuda:0'), tensor(6.0123, device='cuda:0'), tensor(6.1856, device='cuda:0'), tensor(6.0584, device='cuda:0'), tensor(6.0122, device='cuda:0'), tensor(5.9118, device='cuda:0'), tensor(6.4609, device='cuda:0'), tensor(6.1146, device='cuda:0'), tensor(6.3731, device='cuda:0'), tensor(5.8494, device='cuda:0'), tensor(6.2407, device='cuda:0'), tensor(5.8874, device='cuda:0'), tensor(5.9082, device='cuda:0'), tensor(6.6145, device='cuda:0'), tensor(5.9734, device='cuda:0'), tensor(6.4684, device='cuda:0'), tensor(6.3126, device='cuda:0'), tensor(6.3033, device='cuda:0'), tensor(6.2047, device='cuda:0'), tensor(6.5099, device='cuda:0'), tensor(6.2768, device='cuda:0'), tensor(6.5688, device='cuda:0'), tensor(5.8584, device='cuda:0'), tensor(6.3077, device='cuda:0'), tensor(6.2175, device='cuda:0'), tensor(6.4186, device='cuda:0'), tensor(6.0510, device='cuda:0'), tensor(6.2649, device='cuda:0'), tensor(6.5413, device='cuda:0'), tensor(6.5758, device='cuda:0'), tensor(5.6376, device='cuda:0'), tensor(6.0279, device='cuda:0'), tensor(5.9745, device='cuda:0'), tensor(5.9962, device='cuda:0'), tensor(6.4400, device='cuda:0'), tensor(5.8740, device='cuda:0'), tensor(6.4805, device='cuda:0'), tensor(5.9467, device='cuda:0'), tensor(6.3800, device='cuda:0'), tensor(5.7940, device='cuda:0'), tensor(6.5000, device='cuda:0'), tensor(6.3107, device='cuda:0'), tensor(6.2811, device='cuda:0'), tensor(5.7655, device='cuda:0'), tensor(6.1666, device='cuda:0'), tensor(5.9728, device='cuda:0'), tensor(6.1699, device='cuda:0'), tensor(6.3004, device='cuda:0'), tensor(6.0986, device='cuda:0'), tensor(6.0316, device='cuda:0'), tensor(5.9765, device='cuda:0'), tensor(5.6732, device='cuda:0'), tensor(5.8608, device='cuda:0'), tensor(6.0127, device='cuda:0'), tensor(6.4813, device='cuda:0'), tensor(6.0159, device='cuda:0'), tensor(5.9163, device='cuda:0'), tensor(5.9961, device='cuda:0'), tensor(6.0016, device='cuda:0'), tensor(6.4096, device='cuda:0'), tensor(6.3444, device='cuda:0'), tensor(6.1387, device='cuda:0'), tensor(6.1387, device='cuda:0'), tensor(5.8852, device='cuda:0'), tensor(6.0139, device='cuda:0'), tensor(5.7956, device='cuda:0'), tensor(6.1799, device='cuda:0'), tensor(6.0581, device='cuda:0'), tensor(6.0323, device='cuda:0'), tensor(6.6566, device='cuda:0'), tensor(6.6432, device='cuda:0'), tensor(6.0980, device='cuda:0'), tensor(6.0228, device='cuda:0'), tensor(5.9870, device='cuda:0'), tensor(5.9903, device='cuda:0'), tensor(6.5812, device='cuda:0'), tensor(5.8473, device='cuda:0'), tensor(5.9787, device='cuda:0'), tensor(5.8766, device='cuda:0'), tensor(5.6699, device='cuda:0'), tensor(6.0244, device='cuda:0'), tensor(6.0504, device='cuda:0'), tensor(6.5183, device='cuda:0'), tensor(5.8004, device='cuda:0'), tensor(6.2551, device='cuda:0'), tensor(5.6294, device='cuda:0'), tensor(5.6809, device='cuda:0'), tensor(5.5838, device='cuda:0'), tensor(5.5909, device='cuda:0'), tensor(6.4180, device='cuda:0'), tensor(6.3541, device='cuda:0'), tensor(6.3139, device='cuda:0'), tensor(6.3376, device='cuda:0'), tensor(5.8301, device='cuda:0'), tensor(6.3425, device='cuda:0'), tensor(5.5872, device='cuda:0'), tensor(6.2531, device='cuda:0'), tensor(5.7309, device='cuda:0'), tensor(5.7390, device='cuda:0'), tensor(5.7200, device='cuda:0'), tensor(6.4379, device='cuda:0'), tensor(6.3533, device='cuda:0'), tensor(6.3417, device='cuda:0'), tensor(6.1192, device='cuda:0'), tensor(6.0935, device='cuda:0'), tensor(6.4566, device='cuda:0'), tensor(6.2720, device='cuda:0'), tensor(5.2995, device='cuda:0'), tensor(6.3650, device='cuda:0'), tensor(5.5693, device='cuda:0'), tensor(5.5925, device='cuda:0'), tensor(6.5957, device='cuda:0'), tensor(6.0158, device='cuda:0'), tensor(5.5688, device='cuda:0'), tensor(6.4813, device='cuda:0'), tensor(5.5437, device='cuda:0'), tensor(6.1710, device='cuda:0'), tensor(5.9995, device='cuda:0'), tensor(6.0460, device='cuda:0'), tensor(6.1858, device='cuda:0'), tensor(5.7159, device='cuda:0'), tensor(6.3856, device='cuda:0'), tensor(6.2848, device='cuda:0'), tensor(6.4148, device='cuda:0'), tensor(5.7263, device='cuda:0'), tensor(6.5094, device='cuda:0'), tensor(5.7147, device='cuda:0'), tensor(6.0775, device='cuda:0'), tensor(5.6539, device='cuda:0'), tensor(6.3548, device='cuda:0'), tensor(5.8290, device='cuda:0'), tensor(5.7162, device='cuda:0'), tensor(6.2081, device='cuda:0'), tensor(5.7327, device='cuda:0'), tensor(6.1604, device='cuda:0'), tensor(5.8750, device='cuda:0'), tensor(5.6211, device='cuda:0'), tensor(5.8474, device='cuda:0'), tensor(5.7332, device='cuda:0'), tensor(5.7610, device='cuda:0'), tensor(6.5164, device='cuda:0'), tensor(6.3149, device='cuda:0'), tensor(6.1923, device='cuda:0'), tensor(6.3393, device='cuda:0'), tensor(5.6773, device='cuda:0'), tensor(6.6857, device='cuda:0'), tensor(5.5080, device='cuda:0'), tensor(6.3731, device='cuda:0'), tensor(6.1740, device='cuda:0'), tensor(6.2505, device='cuda:0'), tensor(6.3829, device='cuda:0'), tensor(5.8020, device='cuda:0'), tensor(6.4267, device='cuda:0'), tensor(5.2811, device='cuda:0'), tensor(6.2304, device='cuda:0'), tensor(6.1326, device='cuda:0'), tensor(6.3906, device='cuda:0'), tensor(6.5244, device='cuda:0'), tensor(6.0763, device='cuda:0'), tensor(6.4843, device='cuda:0'), tensor(6.1154, device='cuda:0'), tensor(5.8761, device='cuda:0'), tensor(6.2017, device='cuda:0'), tensor(6.1796, device='cuda:0'), tensor(5.7126, device='cuda:0'), tensor(5.6647, device='cuda:0'), tensor(5.7352, device='cuda:0'), tensor(6.0335, device='cuda:0'), tensor(6.2642, device='cuda:0'), tensor(6.0585, device='cuda:0'), tensor(6.3310, device='cuda:0'), tensor(6.0626, device='cuda:0'), tensor(5.6161, device='cuda:0'), tensor(6.3312, device='cuda:0'), tensor(5.8432, device='cuda:0'), tensor(5.8354, device='cuda:0'), tensor(5.8360, device='cuda:0'), tensor(5.8343, device='cuda:0'), tensor(5.6703, device='cuda:0'), tensor(5.8387, device='cuda:0'), tensor(6.0182, device='cuda:0'), tensor(6.4199, device='cuda:0'), tensor(6.3320, device='cuda:0'), tensor(6.0580, device='cuda:0'), tensor(5.5346, device='cuda:0'), tensor(6.4488, device='cuda:0'), tensor(5.8487, device='cuda:0'), tensor(6.1061, device='cuda:0'), tensor(5.5598, device='cuda:0'), tensor(6.1472, device='cuda:0'), tensor(5.6540, device='cuda:0'), tensor(6.7938, device='cuda:0'), tensor(5.9149, device='cuda:0'), tensor(6.2490, device='cuda:0'), tensor(5.5619, device='cuda:0'), tensor(6.1663, device='cuda:0'), tensor(5.4215, device='cuda:0'), tensor(5.6614, device='cuda:0'), tensor(5.7040, device='cuda:0'), tensor(5.8829, device='cuda:0'), tensor(6.2130, device='cuda:0'), tensor(6.2278, device='cuda:0'), tensor(5.6329, device='cuda:0'), tensor(5.6750, device='cuda:0'), tensor(5.7604, device='cuda:0'), tensor(5.8766, device='cuda:0'), tensor(6.0753, device='cuda:0'), tensor(6.4083, device='cuda:0'), tensor(6.2160, device='cuda:0'), tensor(6.0756, device='cuda:0'), tensor(6.3155, device='cuda:0'), tensor(5.4998, device='cuda:0'), tensor(5.5491, device='cuda:0'), tensor(5.8156, device='cuda:0'), tensor(6.3619, device='cuda:0'), tensor(5.3648, device='cuda:0'), tensor(6.3809, device='cuda:0'), tensor(5.5856, device='cuda:0'), tensor(5.3951, device='cuda:0'), tensor(5.7814, device='cuda:0'), tensor(6.5051, device='cuda:0'), tensor(5.7518, device='cuda:0'), tensor(6.1700, device='cuda:0'), tensor(5.5927, device='cuda:0'), tensor(5.4829, device='cuda:0'), tensor(5.6633, device='cuda:0'), tensor(5.7953, device='cuda:0'), tensor(6.3818, device='cuda:0'), tensor(5.9488, device='cuda:0'), tensor(6.2797, device='cuda:0'), tensor(6.3303, device='cuda:0'), tensor(5.7819, device='cuda:0'), tensor(6.1983, device='cuda:0'), tensor(6.1712, device='cuda:0'), tensor(5.3153, device='cuda:0'), tensor(5.9402, device='cuda:0'), tensor(6.7187, device='cuda:0'), tensor(5.2330, device='cuda:0'), tensor(5.4526, device='cuda:0'), tensor(6.4108, device='cuda:0'), tensor(6.4424, device='cuda:0'), tensor(6.2984, device='cuda:0'), tensor(5.3778, device='cuda:0'), tensor(6.3553, device='cuda:0'), tensor(6.3614, device='cuda:0'), tensor(6.3085, device='cuda:0'), tensor(6.1967, device='cuda:0'), tensor(5.5261, device='cuda:0'), tensor(5.4846, device='cuda:0'), tensor(6.3856, device='cuda:0'), tensor(5.2525, device='cuda:0'), tensor(6.2539, device='cuda:0'), tensor(5.3148, device='cuda:0'), tensor(5.9202, device='cuda:0'), tensor(6.2966, device='cuda:0'), tensor(5.6341, device='cuda:0'), tensor(5.6115, device='cuda:0'), tensor(6.2975, device='cuda:0'), tensor(5.5969, device='cuda:0'), tensor(6.1135, device='cuda:0'), tensor(6.1682, device='cuda:0'), tensor(6.2580, device='cuda:0'), tensor(6.5357, device='cuda:0'), tensor(6.0939, device='cuda:0'), tensor(6.1155, device='cuda:0'), tensor(5.5659, device='cuda:0'), tensor(6.2790, device='cuda:0'), tensor(6.1324, device='cuda:0'), tensor(5.4854, device='cuda:0'), tensor(6.0146, device='cuda:0'), tensor(6.2309, device='cuda:0'), tensor(6.3134, device='cuda:0'), tensor(5.5417, device='cuda:0'), tensor(5.7541, device='cuda:0'), tensor(6.1974, device='cuda:0'), tensor(5.4841, device='cuda:0'), tensor(6.2796, device='cuda:0'), tensor(6.3099, device='cuda:0'), tensor(5.4412, device='cuda:0'), tensor(5.5209, device='cuda:0'), tensor(5.6205, device='cuda:0'), tensor(6.2728, device='cuda:0'), tensor(6.0312, device='cuda:0'), tensor(5.5958, device='cuda:0'), tensor(5.7360, device='cuda:0'), tensor(5.5747, device='cuda:0'), tensor(5.5052, device='cuda:0'), tensor(5.3219, device='cuda:0'), tensor(5.3723, device='cuda:0'), tensor(5.5751, device='cuda:0'), tensor(5.5210, device='cuda:0'), tensor(5.5648, device='cuda:0'), tensor(6.1340, device='cuda:0'), tensor(6.2699, device='cuda:0'), tensor(5.0483, device='cuda:0'), tensor(5.1086, device='cuda:0'), tensor(6.2796, device='cuda:0'), tensor(5.6958, device='cuda:0'), tensor(5.3684, device='cuda:0'), tensor(5.3172, device='cuda:0'), tensor(5.6362, device='cuda:0'), tensor(5.5390, device='cuda:0'), tensor(5.9375, device='cuda:0'), tensor(6.1958, device='cuda:0'), tensor(6.2355, device='cuda:0'), tensor(5.1835, device='cuda:0'), tensor(5.4376, device='cuda:0'), tensor(6.3736, device='cuda:0'), tensor(6.2232, device='cuda:0'), tensor(5.4922, device='cuda:0'), tensor(6.2995, device='cuda:0'), tensor(6.2240, device='cuda:0'), tensor(5.7212, device='cuda:0'), tensor(6.1003, device='cuda:0'), tensor(6.3353, device='cuda:0'), tensor(6.1251, device='cuda:0'), tensor(6.2286, device='cuda:0'), tensor(6.1727, device='cuda:0'), tensor(5.6833, device='cuda:0'), tensor(5.6803, device='cuda:0'), tensor(5.3417, device='cuda:0'), tensor(6.3010, device='cuda:0'), tensor(6.2238, device='cuda:0'), tensor(6.5598, device='cuda:0'), tensor(5.3959, device='cuda:0'), tensor(5.3776, device='cuda:0'), tensor(5.3000, device='cuda:0'), tensor(6.1639, device='cuda:0'), tensor(5.5905, device='cuda:0'), tensor(6.2930, device='cuda:0'), tensor(5.1512, device='cuda:0'), tensor(6.3290, device='cuda:0'), tensor(5.7194, device='cuda:0'), tensor(5.3241, device='cuda:0'), tensor(6.2850, device='cuda:0'), tensor(6.3004, device='cuda:0'), tensor(6.0343, device='cuda:0'), tensor(5.5882, device='cuda:0'), tensor(5.4357, device='cuda:0'), tensor(6.1467, device='cuda:0'), tensor(5.5029, device='cuda:0'), tensor(6.2516, device='cuda:0'), tensor(5.6745, device='cuda:0'), tensor(5.4019, device='cuda:0'), tensor(6.1422, device='cuda:0'), tensor(5.7075, device='cuda:0'), tensor(5.3801, device='cuda:0'), tensor(5.9848, device='cuda:0'), tensor(6.4779, device='cuda:0'), tensor(6.2029, device='cuda:0'), tensor(6.2563, device='cuda:0'), tensor(5.5722, device='cuda:0'), tensor(5.5462, device='cuda:0'), tensor(5.2034, device='cuda:0'), tensor(6.2764, device='cuda:0'), tensor(5.3975, device='cuda:0'), tensor(5.4045, device='cuda:0'), tensor(6.1671, device='cuda:0'), tensor(5.8400, device='cuda:0'), tensor(5.3734, device='cuda:0'), tensor(6.3069, device='cuda:0'), tensor(6.3178, device='cuda:0'), tensor(6.1792, device='cuda:0'), tensor(5.3199, device='cuda:0'), tensor(5.3435, device='cuda:0'), tensor(6.0570, device='cuda:0'), tensor(6.3064, device='cuda:0'), tensor(6.2831, device='cuda:0'), tensor(6.3772, device='cuda:0'), tensor(5.1464, device='cuda:0'), tensor(6.2833, device='cuda:0'), tensor(6.1897, device='cuda:0'), tensor(5.3197, device='cuda:0'), tensor(6.1422, device='cuda:0'), tensor(5.8548, device='cuda:0'), tensor(5.7956, device='cuda:0'), tensor(5.3375, device='cuda:0'), tensor(6.0256, device='cuda:0'), tensor(6.2354, device='cuda:0'), tensor(6.1786, device='cuda:0'), tensor(5.4079, device='cuda:0'), tensor(6.2574, device='cuda:0'), tensor(6.0093, device='cuda:0'), tensor(5.1600, device='cuda:0'), tensor(6.3387, device='cuda:0'), tensor(5.3687, device='cuda:0'), tensor(5.5620, device='cuda:0'), tensor(5.5570, device='cuda:0'), tensor(6.4023, device='cuda:0'), tensor(5.4564, device='cuda:0'), tensor(5.5808, device='cuda:0'), tensor(5.7512, device='cuda:0'), tensor(6.5224, device='cuda:0'), tensor(6.0559, device='cuda:0'), tensor(5.4728, device='cuda:0'), tensor(6.0242, device='cuda:0'), tensor(6.2190, device='cuda:0'), tensor(5.5293, device='cuda:0'), tensor(6.0149, device='cuda:0'), tensor(5.1176, device='cuda:0'), tensor(5.8383, device='cuda:0'), tensor(5.2168, device='cuda:0'), tensor(5.9860, device='cuda:0'), tensor(6.2892, device='cuda:0'), tensor(5.3076, device='cuda:0'), tensor(5.2819, device='cuda:0'), tensor(6.1997, device='cuda:0'), tensor(5.9332, device='cuda:0'), tensor(5.4614, device='cuda:0'), tensor(5.5351, device='cuda:0'), tensor(6.3408, device='cuda:0'), tensor(5.9871, device='cuda:0'), tensor(5.4785, device='cuda:0'), tensor(6.2828, device='cuda:0'), tensor(5.5716, device='cuda:0'), tensor(6.2176, device='cuda:0'), tensor(6.1910, device='cuda:0'), tensor(5.9619, device='cuda:0'), tensor(6.1905, device='cuda:0'), tensor(5.3569, device='cuda:0'), tensor(6.1193, device='cuda:0'), tensor(6.1910, device='cuda:0'), tensor(5.9888, device='cuda:0'), tensor(6.2677, device='cuda:0'), tensor(5.9930, device='cuda:0'), tensor(6.0758, device='cuda:0'), tensor(6.0656, device='cuda:0'), tensor(5.1100, device='cuda:0'), tensor(5.4065, device='cuda:0'), tensor(5.3871, device='cuda:0'), tensor(6.4025, device='cuda:0'), tensor(5.3676, device='cuda:0'), tensor(6.2780, device='cuda:0'), tensor(6.1779, device='cuda:0'), tensor(5.2327, device='cuda:0'), tensor(6.1164, device='cuda:0'), tensor(5.3522, device='cuda:0'), tensor(5.5648, device='cuda:0'), tensor(5.5467, device='cuda:0'), tensor(6.1552, device='cuda:0'), tensor(5.6670, device='cuda:0'), tensor(6.1348, device='cuda:0'), tensor(6.3040, device='cuda:0'), tensor(5.2442, device='cuda:0'), tensor(5.0705, device='cuda:0'), tensor(6.1485, device='cuda:0'), tensor(6.2361, device='cuda:0'), tensor(6.1486, device='cuda:0'), tensor(6.3631, device='cuda:0'), tensor(5.9142, device='cuda:0'), tensor(5.2394, device='cuda:0'), tensor(5.3984, device='cuda:0'), tensor(5.5404, device='cuda:0'), tensor(6.0486, device='cuda:0'), tensor(6.1264, device='cuda:0'), tensor(5.4806, device='cuda:0'), tensor(6.1203, device='cuda:0'), tensor(6.3114, device='cuda:0'), tensor(5.2157, device='cuda:0'), tensor(5.5201, device='cuda:0'), tensor(6.1784, device='cuda:0'), tensor(5.2674, device='cuda:0'), tensor(5.8912, device='cuda:0'), tensor(6.3679, device='cuda:0'), tensor(6.0830, device='cuda:0'), tensor(5.3800, device='cuda:0'), tensor(5.3314, device='cuda:0'), tensor(6.3468, device='cuda:0'), tensor(4.9460, device='cuda:0'), tensor(5.2300, device='cuda:0'), tensor(5.4030, device='cuda:0'), tensor(5.3523, device='cuda:0'), tensor(5.8537, device='cuda:0'), tensor(5.7707, device='cuda:0'), tensor(5.5476, device='cuda:0'), tensor(5.6326, device='cuda:0'), tensor(5.3161, device='cuda:0'), tensor(6.3125, device='cuda:0'), tensor(5.3551, device='cuda:0'), tensor(6.2554, device='cuda:0'), tensor(5.3856, device='cuda:0'), tensor(6.2505, device='cuda:0'), tensor(5.6063, device='cuda:0'), tensor(6.4120, device='cuda:0'), tensor(6.2602, device='cuda:0'), tensor(6.3222, device='cuda:0'), tensor(5.2975, device='cuda:0'), tensor(5.2377, device='cuda:0'), tensor(5.9701, device='cuda:0'), tensor(5.6361, device='cuda:0'), tensor(5.4577, device='cuda:0'), tensor(5.1566, device='cuda:0'), tensor(5.8069, device='cuda:0'), tensor(6.2882, device='cuda:0'), tensor(5.2580, device='cuda:0'), tensor(5.3482, device='cuda:0'), tensor(5.2281, device='cuda:0'), tensor(5.2978, device='cuda:0'), tensor(5.2476, device='cuda:0'), tensor(5.1333, device='cuda:0'), tensor(5.3770, device='cuda:0'), tensor(6.0666, device='cuda:0'), tensor(5.5939, device='cuda:0'), tensor(6.2261, device='cuda:0'), tensor(5.2512, device='cuda:0'), tensor(5.4497, device='cuda:0'), tensor(6.0486, device='cuda:0'), tensor(5.5716, device='cuda:0'), tensor(5.5508, device='cuda:0'), tensor(5.2748, device='cuda:0'), tensor(6.2526, device='cuda:0'), tensor(5.6090, device='cuda:0'), tensor(6.1095, device='cuda:0'), tensor(6.1324, device='cuda:0'), tensor(5.9101, device='cuda:0'), tensor(6.2112, device='cuda:0'), tensor(5.7076, device='cuda:0'), tensor(5.5100, device='cuda:0'), tensor(5.2801, device='cuda:0'), tensor(6.1062, device='cuda:0'), tensor(6.1858, device='cuda:0'), tensor(5.3398, device='cuda:0'), tensor(6.4134, device='cuda:0'), tensor(5.3818, device='cuda:0'), tensor(6.3435, device='cuda:0'), tensor(6.2923, device='cuda:0'), tensor(5.1360, device='cuda:0'), tensor(6.2936, device='cuda:0'), tensor(6.1468, device='cuda:0'), tensor(6.0067, device='cuda:0'), tensor(5.4759, device='cuda:0'), tensor(6.0618, device='cuda:0'), tensor(5.3180, device='cuda:0'), tensor(6.3913, device='cuda:0'), tensor(5.2289, device='cuda:0'), tensor(6.0266, device='cuda:0'), tensor(5.4092, device='cuda:0'), tensor(6.2567, device='cuda:0'), tensor(5.3085, device='cuda:0'), tensor(6.1616, device='cuda:0'), tensor(5.4007, device='cuda:0'), tensor(6.2471, device='cuda:0'), tensor(5.3611, device='cuda:0'), tensor(5.3378, device='cuda:0'), tensor(5.3865, device='cuda:0'), tensor(5.3986, device='cuda:0'), tensor(6.0878, device='cuda:0'), tensor(5.6489, device='cuda:0'), tensor(5.1960, device='cuda:0'), tensor(6.0267, device='cuda:0'), tensor(5.3747, device='cuda:0'), tensor(6.1780, device='cuda:0'), tensor(6.1293, device='cuda:0'), tensor(5.1689, device='cuda:0'), tensor(5.3041, device='cuda:0'), tensor(6.1770, device='cuda:0'), tensor(5.1216, device='cuda:0'), tensor(4.9201, device='cuda:0'), tensor(6.2496, device='cuda:0'), tensor(5.4590, device='cuda:0'), tensor(5.9611, device='cuda:0'), tensor(5.6080, device='cuda:0'), tensor(6.4085, device='cuda:0'), tensor(5.4546, device='cuda:0'), tensor(5.4655, device='cuda:0'), tensor(4.7708, device='cuda:0'), tensor(4.9869, device='cuda:0'), tensor(6.3539, device='cuda:0'), tensor(5.2401, device='cuda:0'), tensor(5.7678, device='cuda:0'), tensor(5.3250, device='cuda:0'), tensor(5.2435, device='cuda:0'), tensor(5.1650, device='cuda:0'), tensor(5.6971, device='cuda:0'), tensor(6.1358, device='cuda:0'), tensor(5.4224, device='cuda:0'), tensor(5.0510, device='cuda:0'), tensor(6.1659, device='cuda:0'), tensor(6.3813, device='cuda:0'), tensor(5.3201, device='cuda:0'), tensor(5.9980, device='cuda:0'), tensor(6.3931, device='cuda:0'), tensor(6.3989, device='cuda:0'), tensor(6.1921, device='cuda:0'), tensor(6.4305, device='cuda:0'), tensor(5.1077, device='cuda:0'), tensor(6.2494, device='cuda:0'), tensor(6.1057, device='cuda:0'), tensor(5.9188, device='cuda:0'), tensor(5.9410, device='cuda:0'), tensor(5.5101, device='cuda:0'), tensor(6.1727, device='cuda:0'), tensor(6.1262, device='cuda:0'), tensor(6.1345, device='cuda:0'), tensor(5.4068, device='cuda:0'), tensor(6.1461, device='cuda:0'), tensor(6.3286, device='cuda:0'), tensor(5.6785, device='cuda:0'), tensor(6.1184, device='cuda:0'), tensor(5.3942, device='cuda:0'), tensor(6.3625, device='cuda:0'), tensor(5.5025, device='cuda:0'), tensor(5.1513, device='cuda:0'), tensor(5.5973, device='cuda:0'), tensor(6.2089, device='cuda:0'), tensor(5.7464, device='cuda:0'), tensor(5.5640, device='cuda:0'), tensor(5.4194, device='cuda:0'), tensor(5.1428, device='cuda:0'), tensor(6.0720, device='cuda:0'), tensor(6.0214, device='cuda:0'), tensor(6.1704, device='cuda:0'), tensor(5.0621, device='cuda:0'), tensor(6.2845, device='cuda:0'), tensor(5.6133, device='cuda:0'), tensor(5.9563, device='cuda:0'), tensor(5.2836, device='cuda:0'), tensor(5.0071, device='cuda:0'), tensor(5.2467, device='cuda:0'), tensor(5.2016, device='cuda:0'), tensor(5.5987, device='cuda:0'), tensor(6.3780, device='cuda:0'), tensor(5.0784, device='cuda:0'), tensor(6.4425, device='cuda:0'), tensor(5.3665, device='cuda:0'), tensor(6.1860, device='cuda:0'), tensor(6.3079, device='cuda:0'), tensor(5.0743, device='cuda:0'), tensor(5.1846, device='cuda:0'), tensor(6.0775, device='cuda:0'), tensor(6.3134, device='cuda:0'), tensor(6.2385, device='cuda:0'), tensor(6.3393, device='cuda:0'), tensor(6.1808, device='cuda:0'), tensor(5.0420, device='cuda:0'), tensor(5.5011, device='cuda:0'), tensor(6.2431, device='cuda:0'), tensor(5.1112, device='cuda:0'), tensor(6.3647, device='cuda:0'), tensor(5.9926, device='cuda:0'), tensor(5.1573, device='cuda:0'), tensor(5.9039, device='cuda:0'), tensor(5.0180, device='cuda:0'), tensor(5.7371, device='cuda:0'), tensor(5.2612, device='cuda:0'), tensor(5.1940, device='cuda:0'), tensor(5.0661, device='cuda:0'), tensor(4.9306, device='cuda:0'), tensor(5.1009, device='cuda:0'), tensor(6.1639, device='cuda:0'), tensor(4.9156, device='cuda:0'), tensor(5.1661, device='cuda:0'), tensor(6.2193, device='cuda:0'), tensor(6.1230, device='cuda:0'), tensor(5.0608, device='cuda:0'), tensor(6.1962, device='cuda:0'), tensor(4.9286, device='cuda:0'), tensor(6.0328, device='cuda:0'), tensor(5.3062, device='cuda:0'), tensor(5.3364, device='cuda:0'), tensor(5.8979, device='cuda:0'), tensor(6.1462, device='cuda:0'), tensor(5.2178, device='cuda:0'), tensor(6.0410, device='cuda:0'), tensor(5.0935, device='cuda:0'), tensor(5.2330, device='cuda:0'), tensor(6.2314, device='cuda:0'), tensor(5.3215, device='cuda:0'), tensor(6.1658, device='cuda:0'), tensor(5.3455, device='cuda:0'), tensor(5.2790, device='cuda:0'), tensor(5.7924, device='cuda:0'), tensor(6.2620, device='cuda:0'), tensor(6.2202, device='cuda:0'), tensor(6.0449, device='cuda:0'), tensor(5.1483, device='cuda:0'), tensor(6.0452, device='cuda:0'), tensor(5.2827, device='cuda:0'), tensor(5.0246, device='cuda:0'), tensor(5.1772, device='cuda:0'), tensor(5.4524, device='cuda:0'), tensor(4.9558, device='cuda:0'), tensor(6.1320, device='cuda:0'), tensor(5.2433, device='cuda:0'), tensor(6.1487, device='cuda:0'), tensor(6.3721, device='cuda:0'), tensor(6.0918, device='cuda:0'), tensor(5.1745, device='cuda:0'), tensor(5.9358, device='cuda:0'), tensor(5.4291, device='cuda:0'), tensor(5.0491, device='cuda:0'), tensor(5.8068, device='cuda:0'), tensor(6.2773, device='cuda:0'), tensor(4.9258, device='cuda:0'), tensor(6.0590, device='cuda:0'), tensor(4.9387, device='cuda:0'), tensor(6.0018, device='cuda:0'), tensor(6.1926, device='cuda:0'), tensor(5.2547, device='cuda:0'), tensor(5.9654, device='cuda:0'), tensor(5.1336, device='cuda:0'), tensor(5.7964, device='cuda:0'), tensor(5.9478, device='cuda:0'), tensor(4.9463, device='cuda:0'), tensor(5.0037, device='cuda:0'), tensor(5.1373, device='cuda:0'), tensor(5.5266, device='cuda:0'), tensor(5.4288, device='cuda:0'), tensor(5.9923, device='cuda:0'), tensor(6.0463, device='cuda:0'), tensor(5.6417, device='cuda:0'), tensor(5.9843, device='cuda:0'), tensor(5.9159, device='cuda:0'), tensor(5.1341, device='cuda:0'), tensor(5.2323, device='cuda:0'), tensor(5.9772, device='cuda:0'), tensor(5.2006, device='cuda:0'), tensor(5.1872, device='cuda:0'), tensor(5.3022, device='cuda:0'), tensor(5.8896, device='cuda:0'), tensor(6.1854, device='cuda:0'), tensor(5.3560, device='cuda:0'), tensor(5.1418, device='cuda:0'), tensor(6.2210, device='cuda:0'), tensor(6.2663, device='cuda:0'), tensor(5.1391, device='cuda:0'), tensor(6.3186, device='cuda:0'), tensor(5.9063, device='cuda:0'), tensor(4.8265, device='cuda:0'), tensor(6.0987, device='cuda:0'), tensor(5.3862, device='cuda:0'), tensor(4.7880, device='cuda:0'), tensor(5.1778, device='cuda:0'), tensor(5.3035, device='cuda:0'), tensor(6.2270, device='cuda:0'), tensor(6.1216, device='cuda:0'), tensor(4.9517, device='cuda:0'), tensor(6.3944, device='cuda:0'), tensor(5.4705, device='cuda:0'), tensor(5.3244, device='cuda:0'), tensor(5.1774, device='cuda:0'), tensor(6.3517, device='cuda:0'), tensor(6.2894, device='cuda:0'), tensor(5.1403, device='cuda:0'), tensor(5.9174, device='cuda:0'), tensor(6.2067, device='cuda:0'), tensor(4.8873, device='cuda:0'), tensor(4.9937, device='cuda:0'), tensor(5.2599, device='cuda:0'), tensor(5.8994, device='cuda:0'), tensor(5.2185, device='cuda:0'), tensor(5.8905, device='cuda:0'), tensor(6.0122, device='cuda:0'), tensor(5.0873, device='cuda:0'), tensor(6.1021, device='cuda:0'), tensor(5.1177, device='cuda:0'), tensor(6.1737, device='cuda:0'), tensor(5.3923, device='cuda:0'), tensor(6.1291, device='cuda:0'), tensor(6.2571, device='cuda:0'), tensor(5.3220, device='cuda:0'), tensor(6.1523, device='cuda:0'), tensor(5.3239, device='cuda:0'), tensor(5.9715, device='cuda:0'), tensor(4.6709, device='cuda:0'), tensor(5.0652, device='cuda:0'), tensor(6.1270, device='cuda:0'), tensor(5.2320, device='cuda:0'), tensor(4.9177, device='cuda:0'), tensor(4.9285, device='cuda:0'), tensor(4.8328, device='cuda:0'), tensor(6.0284, device='cuda:0'), tensor(5.0053, device='cuda:0'), tensor(5.2910, device='cuda:0'), tensor(6.4004, device='cuda:0'), tensor(5.0483, device='cuda:0'), tensor(5.0613, device='cuda:0'), tensor(5.3063, device='cuda:0'), tensor(5.2953, device='cuda:0'), tensor(6.3349, device='cuda:0'), tensor(6.2945, device='cuda:0'), tensor(6.1687, device='cuda:0'), tensor(5.0915, device='cuda:0'), tensor(4.9784, device='cuda:0'), tensor(5.4232, device='cuda:0'), tensor(6.1570, device='cuda:0'), tensor(5.8561, device='cuda:0'), tensor(5.4958, device='cuda:0'), tensor(5.8381, device='cuda:0'), tensor(4.9310, device='cuda:0'), tensor(6.2922, device='cuda:0'), tensor(6.1018, device='cuda:0'), tensor(5.4218, device='cuda:0'), tensor(6.6833, device='cuda:0'), tensor(5.9984, device='cuda:0'), tensor(5.9486, device='cuda:0'), tensor(5.1109, device='cuda:0'), tensor(4.9411, device='cuda:0'), tensor(6.2191, device='cuda:0'), tensor(5.6535, device='cuda:0'), tensor(6.0968, device='cuda:0'), tensor(5.2569, device='cuda:0'), tensor(6.1833, device='cuda:0'), tensor(5.0402, device='cuda:0'), tensor(5.9830, device='cuda:0'), tensor(6.2654, device='cuda:0'), tensor(6.1041, device='cuda:0'), tensor(6.1085, device='cuda:0'), tensor(6.1336, device='cuda:0'), tensor(5.9399, device='cuda:0'), tensor(5.4778, device='cuda:0'), tensor(5.0885, device='cuda:0'), tensor(6.0379, device='cuda:0'), tensor(4.9613, device='cuda:0'), tensor(6.1093, device='cuda:0'), tensor(6.1825, device='cuda:0'), tensor(5.3135, device='cuda:0'), tensor(5.5773, device='cuda:0'), tensor(6.1062, device='cuda:0'), tensor(5.4120, device='cuda:0'), tensor(6.1227, device='cuda:0'), tensor(5.2618, device='cuda:0'), tensor(6.1264, device='cuda:0'), tensor(5.4716, device='cuda:0'), tensor(4.8991, device='cuda:0'), tensor(4.8660, device='cuda:0'), tensor(6.0660, device='cuda:0'), tensor(5.1730, device='cuda:0'), tensor(5.2216, device='cuda:0'), tensor(6.2697, device='cuda:0'), tensor(4.9386, device='cuda:0'), tensor(6.0891, device='cuda:0'), tensor(5.1844, device='cuda:0'), tensor(5.0231, device='cuda:0'), tensor(6.0672, device='cuda:0'), tensor(5.4801, device='cuda:0'), tensor(6.2417, device='cuda:0'), tensor(6.1953, device='cuda:0'), tensor(6.3923, device='cuda:0'), tensor(5.0553, device='cuda:0'), tensor(6.1126, device='cuda:0'), tensor(6.0173, device='cuda:0'), tensor(6.1177, device='cuda:0'), tensor(6.0004, device='cuda:0'), tensor(5.9115, device='cuda:0'), tensor(6.3123, device='cuda:0'), tensor(5.6547, device='cuda:0'), tensor(5.3426, device='cuda:0'), tensor(6.1284, device='cuda:0'), tensor(6.2658, device='cuda:0'), tensor(6.1630, device='cuda:0'), tensor(6.0019, device='cuda:0'), tensor(5.9537, device='cuda:0'), tensor(5.1189, device='cuda:0'), tensor(6.3850, device='cuda:0'), tensor(6.2420, device='cuda:0'), tensor(5.1908, device='cuda:0'), tensor(5.1521, device='cuda:0'), tensor(5.9130, device='cuda:0'), tensor(5.0467, device='cuda:0'), tensor(6.2997, device='cuda:0'), tensor(5.9207, device='cuda:0'), tensor(5.8693, device='cuda:0'), tensor(4.9398, device='cuda:0'), tensor(6.0815, device='cuda:0'), tensor(5.6919, device='cuda:0'), tensor(5.2602, device='cuda:0'), tensor(5.3847, device='cuda:0'), tensor(5.3050, device='cuda:0'), tensor(6.0912, device='cuda:0'), tensor(5.7883, device='cuda:0'), tensor(6.2701, device='cuda:0'), tensor(5.1132, device='cuda:0'), tensor(5.5444, device='cuda:0'), tensor(5.6653, device='cuda:0'), tensor(5.9979, device='cuda:0'), tensor(5.8612, device='cuda:0'), tensor(5.1562, device='cuda:0'), tensor(5.2801, device='cuda:0'), tensor(6.0122, device='cuda:0'), tensor(6.1893, device='cuda:0'), tensor(6.2207, device='cuda:0'), tensor(4.8735, device='cuda:0'), tensor(6.3370, device='cuda:0'), tensor(5.3548, device='cuda:0'), tensor(5.4628, device='cuda:0'), tensor(5.0230, device='cuda:0'), tensor(6.2319, device='cuda:0'), tensor(6.1111, device='cuda:0'), tensor(5.8083, device='cuda:0'), tensor(4.9835, device='cuda:0'), tensor(6.2132, device='cuda:0'), tensor(6.0717, device='cuda:0'), tensor(6.0221, device='cuda:0'), tensor(5.2393, device='cuda:0'), tensor(5.9850, device='cuda:0'), tensor(5.8138, device='cuda:0'), tensor(6.1354, device='cuda:0'), tensor(5.4061, device='cuda:0'), tensor(6.0033, device='cuda:0'), tensor(4.9589, device='cuda:0'), tensor(5.7950, device='cuda:0'), tensor(5.9441, device='cuda:0'), tensor(5.9132, device='cuda:0'), tensor(6.0576, device='cuda:0'), tensor(4.9827, device='cuda:0'), tensor(4.9987, device='cuda:0'), tensor(5.3722, device='cuda:0'), tensor(5.3295, device='cuda:0'), tensor(5.9071, device='cuda:0'), tensor(5.9655, device='cuda:0'), tensor(6.0555, device='cuda:0'), tensor(5.2489, device='cuda:0'), tensor(5.7398, device='cuda:0'), tensor(5.0465, device='cuda:0'), tensor(5.4084, device='cuda:0'), tensor(5.9966, device='cuda:0'), tensor(6.2168, device='cuda:0'), tensor(4.7907, device='cuda:0'), tensor(5.9529, device='cuda:0'), tensor(5.3150, device='cuda:0'), tensor(6.1092, device='cuda:0'), tensor(6.0618, device='cuda:0'), tensor(6.2380, device='cuda:0'), tensor(5.3622, device='cuda:0'), tensor(6.2634, device='cuda:0'), tensor(6.0807, device='cuda:0'), tensor(5.2603, device='cuda:0'), tensor(6.0278, device='cuda:0'), tensor(4.9223, device='cuda:0'), tensor(5.7597, device='cuda:0'), tensor(6.5500, device='cuda:0'), tensor(5.5733, device='cuda:0'), tensor(4.9763, device='cuda:0'), tensor(6.1217, device='cuda:0'), tensor(5.8571, device='cuda:0'), tensor(5.9206, device='cuda:0'), tensor(5.1716, device='cuda:0'), tensor(5.0962, device='cuda:0'), tensor(5.5734, device='cuda:0'), tensor(4.9240, device='cuda:0'), tensor(5.3519, device='cuda:0'), tensor(5.0988, device='cuda:0'), tensor(5.1222, device='cuda:0'), tensor(6.5211, device='cuda:0'), tensor(6.1741, device='cuda:0'), tensor(6.0947, device='cuda:0'), tensor(4.9250, device='cuda:0'), tensor(5.0534, device='cuda:0'), tensor(5.8172, device='cuda:0'), tensor(5.3993, device='cuda:0'), tensor(6.0833, device='cuda:0'), tensor(4.9434, device='cuda:0'), tensor(6.0745, device='cuda:0'), tensor(6.3393, device='cuda:0'), tensor(5.7663, device='cuda:0'), tensor(6.0116, device='cuda:0'), tensor(5.9763, device='cuda:0'), tensor(6.0453, device='cuda:0'), tensor(6.1079, device='cuda:0'), tensor(6.0618, device='cuda:0'), tensor(5.2175, device='cuda:0'), tensor(6.0680, device='cuda:0'), tensor(4.9563, device='cuda:0'), tensor(5.1357, device='cuda:0'), tensor(4.9710, device='cuda:0'), tensor(5.2206, device='cuda:0'), tensor(5.0497, device='cuda:0'), tensor(4.9379, device='cuda:0'), tensor(5.1694, device='cuda:0'), tensor(6.1906, device='cuda:0'), tensor(6.1231, device='cuda:0'), tensor(5.2819, device='cuda:0'), tensor(5.1315, device='cuda:0'), tensor(5.2505, device='cuda:0'), tensor(5.2681, device='cuda:0'), tensor(5.2526, device='cuda:0'), tensor(5.9076, device='cuda:0'), tensor(6.0767, device='cuda:0'), tensor(5.9693, device='cuda:0'), tensor(6.1439, device='cuda:0'), tensor(6.0513, device='cuda:0'), tensor(6.4406, device='cuda:0'), tensor(5.2118, device='cuda:0'), tensor(5.0005, device='cuda:0'), tensor(5.7587, device='cuda:0'), tensor(6.2228, device='cuda:0'), tensor(5.2119, device='cuda:0'), tensor(5.9464, device='cuda:0'), tensor(6.0140, device='cuda:0'), tensor(6.0152, device='cuda:0'), tensor(6.0182, device='cuda:0'), tensor(4.6991, device='cuda:0'), tensor(5.9608, device='cuda:0'), tensor(5.7083, device='cuda:0'), tensor(5.1041, device='cuda:0'), tensor(5.2237, device='cuda:0'), tensor(5.1469, device='cuda:0'), tensor(6.1057, device='cuda:0'), tensor(6.1396, device='cuda:0'), tensor(6.1333, device='cuda:0'), tensor(4.8456, device='cuda:0'), tensor(5.2102, device='cuda:0'), tensor(6.2680, device='cuda:0'), tensor(5.0473, device='cuda:0'), tensor(5.7841, device='cuda:0'), tensor(6.5533, device='cuda:0'), tensor(5.1432, device='cuda:0'), tensor(4.8209, device='cuda:0'), tensor(4.9853, device='cuda:0'), tensor(4.9437, device='cuda:0'), tensor(6.1524, device='cuda:0'), tensor(5.9949, device='cuda:0'), tensor(4.9145, device='cuda:0'), tensor(5.1402, device='cuda:0'), tensor(6.0658, device='cuda:0'), tensor(5.0143, device='cuda:0'), tensor(4.8603, device='cuda:0'), tensor(5.1989, device='cuda:0'), tensor(6.0004, device='cuda:0'), tensor(6.0831, device='cuda:0'), tensor(6.0622, device='cuda:0'), tensor(4.9250, device='cuda:0'), tensor(6.2352, device='cuda:0'), tensor(5.9378, device='cuda:0'), tensor(6.1282, device='cuda:0'), tensor(6.0478, device='cuda:0'), tensor(6.0016, device='cuda:0'), tensor(6.1567, device='cuda:0'), tensor(6.1033, device='cuda:0'), tensor(4.7419, device='cuda:0'), tensor(4.6930, device='cuda:0'), tensor(5.8834, device='cuda:0'), tensor(6.3261, device='cuda:0'), tensor(4.7745, device='cuda:0'), tensor(5.3922, device='cuda:0'), tensor(5.9226, device='cuda:0'), tensor(5.1718, device='cuda:0'), tensor(6.1865, device='cuda:0'), tensor(5.3560, device='cuda:0'), tensor(6.1497, device='cuda:0'), tensor(5.0196, device='cuda:0'), tensor(6.0137, device='cuda:0'), tensor(6.0569, device='cuda:0'), tensor(4.9260, device='cuda:0'), tensor(4.8007, device='cuda:0'), tensor(5.1322, device='cuda:0'), tensor(6.0697, device='cuda:0'), tensor(5.7706, device='cuda:0'), tensor(6.0112, device='cuda:0'), tensor(5.1490, device='cuda:0'), tensor(6.0353, device='cuda:0'), tensor(4.8444, device='cuda:0'), tensor(5.1001, device='cuda:0'), tensor(5.8012, device='cuda:0'), tensor(6.2851, device='cuda:0'), tensor(5.8857, device='cuda:0'), tensor(6.2841, device='cuda:0'), tensor(5.2605, device='cuda:0'), tensor(6.2239, device='cuda:0'), tensor(5.0429, device='cuda:0'), tensor(5.9884, device='cuda:0'), tensor(5.8746, device='cuda:0'), tensor(5.2151, device='cuda:0'), tensor(6.0576, device='cuda:0'), tensor(5.3827, device='cuda:0'), tensor(4.7886, device='cuda:0'), tensor(5.7793, device='cuda:0'), tensor(4.9074, device='cuda:0'), tensor(6.0115, device='cuda:0'), tensor(5.1522, device='cuda:0'), tensor(5.3698, device='cuda:0'), tensor(6.0025, device='cuda:0'), tensor(5.9782, device='cuda:0'), tensor(5.1708, device='cuda:0'), tensor(5.1556, device='cuda:0'), tensor(5.1796, device='cuda:0'), tensor(5.8638, device='cuda:0'), tensor(5.2037, device='cuda:0'), tensor(6.0613, device='cuda:0'), tensor(5.8255, device='cuda:0'), tensor(5.2829, device='cuda:0'), tensor(5.9870, device='cuda:0'), tensor(4.9226, device='cuda:0'), tensor(5.9234, device='cuda:0'), tensor(4.9465, device='cuda:0'), tensor(6.2274, device='cuda:0'), tensor(6.1508, device='cuda:0'), tensor(4.8557, device='cuda:0'), tensor(5.0991, device='cuda:0'), tensor(5.6242, device='cuda:0'), tensor(5.3495, device='cuda:0'), tensor(5.1125, device='cuda:0'), tensor(4.9986, device='cuda:0'), tensor(4.7636, device='cuda:0'), tensor(6.0548, device='cuda:0'), tensor(4.8575, device='cuda:0'), tensor(5.1148, device='cuda:0'), tensor(5.1018, device='cuda:0'), tensor(4.7612, device='cuda:0'), tensor(4.9203, device='cuda:0'), tensor(5.0880, device='cuda:0'), tensor(6.0666, device='cuda:0'), tensor(6.1271, device='cuda:0'), tensor(4.6367, device='cuda:0'), tensor(5.1041, device='cuda:0'), tensor(5.7916, device='cuda:0'), tensor(4.9646, device='cuda:0'), tensor(4.7028, device='cuda:0'), tensor(4.9696, device='cuda:0'), tensor(5.2687, device='cuda:0'), tensor(5.8234, device='cuda:0'), tensor(5.1151, device='cuda:0'), tensor(4.8719, device='cuda:0'), tensor(6.3234, device='cuda:0'), tensor(6.1474, device='cuda:0'), tensor(5.1768, device='cuda:0'), tensor(4.8375, device='cuda:0'), tensor(5.0350, device='cuda:0'), tensor(5.9702, device='cuda:0'), tensor(4.8336, device='cuda:0'), tensor(6.0649, device='cuda:0'), tensor(5.5045, device='cuda:0'), tensor(5.9694, device='cuda:0'), tensor(5.0670, device='cuda:0'), tensor(6.0162, device='cuda:0'), tensor(4.8242, device='cuda:0'), tensor(4.9673, device='cuda:0'), tensor(5.9287, device='cuda:0'), tensor(5.9282, device='cuda:0'), tensor(6.2134, device='cuda:0'), tensor(5.7213, device='cuda:0'), tensor(4.7828, device='cuda:0'), tensor(5.0303, device='cuda:0'), tensor(5.2014, device='cuda:0'), tensor(4.9168, device='cuda:0'), tensor(6.1193, device='cuda:0'), tensor(5.3057, device='cuda:0'), tensor(6.1294, device='cuda:0'), tensor(5.7215, device='cuda:0'), tensor(6.0573, device='cuda:0'), tensor(6.2587, device='cuda:0'), tensor(4.7796, device='cuda:0'), tensor(6.1497, device='cuda:0'), tensor(4.9023, device='cuda:0'), tensor(4.9133, device='cuda:0'), tensor(5.9773, device='cuda:0'), tensor(4.9881, device='cuda:0'), tensor(5.0608, device='cuda:0'), tensor(4.8460, device='cuda:0'), tensor(6.1441, device='cuda:0'), tensor(6.1714, device='cuda:0'), tensor(4.8876, device='cuda:0'), tensor(4.9292, device='cuda:0'), tensor(5.0644, device='cuda:0'), tensor(6.1313, device='cuda:0'), tensor(6.4584, device='cuda:0'), tensor(5.1307, device='cuda:0'), tensor(5.1009, device='cuda:0'), tensor(5.8517, device='cuda:0'), tensor(5.8436, device='cuda:0'), tensor(5.0987, device='cuda:0'), tensor(4.9767, device='cuda:0'), tensor(5.1523, device='cuda:0'), tensor(6.0840, device='cuda:0'), tensor(6.0760, device='cuda:0'), tensor(5.9263, device='cuda:0'), tensor(5.0136, device='cuda:0'), tensor(4.9556, device='cuda:0'), tensor(4.9581, device='cuda:0'), tensor(5.0381, device='cuda:0'), tensor(4.8969, device='cuda:0'), tensor(6.0227, device='cuda:0'), tensor(5.9733, device='cuda:0'), tensor(5.1379, device='cuda:0'), tensor(4.7891, device='cuda:0'), tensor(5.8725, device='cuda:0'), tensor(4.9906, device='cuda:0'), tensor(5.7727, device='cuda:0'), tensor(5.9239, device='cuda:0'), tensor(4.8518, device='cuda:0'), tensor(6.2450, device='cuda:0'), tensor(5.8578, device='cuda:0'), tensor(6.1211, device='cuda:0'), tensor(6.0998, device='cuda:0'), tensor(5.1219, device='cuda:0'), tensor(5.9546, device='cuda:0'), tensor(5.1239, device='cuda:0'), tensor(5.8724, device='cuda:0'), tensor(5.8112, device='cuda:0'), tensor(5.7375, device='cuda:0'), tensor(5.0916, device='cuda:0'), tensor(5.2066, device='cuda:0'), tensor(6.0544, device='cuda:0'), tensor(5.8481, device='cuda:0'), tensor(5.9745, device='cuda:0'), tensor(4.9265, device='cuda:0'), tensor(5.4372, device='cuda:0'), tensor(4.9429, device='cuda:0'), tensor(6.1529, device='cuda:0'), tensor(5.1242, device='cuda:0'), tensor(4.9726, device='cuda:0'), tensor(5.1157, device='cuda:0'), tensor(5.9321, device='cuda:0'), tensor(5.8807, device='cuda:0'), tensor(6.1596, device='cuda:0'), tensor(6.2555, device='cuda:0'), tensor(5.3865, device='cuda:0'), tensor(6.0003, device='cuda:0'), tensor(5.2484, device='cuda:0'), tensor(5.0151, device='cuda:0'), tensor(6.0033, device='cuda:0'), tensor(6.1272, device='cuda:0'), tensor(4.8613, device='cuda:0'), tensor(5.8834, device='cuda:0'), tensor(6.1048, device='cuda:0'), tensor(5.9344, device='cuda:0'), tensor(5.2008, device='cuda:0'), tensor(4.9585, device='cuda:0'), tensor(5.3272, device='cuda:0'), tensor(4.7861, device='cuda:0'), tensor(6.0187, device='cuda:0'), tensor(6.1847, device='cuda:0'), tensor(5.5407, device='cuda:0'), tensor(5.1060, device='cuda:0'), tensor(5.9143, device='cuda:0'), tensor(5.8573, device='cuda:0'), tensor(6.0571, device='cuda:0'), tensor(5.9748, device='cuda:0'), tensor(6.0321, device='cuda:0'), tensor(4.9421, device='cuda:0'), tensor(6.1747, device='cuda:0'), tensor(4.8116, device='cuda:0'), tensor(5.2397, device='cuda:0'), tensor(6.1004, device='cuda:0'), tensor(5.2278, device='cuda:0'), tensor(5.8663, device='cuda:0'), tensor(4.8661, device='cuda:0'), tensor(6.2524, device='cuda:0'), tensor(6.2855, device='cuda:0'), tensor(6.1174, device='cuda:0'), tensor(5.3683, device='cuda:0'), tensor(5.9973, device='cuda:0'), tensor(6.2897, device='cuda:0'), tensor(4.9888, device='cuda:0'), tensor(5.0566, device='cuda:0'), tensor(6.1612, device='cuda:0'), tensor(5.7566, device='cuda:0'), tensor(5.9961, device='cuda:0'), tensor(5.0453, device='cuda:0'), tensor(4.9337, device='cuda:0'), tensor(4.9063, device='cuda:0'), tensor(4.4016, device='cuda:0'), tensor(5.9281, device='cuda:0'), tensor(5.7533, device='cuda:0'), tensor(5.1925, device='cuda:0'), tensor(4.8167, device='cuda:0'), tensor(6.0526, device='cuda:0'), tensor(6.2005, device='cuda:0'), tensor(5.1513, device='cuda:0'), tensor(4.9907, device='cuda:0'), tensor(5.7601, device='cuda:0'), tensor(5.0713, device='cuda:0'), tensor(6.1965, device='cuda:0'), tensor(6.0784, device='cuda:0'), tensor(5.6444, device='cuda:0'), tensor(4.8644, device='cuda:0'), tensor(5.0993, device='cuda:0'), tensor(6.1704, device='cuda:0'), tensor(4.5395, device='cuda:0'), tensor(4.7745, device='cuda:0'), tensor(5.1569, device='cuda:0'), tensor(4.8490, device='cuda:0'), tensor(6.2794, device='cuda:0'), tensor(4.9657, device='cuda:0'), tensor(5.6764, device='cuda:0'), tensor(6.2982, device='cuda:0'), tensor(6.0757, device='cuda:0'), tensor(4.9336, device='cuda:0'), tensor(4.7810, device='cuda:0'), tensor(6.1665, device='cuda:0'), tensor(4.8852, device='cuda:0'), tensor(6.0127, device='cuda:0'), tensor(5.0155, device='cuda:0'), tensor(6.2298, device='cuda:0'), tensor(5.0787, device='cuda:0'), tensor(4.7554, device='cuda:0'), tensor(5.1633, device='cuda:0'), tensor(4.9950, device='cuda:0'), tensor(5.9505, device='cuda:0'), tensor(6.2451, device='cuda:0'), tensor(5.7929, device='cuda:0'), tensor(4.5400, device='cuda:0'), tensor(6.0651, device='cuda:0'), tensor(4.6170, device='cuda:0'), tensor(5.9384, device='cuda:0'), tensor(6.2881, device='cuda:0'), tensor(5.0347, device='cuda:0'), tensor(5.9786, device='cuda:0'), tensor(5.3282, device='cuda:0'), tensor(5.0619, device='cuda:0'), tensor(5.4114, device='cuda:0'), tensor(5.0766, device='cuda:0'), tensor(5.8567, device='cuda:0'), tensor(5.2100, device='cuda:0'), tensor(6.0848, device='cuda:0'), tensor(6.1175, device='cuda:0'), tensor(5.1581, device='cuda:0'), tensor(5.0179, device='cuda:0'), tensor(4.8640, device='cuda:0'), tensor(6.3735, device='cuda:0'), tensor(5.2753, device='cuda:0'), tensor(6.0870, device='cuda:0'), tensor(6.2005, device='cuda:0'), tensor(5.0204, device='cuda:0'), tensor(4.6920, device='cuda:0'), tensor(5.9813, device='cuda:0'), tensor(5.3242, device='cuda:0'), tensor(5.9735, device='cuda:0'), tensor(5.7498, device='cuda:0'), tensor(5.0815, device='cuda:0'), tensor(6.2643, device='cuda:0'), tensor(4.6007, device='cuda:0'), tensor(4.6224, device='cuda:0'), tensor(5.9808, device='cuda:0'), tensor(4.9844, device='cuda:0'), tensor(6.1778, device='cuda:0'), tensor(6.0760, device='cuda:0'), tensor(5.0465, device='cuda:0'), tensor(4.9210, device='cuda:0'), tensor(5.9621, device='cuda:0'), tensor(5.9324, device='cuda:0'), tensor(6.0323, device='cuda:0'), tensor(4.5392, device='cuda:0'), tensor(5.5218, device='cuda:0'), tensor(5.0308, device='cuda:0'), tensor(5.9658, device='cuda:0'), tensor(5.6942, device='cuda:0'), tensor(4.9451, device='cuda:0'), tensor(4.5701, device='cuda:0'), tensor(6.0551, device='cuda:0'), tensor(6.2485, device='cuda:0'), tensor(5.1848, device='cuda:0'), tensor(5.9162, device='cuda:0'), tensor(4.8878, device='cuda:0'), tensor(6.2225, device='cuda:0'), tensor(4.8722, device='cuda:0'), tensor(4.9090, device='cuda:0'), tensor(6.0081, device='cuda:0'), tensor(4.8968, device='cuda:0'), tensor(4.8582, device='cuda:0'), tensor(5.9936, device='cuda:0'), tensor(6.0283, device='cuda:0'), tensor(4.7234, device='cuda:0'), tensor(4.9639, device='cuda:0'), tensor(5.9513, device='cuda:0'), tensor(6.0037, device='cuda:0'), tensor(5.6562, device='cuda:0'), tensor(5.0054, device='cuda:0'), tensor(5.2657, device='cuda:0'), tensor(4.9899, device='cuda:0'), tensor(6.1001, device='cuda:0'), tensor(6.4055, device='cuda:0'), tensor(4.9925, device='cuda:0'), tensor(6.0787, device='cuda:0'), tensor(5.8009, device='cuda:0'), tensor(6.0767, device='cuda:0'), tensor(4.8754, device='cuda:0'), tensor(4.9523, device='cuda:0'), tensor(5.1935, device='cuda:0'), tensor(6.0365, device='cuda:0'), tensor(5.5892, device='cuda:0'), tensor(6.0649, device='cuda:0'), tensor(5.9227, device='cuda:0'), tensor(5.3204, device='cuda:0'), tensor(4.8221, device='cuda:0'), tensor(5.1575, device='cuda:0'), tensor(5.3427, device='cuda:0'), tensor(4.7441, device='cuda:0'), tensor(4.9712, device='cuda:0'), tensor(4.5845, device='cuda:0'), tensor(5.9324, device='cuda:0'), tensor(4.7689, device='cuda:0'), tensor(4.8260, device='cuda:0'), tensor(6.1940, device='cuda:0'), tensor(5.1963, device='cuda:0'), tensor(4.9101, device='cuda:0'), tensor(5.9644, device='cuda:0'), tensor(6.1865, device='cuda:0'), tensor(6.1378, device='cuda:0'), tensor(5.9626, device='cuda:0'), tensor(5.9009, device='cuda:0'), tensor(5.2379, device='cuda:0'), tensor(4.5592, device='cuda:0'), tensor(6.0400, device='cuda:0'), tensor(6.0587, device='cuda:0'), tensor(6.1566, device='cuda:0'), tensor(5.8207, device='cuda:0'), tensor(5.3259, device='cuda:0'), tensor(5.7823, device='cuda:0'), tensor(5.6209, device='cuda:0'), tensor(5.9911, device='cuda:0'), tensor(6.1792, device='cuda:0'), tensor(5.0288, device='cuda:0'), tensor(5.8046, device='cuda:0'), tensor(6.0163, device='cuda:0'), tensor(5.0940, device='cuda:0'), tensor(4.8919, device='cuda:0'), tensor(6.1382, device='cuda:0'), tensor(5.0870, device='cuda:0'), tensor(4.9516, device='cuda:0'), tensor(6.1471, device='cuda:0'), tensor(6.1227, device='cuda:0'), tensor(4.9459, device='cuda:0'), tensor(5.2417, device='cuda:0'), tensor(4.8633, device='cuda:0'), tensor(5.9982, device='cuda:0'), tensor(6.2244, device='cuda:0'), tensor(6.0379, device='cuda:0'), tensor(5.0865, device='cuda:0'), tensor(5.9954, device='cuda:0'), tensor(5.7714, device='cuda:0'), tensor(6.0801, device='cuda:0'), tensor(4.8389, device='cuda:0'), tensor(6.0554, device='cuda:0'), tensor(5.1241, device='cuda:0'), tensor(6.0611, device='cuda:0'), tensor(4.9976, device='cuda:0'), tensor(5.6435, device='cuda:0'), tensor(6.1896, device='cuda:0'), tensor(5.7996, device='cuda:0'), tensor(5.6196, device='cuda:0'), tensor(4.9554, device='cuda:0'), tensor(5.0542, device='cuda:0'), tensor(5.1042, device='cuda:0'), tensor(5.2530, device='cuda:0'), tensor(5.8924, device='cuda:0'), tensor(5.9601, device='cuda:0'), tensor(5.1137, device='cuda:0'), tensor(6.0574, device='cuda:0'), tensor(6.0885, device='cuda:0'), tensor(6.3758, device='cuda:0'), tensor(5.0263, device='cuda:0'), tensor(5.8302, device='cuda:0'), tensor(5.9899, device='cuda:0'), tensor(4.5106, device='cuda:0'), tensor(4.9947, device='cuda:0'), tensor(5.9373, device='cuda:0'), tensor(5.8964, device='cuda:0'), tensor(5.0504, device='cuda:0'), tensor(5.9500, device='cuda:0'), tensor(6.0547, device='cuda:0'), tensor(5.9865, device='cuda:0'), tensor(5.7819, device='cuda:0'), tensor(5.9189, device='cuda:0'), tensor(5.8316, device='cuda:0'), tensor(4.5731, device='cuda:0'), tensor(4.9883, device='cuda:0'), tensor(5.8252, device='cuda:0'), tensor(6.0059, device='cuda:0'), tensor(6.1358, device='cuda:0'), tensor(6.0245, device='cuda:0'), tensor(4.7093, device='cuda:0'), tensor(5.1487, device='cuda:0'), tensor(6.1099, device='cuda:0'), tensor(5.2941, device='cuda:0'), tensor(4.7930, device='cuda:0'), tensor(6.2088, device='cuda:0'), tensor(4.8160, device='cuda:0'), tensor(4.5863, device='cuda:0'), tensor(5.0811, device='cuda:0'), tensor(5.7103, device='cuda:0'), tensor(5.9680, device='cuda:0'), tensor(6.0623, device='cuda:0'), tensor(5.9351, device='cuda:0'), tensor(5.8126, device='cuda:0'), tensor(4.6742, device='cuda:0'), tensor(4.8048, device='cuda:0'), tensor(5.0137, device='cuda:0'), tensor(5.0727, device='cuda:0'), tensor(4.9501, device='cuda:0'), tensor(6.2551, device='cuda:0'), tensor(4.9675, device='cuda:0'), tensor(5.0599, device='cuda:0'), tensor(6.0846, device='cuda:0'), tensor(5.8532, device='cuda:0'), tensor(4.9288, device='cuda:0'), tensor(5.8545, device='cuda:0'), tensor(5.5051, device='cuda:0'), tensor(5.8862, device='cuda:0'), tensor(5.9240, device='cuda:0'), tensor(5.4737, device='cuda:0'), tensor(5.9634, device='cuda:0'), tensor(4.8107, device='cuda:0'), tensor(6.0963, device='cuda:0'), tensor(5.0571, device='cuda:0'), tensor(5.9845, device='cuda:0'), tensor(5.9032, device='cuda:0'), tensor(5.3479, device='cuda:0'), tensor(4.6050, device='cuda:0'), tensor(5.9732, device='cuda:0'), tensor(5.2773, device='cuda:0'), tensor(6.1575, device='cuda:0'), tensor(5.4303, device='cuda:0'), tensor(5.0828, device='cuda:0'), tensor(6.2772, device='cuda:0'), tensor(6.0320, device='cuda:0'), tensor(4.8746, device='cuda:0'), tensor(6.3700, device='cuda:0'), tensor(4.8977, device='cuda:0'), tensor(4.9001, device='cuda:0'), tensor(4.8512, device='cuda:0'), tensor(4.8731, device='cuda:0'), tensor(5.2504, device='cuda:0'), tensor(4.7467, device='cuda:0'), tensor(4.8254, device='cuda:0'), tensor(4.9378, device='cuda:0'), tensor(6.0807, device='cuda:0'), tensor(5.8707, device='cuda:0'), tensor(6.1133, device='cuda:0'), tensor(6.0312, device='cuda:0'), tensor(6.0756, device='cuda:0'), tensor(5.9010, device='cuda:0'), tensor(5.7906, device='cuda:0'), tensor(4.5206, device='cuda:0'), tensor(4.8456, device='cuda:0'), tensor(6.1778, device='cuda:0'), tensor(5.7608, device='cuda:0'), tensor(5.8228, device='cuda:0'), tensor(5.9242, device='cuda:0'), tensor(4.5888, device='cuda:0'), tensor(6.2252, device='cuda:0'), tensor(4.7095, device='cuda:0'), tensor(5.1993, device='cuda:0'), tensor(6.1056, device='cuda:0'), tensor(4.7991, device='cuda:0'), tensor(4.7032, device='cuda:0'), tensor(4.5939, device='cuda:0'), tensor(4.9322, device='cuda:0'), tensor(5.8720, device='cuda:0'), tensor(5.9170, device='cuda:0'), tensor(6.3969, device='cuda:0'), tensor(6.1865, device='cuda:0'), tensor(4.8206, device='cuda:0'), tensor(6.2519, device='cuda:0'), tensor(5.1312, device='cuda:0'), tensor(6.3293, device='cuda:0'), tensor(4.8534, device='cuda:0'), tensor(5.9167, device='cuda:0'), tensor(5.8992, device='cuda:0'), tensor(4.9693, device='cuda:0'), tensor(5.0935, device='cuda:0'), tensor(4.9655, device='cuda:0'), tensor(5.9773, device='cuda:0'), tensor(5.9736, device='cuda:0'), tensor(4.6456, device='cuda:0'), tensor(5.8038, device='cuda:0'), tensor(4.8386, device='cuda:0'), tensor(4.9326, device='cuda:0'), tensor(5.1735, device='cuda:0'), tensor(5.2179, device='cuda:0'), tensor(4.9613, device='cuda:0'), tensor(4.7174, device='cuda:0'), tensor(5.7606, device='cuda:0'), tensor(6.0810, device='cuda:0'), tensor(5.9164, device='cuda:0'), tensor(6.4990, device='cuda:0'), tensor(4.8252, device='cuda:0'), tensor(5.9925, device='cuda:0'), tensor(5.9580, device='cuda:0'), tensor(5.0337, device='cuda:0'), tensor(4.9606, device='cuda:0'), tensor(6.0672, device='cuda:0'), tensor(4.6114, device='cuda:0'), tensor(5.0788, device='cuda:0'), tensor(5.7741, device='cuda:0'), tensor(5.1132, device='cuda:0'), tensor(4.8357, device='cuda:0'), tensor(5.2945, device='cuda:0'), tensor(6.1327, device='cuda:0'), tensor(4.6556, device='cuda:0'), tensor(4.6809, device='cuda:0'), tensor(6.1726, device='cuda:0'), tensor(4.9489, device='cuda:0'), tensor(4.4351, device='cuda:0'), tensor(4.9402, device='cuda:0'), tensor(5.9353, device='cuda:0'), tensor(4.8910, device='cuda:0'), tensor(5.0987, device='cuda:0'), tensor(5.8006, device='cuda:0'), tensor(5.9702, device='cuda:0'), tensor(5.2412, device='cuda:0'), tensor(6.0209, device='cuda:0'), tensor(5.2404, device='cuda:0'), tensor(5.0012, device='cuda:0'), tensor(4.9928, device='cuda:0'), tensor(4.7915, device='cuda:0'), tensor(6.1810, device='cuda:0'), tensor(5.0053, device='cuda:0'), tensor(4.8137, device='cuda:0'), tensor(5.2877, device='cuda:0'), tensor(5.8861, device='cuda:0'), tensor(4.7858, device='cuda:0'), tensor(4.8392, device='cuda:0'), tensor(6.0876, device='cuda:0'), tensor(6.1476, device='cuda:0'), tensor(5.9625, device='cuda:0'), tensor(6.0011, device='cuda:0'), tensor(5.9097, device='cuda:0'), tensor(5.1774, device='cuda:0'), tensor(6.0336, device='cuda:0'), tensor(5.0808, device='cuda:0'), tensor(6.1104, device='cuda:0'), tensor(4.8997, device='cuda:0'), tensor(4.7227, device='cuda:0'), tensor(4.5237, device='cuda:0'), tensor(5.0325, device='cuda:0'), tensor(4.8640, device='cuda:0'), tensor(4.7794, device='cuda:0'), tensor(5.7022, device='cuda:0'), tensor(5.6620, device='cuda:0'), tensor(5.9325, device='cuda:0'), tensor(5.7392, device='cuda:0'), tensor(6.0907, device='cuda:0'), tensor(5.1136, device='cuda:0'), tensor(5.2785, device='cuda:0'), tensor(4.9775, device='cuda:0'), tensor(6.0658, device='cuda:0'), tensor(6.2240, device='cuda:0'), tensor(4.3997, device='cuda:0'), tensor(6.0657, device='cuda:0'), tensor(5.1425, device='cuda:0'), tensor(4.5386, device='cuda:0'), tensor(6.2343, device='cuda:0'), tensor(6.0812, device='cuda:0'), tensor(4.6096, device='cuda:0'), tensor(5.7592, device='cuda:0'), tensor(6.1648, device='cuda:0'), tensor(4.8263, device='cuda:0'), tensor(4.9656, device='cuda:0'), tensor(5.5759, device='cuda:0'), tensor(6.0709, device='cuda:0'), tensor(4.8061, device='cuda:0'), tensor(4.9814, device='cuda:0'), tensor(6.2944, device='cuda:0'), tensor(4.8166, device='cuda:0'), tensor(6.2198, device='cuda:0'), tensor(5.8804, device='cuda:0'), tensor(4.7660, device='cuda:0'), tensor(5.9987, device='cuda:0'), tensor(6.1082, device='cuda:0'), tensor(6.1336, device='cuda:0'), tensor(5.0492, device='cuda:0'), tensor(5.3072, device='cuda:0'), tensor(5.9239, device='cuda:0'), tensor(5.8675, device='cuda:0'), tensor(4.7042, device='cuda:0'), tensor(4.6266, device='cuda:0'), tensor(4.8389, device='cuda:0'), tensor(5.8712, device='cuda:0'), tensor(5.5843, device='cuda:0'), tensor(6.0831, device='cuda:0'), tensor(5.9543, device='cuda:0'), tensor(5.6980, device='cuda:0'), tensor(5.1437, device='cuda:0'), tensor(4.7136, device='cuda:0'), tensor(6.0562, device='cuda:0'), tensor(4.6932, device='cuda:0'), tensor(5.8059, device='cuda:0'), tensor(5.6651, device='cuda:0'), tensor(4.8925, device='cuda:0'), tensor(5.6422, device='cuda:0'), tensor(5.2947, device='cuda:0'), tensor(6.0338, device='cuda:0'), tensor(5.9521, device='cuda:0'), tensor(5.7040, device='cuda:0'), tensor(5.7224, device='cuda:0'), tensor(4.7384, device='cuda:0'), tensor(5.7179, device='cuda:0'), tensor(6.0506, device='cuda:0'), tensor(4.9363, device='cuda:0'), tensor(4.8522, device='cuda:0'), tensor(5.7321, device='cuda:0'), tensor(5.7627, device='cuda:0'), tensor(4.9758, device='cuda:0'), tensor(5.8039, device='cuda:0'), tensor(4.7188, device='cuda:0'), tensor(5.7653, device='cuda:0'), tensor(4.9209, device='cuda:0'), tensor(5.0204, device='cuda:0'), tensor(4.9178, device='cuda:0'), tensor(4.8766, device='cuda:0'), tensor(4.9644, device='cuda:0'), tensor(5.3344, device='cuda:0'), tensor(5.9207, device='cuda:0'), tensor(5.0089, device='cuda:0'), tensor(5.6220, device='cuda:0'), tensor(6.0713, device='cuda:0'), tensor(5.0517, device='cuda:0'), tensor(5.9250, device='cuda:0'), tensor(5.8628, device='cuda:0'), tensor(6.1545, device='cuda:0'), tensor(4.5653, device='cuda:0'), tensor(6.0348, device='cuda:0'), tensor(5.1834, device='cuda:0'), tensor(5.7676, device='cuda:0'), tensor(5.7242, device='cuda:0'), tensor(4.4765, device='cuda:0'), tensor(4.9773, device='cuda:0'), tensor(5.9232, device='cuda:0'), tensor(6.2027, device='cuda:0'), tensor(4.9045, device='cuda:0'), tensor(4.5889, device='cuda:0'), tensor(5.2044, device='cuda:0'), tensor(4.5221, device='cuda:0'), tensor(5.7963, device='cuda:0'), tensor(4.7631, device='cuda:0'), tensor(4.8906, device='cuda:0'), tensor(4.5884, device='cuda:0'), tensor(5.0008, device='cuda:0'), tensor(6.1452, device='cuda:0'), tensor(6.2192, device='cuda:0'), tensor(6.0739, device='cuda:0'), tensor(4.8354, device='cuda:0'), tensor(6.1301, device='cuda:0'), tensor(4.8755, device='cuda:0'), tensor(4.5879, device='cuda:0'), tensor(5.8661, device='cuda:0'), tensor(4.5660, device='cuda:0'), tensor(4.2814, device='cuda:0'), tensor(4.6997, device='cuda:0'), tensor(6.2599, device='cuda:0'), tensor(5.9952, device='cuda:0'), tensor(6.0526, device='cuda:0'), tensor(5.2040, device='cuda:0'), tensor(4.8014, device='cuda:0'), tensor(4.9503, device='cuda:0'), tensor(6.0080, device='cuda:0'), tensor(4.6667, device='cuda:0'), tensor(5.0895, device='cuda:0'), tensor(4.9068, device='cuda:0'), tensor(5.8669, device='cuda:0'), tensor(5.9147, device='cuda:0'), tensor(6.0147, device='cuda:0'), tensor(4.7506, device='cuda:0'), tensor(6.1552, device='cuda:0'), tensor(5.1212, device='cuda:0'), tensor(5.7620, device='cuda:0'), tensor(5.0003, device='cuda:0'), tensor(6.0348, device='cuda:0'), tensor(4.9849, device='cuda:0'), tensor(4.9016, device='cuda:0'), tensor(4.7742, device='cuda:0'), tensor(4.9238, device='cuda:0'), tensor(5.1480, device='cuda:0'), tensor(6.3062, device='cuda:0'), tensor(4.9664, device='cuda:0'), tensor(4.9395, device='cuda:0'), tensor(5.8261, device='cuda:0'), tensor(5.9292, device='cuda:0'), tensor(4.6473, device='cuda:0'), tensor(6.0700, device='cuda:0'), tensor(6.0439, device='cuda:0'), tensor(4.7611, device='cuda:0'), tensor(4.7960, device='cuda:0'), tensor(4.7951, device='cuda:0'), tensor(5.7946, device='cuda:0'), tensor(6.2035, device='cuda:0'), tensor(6.0340, device='cuda:0'), tensor(4.5746, device='cuda:0'), tensor(5.9725, device='cuda:0'), tensor(6.1659, device='cuda:0'), tensor(5.9441, device='cuda:0'), tensor(5.0496, device='cuda:0'), tensor(4.7679, device='cuda:0'), tensor(5.5280, device='cuda:0'), tensor(5.8385, device='cuda:0'), tensor(6.0343, device='cuda:0'), tensor(5.8076, device='cuda:0'), tensor(5.1914, device='cuda:0'), tensor(5.7688, device='cuda:0'), tensor(5.9248, device='cuda:0'), tensor(4.6040, device='cuda:0'), tensor(5.1119, device='cuda:0'), tensor(4.6848, device='cuda:0'), tensor(6.0711, device='cuda:0'), tensor(6.0308, device='cuda:0'), tensor(5.9856, device='cuda:0'), tensor(5.9120, device='cuda:0'), tensor(4.7379, device='cuda:0'), tensor(5.3142, device='cuda:0'), tensor(5.6639, device='cuda:0'), tensor(4.9634, device='cuda:0'), tensor(6.0426, device='cuda:0'), tensor(5.0364, device='cuda:0'), tensor(5.8807, device='cuda:0'), tensor(5.0685, device='cuda:0'), tensor(4.8373, device='cuda:0'), tensor(5.8194, device='cuda:0'), tensor(6.0048, device='cuda:0'), tensor(4.8348, device='cuda:0'), tensor(5.8080, device='cuda:0'), tensor(4.8772, device='cuda:0'), tensor(6.1543, device='cuda:0'), tensor(4.5358, device='cuda:0'), tensor(4.7570, device='cuda:0'), tensor(5.0737, device='cuda:0'), tensor(4.7386, device='cuda:0'), tensor(6.1485, device='cuda:0'), tensor(5.7634, device='cuda:0'), tensor(6.0026, device='cuda:0'), tensor(4.7877, device='cuda:0'), tensor(5.2945, device='cuda:0'), tensor(6.0534, device='cuda:0'), tensor(4.7688, device='cuda:0'), tensor(6.0660, device='cuda:0'), tensor(4.9061, device='cuda:0'), tensor(4.8546, device='cuda:0'), tensor(5.8741, device='cuda:0'), tensor(5.9867, device='cuda:0'), tensor(5.7812, device='cuda:0'), tensor(6.0970, device='cuda:0'), tensor(4.9740, device='cuda:0'), tensor(5.9113, device='cuda:0'), tensor(4.9049, device='cuda:0'), tensor(4.9536, device='cuda:0'), tensor(5.0057, device='cuda:0'), tensor(6.0520, device='cuda:0'), tensor(6.0540, device='cuda:0'), tensor(5.4484, device='cuda:0'), tensor(5.9826, device='cuda:0'), tensor(4.9668, device='cuda:0'), tensor(5.9733, device='cuda:0'), tensor(5.8993, device='cuda:0'), tensor(5.8874, device='cuda:0'), tensor(4.7849, device='cuda:0'), tensor(4.7030, device='cuda:0'), tensor(5.7655, device='cuda:0'), tensor(6.0916, device='cuda:0'), tensor(4.7540, device='cuda:0'), tensor(5.7370, device='cuda:0'), tensor(6.0146, device='cuda:0'), tensor(5.9139, device='cuda:0'), tensor(4.8865, device='cuda:0'), tensor(5.3842, device='cuda:0'), tensor(4.7596, device='cuda:0'), tensor(5.7145, device='cuda:0'), tensor(4.8023, device='cuda:0'), tensor(4.7377, device='cuda:0'), tensor(4.9186, device='cuda:0'), tensor(5.8139, device='cuda:0'), tensor(4.7761, device='cuda:0'), tensor(4.4056, device='cuda:0'), tensor(5.1029, device='cuda:0'), tensor(4.6762, device='cuda:0'), tensor(5.6830, device='cuda:0'), tensor(6.2440, device='cuda:0'), tensor(5.9467, device='cuda:0'), tensor(6.1173, device='cuda:0'), tensor(4.7119, device='cuda:0'), tensor(5.9947, device='cuda:0'), tensor(5.9781, device='cuda:0'), tensor(4.9964, device='cuda:0'), tensor(6.2649, device='cuda:0'), tensor(6.2035, device='cuda:0'), tensor(5.8725, device='cuda:0'), tensor(6.0976, device='cuda:0'), tensor(5.0069, device='cuda:0'), tensor(5.8279, device='cuda:0'), tensor(5.2503, device='cuda:0'), tensor(5.9633, device='cuda:0'), tensor(5.9977, device='cuda:0'), tensor(5.9968, device='cuda:0'), tensor(4.9368, device='cuda:0'), tensor(4.7210, device='cuda:0'), tensor(4.9970, device='cuda:0'), tensor(5.2298, device='cuda:0'), tensor(4.8530, device='cuda:0'), tensor(5.7577, device='cuda:0'), tensor(5.8045, device='cuda:0'), tensor(5.1426, device='cuda:0'), tensor(4.8016, device='cuda:0'), tensor(4.8542, device='cuda:0'), tensor(5.0383, device='cuda:0'), tensor(5.9509, device='cuda:0'), tensor(6.1820, device='cuda:0'), tensor(4.8402, device='cuda:0'), tensor(5.8763, device='cuda:0'), tensor(5.9176, device='cuda:0'), tensor(5.9841, device='cuda:0'), tensor(4.7945, device='cuda:0'), tensor(4.8535, device='cuda:0'), tensor(5.9770, device='cuda:0'), tensor(4.4333, device='cuda:0'), tensor(5.0322, device='cuda:0'), tensor(6.2018, device='cuda:0'), tensor(5.8311, device='cuda:0'), tensor(5.7552, device='cuda:0'), tensor(4.7635, device='cuda:0'), tensor(6.1433, device='cuda:0'), tensor(5.0671, device='cuda:0'), tensor(5.6808, device='cuda:0'), tensor(5.8808, device='cuda:0'), tensor(5.8477, device='cuda:0'), tensor(4.8724, device='cuda:0'), tensor(5.8557, device='cuda:0'), tensor(4.7288, device='cuda:0'), tensor(5.7930, device='cuda:0'), tensor(6.1242, device='cuda:0'), tensor(5.9403, device='cuda:0'), tensor(6.0509, device='cuda:0'), tensor(4.9012, device='cuda:0'), tensor(5.7650, device='cuda:0'), tensor(5.3403, device='cuda:0'), tensor(5.6528, device='cuda:0'), tensor(6.0617, device='cuda:0'), tensor(6.1254, device='cuda:0'), tensor(5.2771, device='cuda:0'), tensor(4.9222, device='cuda:0'), tensor(4.8912, device='cuda:0'), tensor(4.9274, device='cuda:0'), tensor(4.8863, device='cuda:0'), tensor(4.7735, device='cuda:0'), tensor(6.0209, device='cuda:0'), tensor(5.3212, device='cuda:0'), tensor(5.2468, device='cuda:0'), tensor(5.1798, device='cuda:0'), tensor(5.9115, device='cuda:0'), tensor(5.7650, device='cuda:0'), tensor(6.2012, device='cuda:0'), tensor(5.2014, device='cuda:0'), tensor(6.0686, device='cuda:0'), tensor(5.9055, device='cuda:0'), tensor(4.6999, device='cuda:0'), tensor(5.9945, device='cuda:0'), tensor(5.0056, device='cuda:0'), tensor(4.7363, device='cuda:0'), tensor(4.5707, device='cuda:0'), tensor(4.9958, device='cuda:0'), tensor(5.9963, device='cuda:0'), tensor(5.0457, device='cuda:0'), tensor(5.7642, device='cuda:0'), tensor(5.1848, device='cuda:0'), tensor(4.6690, device='cuda:0'), tensor(5.3177, device='cuda:0'), tensor(5.8951, device='cuda:0'), tensor(4.8341, device='cuda:0'), tensor(5.8583, device='cuda:0'), tensor(5.9786, device='cuda:0'), tensor(5.5238, device='cuda:0'), tensor(4.7378, device='cuda:0'), tensor(4.6685, device='cuda:0'), tensor(6.1898, device='cuda:0'), tensor(5.7596, device='cuda:0'), tensor(6.1346, device='cuda:0'), tensor(4.6693, device='cuda:0'), tensor(5.8875, device='cuda:0'), tensor(5.9540, device='cuda:0'), tensor(6.2149, device='cuda:0'), tensor(6.3649, device='cuda:0'), tensor(5.6947, device='cuda:0'), tensor(4.8760, device='cuda:0'), tensor(5.7488, device='cuda:0'), tensor(5.8825, device='cuda:0'), tensor(5.8627, device='cuda:0'), tensor(5.7723, device='cuda:0'), tensor(5.8334, device='cuda:0'), tensor(6.0081, device='cuda:0'), tensor(6.0453, device='cuda:0'), tensor(5.9959, device='cuda:0'), tensor(5.9522, device='cuda:0'), tensor(4.6506, device='cuda:0'), tensor(4.7859, device='cuda:0'), tensor(5.3077, device='cuda:0'), tensor(5.9555, device='cuda:0'), tensor(6.0984, device='cuda:0'), tensor(4.7329, device='cuda:0'), tensor(5.0834, device='cuda:0'), tensor(5.6408, device='cuda:0'), tensor(5.0803, device='cuda:0'), tensor(6.2911, device='cuda:0'), tensor(5.1545, device='cuda:0'), tensor(6.0483, device='cuda:0'), tensor(6.3411, device='cuda:0'), tensor(4.7127, device='cuda:0'), tensor(6.0466, device='cuda:0'), tensor(4.5528, device='cuda:0'), tensor(4.6281, device='cuda:0'), tensor(4.7635, device='cuda:0'), tensor(4.9163, device='cuda:0'), tensor(5.9631, device='cuda:0'), tensor(5.9498, device='cuda:0'), tensor(4.9573, device='cuda:0'), tensor(5.8994, device='cuda:0'), tensor(4.4079, device='cuda:0'), tensor(4.9978, device='cuda:0'), tensor(5.9653, device='cuda:0'), tensor(5.9333, device='cuda:0'), tensor(5.9851, device='cuda:0'), tensor(6.1337, device='cuda:0'), tensor(5.7334, device='cuda:0'), tensor(5.7801, device='cuda:0'), tensor(5.1174, device='cuda:0'), tensor(4.6694, device='cuda:0'), tensor(5.9718, device='cuda:0'), tensor(5.8645, device='cuda:0'), tensor(4.9682, device='cuda:0'), tensor(5.5931, device='cuda:0'), tensor(4.8656, device='cuda:0'), tensor(5.7272, device='cuda:0'), tensor(4.9851, device='cuda:0'), tensor(4.9610, device='cuda:0'), tensor(5.6339, device='cuda:0'), tensor(5.7059, device='cuda:0'), tensor(5.6584, device='cuda:0'), tensor(5.0583, device='cuda:0'), tensor(5.9930, device='cuda:0'), tensor(6.1873, device='cuda:0'), tensor(6.0509, device='cuda:0'), tensor(5.8951, device='cuda:0'), tensor(5.8147, device='cuda:0'), tensor(5.7557, device='cuda:0'), tensor(5.7936, device='cuda:0'), tensor(4.8939, device='cuda:0'), tensor(4.9550, device='cuda:0'), tensor(5.0653, device='cuda:0'), tensor(6.0035, device='cuda:0'), tensor(6.0157, device='cuda:0'), tensor(6.0419, device='cuda:0'), tensor(4.9275, device='cuda:0'), tensor(6.1439, device='cuda:0'), tensor(4.8200, device='cuda:0'), tensor(4.9198, device='cuda:0'), tensor(6.0034, device='cuda:0'), tensor(4.8786, device='cuda:0'), tensor(4.6231, device='cuda:0'), tensor(5.0248, device='cuda:0'), tensor(4.7808, device='cuda:0'), tensor(5.0866, device='cuda:0'), tensor(5.9099, device='cuda:0'), tensor(5.8538, device='cuda:0'), tensor(4.5938, device='cuda:0'), tensor(6.1447, device='cuda:0'), tensor(4.5058, device='cuda:0'), tensor(5.8731, device='cuda:0'), tensor(5.1275, device='cuda:0'), tensor(4.8086, device='cuda:0'), tensor(4.9396, device='cuda:0'), tensor(5.9606, device='cuda:0'), tensor(5.7746, device='cuda:0'), tensor(5.7274, device='cuda:0'), tensor(4.9024, device='cuda:0'), tensor(4.4292, device='cuda:0'), tensor(5.9540, device='cuda:0'), tensor(4.6162, device='cuda:0'), tensor(4.9328, device='cuda:0'), tensor(4.5853, device='cuda:0'), tensor(4.8860, device='cuda:0'), tensor(5.9457, device='cuda:0'), tensor(4.7830, device='cuda:0'), tensor(5.6928, device='cuda:0'), tensor(4.9491, device='cuda:0'), tensor(5.1569, device='cuda:0'), tensor(6.0360, device='cuda:0'), tensor(5.9883, device='cuda:0'), tensor(6.0935, device='cuda:0'), tensor(5.9418, device='cuda:0'), tensor(4.7926, device='cuda:0'), tensor(5.8495, device='cuda:0'), tensor(6.2923, device='cuda:0'), tensor(5.7308, device='cuda:0'), tensor(4.7428, device='cuda:0'), tensor(5.8323, device='cuda:0'), tensor(4.8501, device='cuda:0'), tensor(4.7642, device='cuda:0'), tensor(5.9305, device='cuda:0'), tensor(5.9551, device='cuda:0'), tensor(5.7873, device='cuda:0'), tensor(6.1287, device='cuda:0'), tensor(4.9851, device='cuda:0'), tensor(5.9884, device='cuda:0'), tensor(4.3536, device='cuda:0'), tensor(5.0968, device='cuda:0'), tensor(4.9294, device='cuda:0'), tensor(4.6798, device='cuda:0'), tensor(5.9765, device='cuda:0'), tensor(4.7619, device='cuda:0'), tensor(5.8913, device='cuda:0'), tensor(5.9079, device='cuda:0'), tensor(4.6880, device='cuda:0'), tensor(5.8806, device='cuda:0'), tensor(6.1261, device='cuda:0'), tensor(4.6750, device='cuda:0'), tensor(4.6916, device='cuda:0'), tensor(5.8792, device='cuda:0'), tensor(5.8368, device='cuda:0'), tensor(6.1941, device='cuda:0'), tensor(4.9032, device='cuda:0'), tensor(5.1781, device='cuda:0'), tensor(5.4658, device='cuda:0'), tensor(5.5262, device='cuda:0'), tensor(6.0219, device='cuda:0'), tensor(4.6428, device='cuda:0'), tensor(4.8780, device='cuda:0'), tensor(5.4914, device='cuda:0'), tensor(5.2662, device='cuda:0'), tensor(4.6780, device='cuda:0'), tensor(5.2389, device='cuda:0'), tensor(4.5570, device='cuda:0'), tensor(4.9592, device='cuda:0'), tensor(4.6227, device='cuda:0'), tensor(4.7537, device='cuda:0'), tensor(5.7804, device='cuda:0'), tensor(6.0928, device='cuda:0'), tensor(4.8252, device='cuda:0'), tensor(4.5845, device='cuda:0'), tensor(5.8119, device='cuda:0'), tensor(5.9546, device='cuda:0'), tensor(5.9391, device='cuda:0'), tensor(5.7886, device='cuda:0'), tensor(5.0385, device='cuda:0'), tensor(4.5211, device='cuda:0'), tensor(5.0676, device='cuda:0'), tensor(4.9342, device='cuda:0'), tensor(5.9565, device='cuda:0'), tensor(5.9408, device='cuda:0'), tensor(5.8538, device='cuda:0'), tensor(5.7627, device='cuda:0'), tensor(6.0348, device='cuda:0'), tensor(5.6599, device='cuda:0'), tensor(4.6207, device='cuda:0'), tensor(6.0184, device='cuda:0'), tensor(4.6380, device='cuda:0'), tensor(5.1607, device='cuda:0'), tensor(4.6177, device='cuda:0'), tensor(5.9686, device='cuda:0'), tensor(5.8613, device='cuda:0'), tensor(6.0168, device='cuda:0'), tensor(5.7112, device='cuda:0'), tensor(5.7803, device='cuda:0'), tensor(4.6077, device='cuda:0'), tensor(4.8702, device='cuda:0'), tensor(4.9306, device='cuda:0'), tensor(5.9321, device='cuda:0'), tensor(6.0711, device='cuda:0'), tensor(4.7377, device='cuda:0'), tensor(5.9934, device='cuda:0'), tensor(4.9280, device='cuda:0'), tensor(4.9769, device='cuda:0'), tensor(5.6095, device='cuda:0'), tensor(4.9365, device='cuda:0'), tensor(4.3648, device='cuda:0'), tensor(4.6741, device='cuda:0'), tensor(5.8604, device='cuda:0'), tensor(5.7530, device='cuda:0'), tensor(4.8076, device='cuda:0'), tensor(4.9115, device='cuda:0'), tensor(4.6177, device='cuda:0'), tensor(6.1217, device='cuda:0'), tensor(5.8723, device='cuda:0'), tensor(6.0146, device='cuda:0'), tensor(5.0726, device='cuda:0'), tensor(4.8566, device='cuda:0'), tensor(4.8351, device='cuda:0'), tensor(5.8250, device='cuda:0'), tensor(6.0275, device='cuda:0'), tensor(5.6910, device='cuda:0'), tensor(5.8166, device='cuda:0'), tensor(5.9965, device='cuda:0'), tensor(5.8175, device='cuda:0'), tensor(4.7531, device='cuda:0'), tensor(6.1544, device='cuda:0'), tensor(5.6857, device='cuda:0'), tensor(5.0594, device='cuda:0'), tensor(4.4973, device='cuda:0'), tensor(5.5277, device='cuda:0'), tensor(5.5778, device='cuda:0'), tensor(4.9493, device='cuda:0'), tensor(5.2930, device='cuda:0'), tensor(4.5421, device='cuda:0'), tensor(5.9174, device='cuda:0'), tensor(5.9220, device='cuda:0'), tensor(4.9553, device='cuda:0'), tensor(4.8139, device='cuda:0'), tensor(4.6775, device='cuda:0'), tensor(4.9225, device='cuda:0'), tensor(5.8842, device='cuda:0'), tensor(5.9980, device='cuda:0'), tensor(4.7182, device='cuda:0'), tensor(6.0480, device='cuda:0'), tensor(4.7563, device='cuda:0'), tensor(4.8821, device='cuda:0'), tensor(5.7351, device='cuda:0'), tensor(5.1016, device='cuda:0'), tensor(4.9210, device='cuda:0'), tensor(5.8254, device='cuda:0'), tensor(6.3395, device='cuda:0'), tensor(5.7636, device='cuda:0'), tensor(6.0004, device='cuda:0'), tensor(5.3475, device='cuda:0'), tensor(4.7051, device='cuda:0'), tensor(5.9245, device='cuda:0'), tensor(4.8875, device='cuda:0'), tensor(5.8237, device='cuda:0'), tensor(4.9489, device='cuda:0'), tensor(4.8473, device='cuda:0'), tensor(5.8521, device='cuda:0'), tensor(5.7833, device='cuda:0'), tensor(6.0036, device='cuda:0'), tensor(5.9493, device='cuda:0'), tensor(5.8921, device='cuda:0'), tensor(6.0933, device='cuda:0'), tensor(4.9382, device='cuda:0'), tensor(4.5552, device='cuda:0'), tensor(5.7372, device='cuda:0'), tensor(5.8729, device='cuda:0'), tensor(6.0067, device='cuda:0'), tensor(5.9775, device='cuda:0'), tensor(4.8659, device='cuda:0'), tensor(4.8203, device='cuda:0'), tensor(6.0456, device='cuda:0'), tensor(4.9453, device='cuda:0'), tensor(4.9691, device='cuda:0'), tensor(5.7529, device='cuda:0'), tensor(4.6299, device='cuda:0'), tensor(5.1113, device='cuda:0'), tensor(6.1715, device='cuda:0'), tensor(4.7079, device='cuda:0'), tensor(5.8664, device='cuda:0'), tensor(5.7179, device='cuda:0'), tensor(5.8569, device='cuda:0'), tensor(5.9123, device='cuda:0'), tensor(4.8071, device='cuda:0'), tensor(6.1036, device='cuda:0'), tensor(4.9205, device='cuda:0'), tensor(4.7929, device='cuda:0'), tensor(5.9568, device='cuda:0'), tensor(5.7601, device='cuda:0'), tensor(6.1312, device='cuda:0'), tensor(4.7128, device='cuda:0'), tensor(4.5950, device='cuda:0'), tensor(6.2351, device='cuda:0'), tensor(5.9771, device='cuda:0'), tensor(5.1930, device='cuda:0'), tensor(4.7782, device='cuda:0'), tensor(4.5824, device='cuda:0'), tensor(4.9745, device='cuda:0'), tensor(4.6040, device='cuda:0'), tensor(4.6068, device='cuda:0'), tensor(4.7252, device='cuda:0'), tensor(4.9041, device='cuda:0'), tensor(4.9248, device='cuda:0'), tensor(4.5969, device='cuda:0'), tensor(5.1110, device='cuda:0'), tensor(4.6599, device='cuda:0'), tensor(5.8488, device='cuda:0'), tensor(4.4763, device='cuda:0'), tensor(4.8927, device='cuda:0'), tensor(4.9001, device='cuda:0'), tensor(4.6256, device='cuda:0'), tensor(5.6932, device='cuda:0'), tensor(6.1403, device='cuda:0'), tensor(4.9960, device='cuda:0'), tensor(5.8251, device='cuda:0'), tensor(5.0872, device='cuda:0'), tensor(4.6705, device='cuda:0'), tensor(5.7576, device='cuda:0'), tensor(5.7767, device='cuda:0'), tensor(6.0524, device='cuda:0'), tensor(4.6202, device='cuda:0'), tensor(6.1106, device='cuda:0'), tensor(6.0773, device='cuda:0'), tensor(5.1002, device='cuda:0'), tensor(5.6744, device='cuda:0'), tensor(4.9663, device='cuda:0'), tensor(4.6780, device='cuda:0'), tensor(6.1324, device='cuda:0'), tensor(5.9327, device='cuda:0'), tensor(6.0020, device='cuda:0'), tensor(4.6233, device='cuda:0'), tensor(5.7597, device='cuda:0'), tensor(5.1974, device='cuda:0'), tensor(4.4469, device='cuda:0'), tensor(6.1414, device='cuda:0'), tensor(5.9308, device='cuda:0'), tensor(5.8853, device='cuda:0'), tensor(4.5814, device='cuda:0'), tensor(4.7798, device='cuda:0'), tensor(5.7431, device='cuda:0'), tensor(5.8328, device='cuda:0'), tensor(5.9338, device='cuda:0'), tensor(4.7846, device='cuda:0'), tensor(4.9178, device='cuda:0'), tensor(4.6671, device='cuda:0'), tensor(5.1929, device='cuda:0'), tensor(5.0295, device='cuda:0'), tensor(5.9141, device='cuda:0'), tensor(5.8408, device='cuda:0'), tensor(5.5469, device='cuda:0'), tensor(5.9645, device='cuda:0'), tensor(4.8673, device='cuda:0'), tensor(5.9328, device='cuda:0'), tensor(5.7384, device='cuda:0'), tensor(5.8126, device='cuda:0'), tensor(4.8578, device='cuda:0'), tensor(4.7889, device='cuda:0'), tensor(5.8722, device='cuda:0'), tensor(4.7608, device='cuda:0'), tensor(6.0092, device='cuda:0'), tensor(5.6733, device='cuda:0'), tensor(5.7673, device='cuda:0'), tensor(5.9868, device='cuda:0'), tensor(4.8058, device='cuda:0'), tensor(4.6859, device='cuda:0'), tensor(5.0127, device='cuda:0'), tensor(5.8596, device='cuda:0'), tensor(6.0171, device='cuda:0'), tensor(4.9780, device='cuda:0'), tensor(5.8452, device='cuda:0'), tensor(4.9368, device='cuda:0'), tensor(5.8212, device='cuda:0'), tensor(4.5961, device='cuda:0'), tensor(4.8853, device='cuda:0'), tensor(4.6144, device='cuda:0'), tensor(5.1260, device='cuda:0'), tensor(5.7138, device='cuda:0'), tensor(5.1352, device='cuda:0'), tensor(4.9273, device='cuda:0'), tensor(4.5963, device='cuda:0'), tensor(5.9514, device='cuda:0'), tensor(4.8876, device='cuda:0'), tensor(5.6862, device='cuda:0'), tensor(4.9521, device='cuda:0'), tensor(5.6182, device='cuda:0'), tensor(5.4725, device='cuda:0'), tensor(5.6338, device='cuda:0'), tensor(5.7387, device='cuda:0'), tensor(5.0514, device='cuda:0'), tensor(6.0256, device='cuda:0'), tensor(4.7957, device='cuda:0'), tensor(5.7856, device='cuda:0'), tensor(4.9699, device='cuda:0'), tensor(4.8814, device='cuda:0'), tensor(5.8425, device='cuda:0'), tensor(5.8828, device='cuda:0'), tensor(4.8730, device='cuda:0'), tensor(4.8578, device='cuda:0'), tensor(4.5694, device='cuda:0'), tensor(4.9853, device='cuda:0'), tensor(4.8771, device='cuda:0'), tensor(6.0414, device='cuda:0'), tensor(5.0470, device='cuda:0'), tensor(4.7871, device='cuda:0'), tensor(6.1262, device='cuda:0'), tensor(6.0820, device='cuda:0'), tensor(5.9032, device='cuda:0'), tensor(4.6076, device='cuda:0'), tensor(4.7716, device='cuda:0'), tensor(5.7700, device='cuda:0'), tensor(6.0730, device='cuda:0'), tensor(4.6593, device='cuda:0'), tensor(5.0485, device='cuda:0'), tensor(5.5602, device='cuda:0'), tensor(4.4328, device='cuda:0'), tensor(5.7512, device='cuda:0'), tensor(5.9200, device='cuda:0'), tensor(4.8854, device='cuda:0'), tensor(5.8912, device='cuda:0'), tensor(5.7589, device='cuda:0'), tensor(5.1043, device='cuda:0'), tensor(5.7732, device='cuda:0'), tensor(5.7892, device='cuda:0'), tensor(4.8079, device='cuda:0'), tensor(4.8151, device='cuda:0'), tensor(6.2441, device='cuda:0'), tensor(4.5901, device='cuda:0'), tensor(4.6030, device='cuda:0'), tensor(4.7045, device='cuda:0'), tensor(5.8689, device='cuda:0'), tensor(5.9678, device='cuda:0'), tensor(4.6059, device='cuda:0'), tensor(6.0692, device='cuda:0'), tensor(5.9631, device='cuda:0'), tensor(6.1482, device='cuda:0'), tensor(5.4936, device='cuda:0'), tensor(5.9882, device='cuda:0'), tensor(4.5950, device='cuda:0'), tensor(5.3989, device='cuda:0'), tensor(4.8409, device='cuda:0'), tensor(5.9775, device='cuda:0'), tensor(5.6480, device='cuda:0'), tensor(4.7284, device='cuda:0'), tensor(4.7530, device='cuda:0'), tensor(5.7920, device='cuda:0'), tensor(5.7555, device='cuda:0'), tensor(4.7933, device='cuda:0'), tensor(5.9669, device='cuda:0'), tensor(4.9640, device='cuda:0'), tensor(4.7258, device='cuda:0'), tensor(6.0865, device='cuda:0'), tensor(5.8163, device='cuda:0'), tensor(5.8530, device='cuda:0'), tensor(5.7249, device='cuda:0'), tensor(5.9517, device='cuda:0'), tensor(5.8863, device='cuda:0'), tensor(5.6891, device='cuda:0'), tensor(4.7192, device='cuda:0'), tensor(5.8561, device='cuda:0'), tensor(4.7907, device='cuda:0'), tensor(5.8171, device='cuda:0'), tensor(5.8160, device='cuda:0'), tensor(5.8732, device='cuda:0'), tensor(5.8480, device='cuda:0'), tensor(4.8580, device='cuda:0'), tensor(4.8479, device='cuda:0'), tensor(5.7484, device='cuda:0'), tensor(5.5120, device='cuda:0'), tensor(5.7855, device='cuda:0'), tensor(5.7121, device='cuda:0'), tensor(5.6998, device='cuda:0'), tensor(5.7374, device='cuda:0'), tensor(4.6628, device='cuda:0'), tensor(5.6879, device='cuda:0'), tensor(5.8521, device='cuda:0'), tensor(5.9289, device='cuda:0'), tensor(6.1677, device='cuda:0'), tensor(4.8953, device='cuda:0'), tensor(4.8494, device='cuda:0'), tensor(4.5103, device='cuda:0'), tensor(4.7613, device='cuda:0'), tensor(5.6322, device='cuda:0'), tensor(4.8864, device='cuda:0'), tensor(4.4830, device='cuda:0'), tensor(4.8413, device='cuda:0'), tensor(5.0861, device='cuda:0'), tensor(4.8138, device='cuda:0'), tensor(5.6870, device='cuda:0'), tensor(4.9609, device='cuda:0'), tensor(6.0748, device='cuda:0'), tensor(5.0076, device='cuda:0'), tensor(4.5409, device='cuda:0'), tensor(5.9289, device='cuda:0'), tensor(4.8865, device='cuda:0'), tensor(5.7933, device='cuda:0'), tensor(4.9105, device='cuda:0'), tensor(5.5700, device='cuda:0'), tensor(5.8841, device='cuda:0'), tensor(4.3628, device='cuda:0'), tensor(4.6028, device='cuda:0'), tensor(5.9515, device='cuda:0'), tensor(5.8916, device='cuda:0'), tensor(4.6457, device='cuda:0'), tensor(4.6760, device='cuda:0'), tensor(4.9253, device='cuda:0'), tensor(5.8024, device='cuda:0'), tensor(4.8850, device='cuda:0'), tensor(5.8942, device='cuda:0'), tensor(5.8191, device='cuda:0'), tensor(6.1957, device='cuda:0'), tensor(5.9118, device='cuda:0'), tensor(5.9839, device='cuda:0'), tensor(5.7097, device='cuda:0'), tensor(5.8762, device='cuda:0'), tensor(4.7423, device='cuda:0'), tensor(5.6537, device='cuda:0'), tensor(5.9515, device='cuda:0'), tensor(5.1299, device='cuda:0'), tensor(5.6116, device='cuda:0'), tensor(5.5227, device='cuda:0'), tensor(4.6692, device='cuda:0'), tensor(4.7548, device='cuda:0'), tensor(6.0172, device='cuda:0'), tensor(6.0683, device='cuda:0'), tensor(4.4690, device='cuda:0'), tensor(4.7680, device='cuda:0'), tensor(5.8329, device='cuda:0'), tensor(4.8726, device='cuda:0'), tensor(4.9137, device='cuda:0'), tensor(4.8160, device='cuda:0'), tensor(5.8204, device='cuda:0'), tensor(5.0376, device='cuda:0'), tensor(4.7402, device='cuda:0'), tensor(4.8077, device='cuda:0'), tensor(5.6612, device='cuda:0'), tensor(5.9135, device='cuda:0'), tensor(4.3175, device='cuda:0'), tensor(4.9100, device='cuda:0'), tensor(5.8180, device='cuda:0'), tensor(5.6068, device='cuda:0'), tensor(4.4048, device='cuda:0'), tensor(5.9435, device='cuda:0'), tensor(4.9983, device='cuda:0'), tensor(4.7826, device='cuda:0'), tensor(5.2035, device='cuda:0'), tensor(4.6364, device='cuda:0'), tensor(6.0170, device='cuda:0'), tensor(4.9767, device='cuda:0'), tensor(4.8128, device='cuda:0'), tensor(5.8089, device='cuda:0'), tensor(4.9257, device='cuda:0'), tensor(5.7969, device='cuda:0'), tensor(5.8388, device='cuda:0'), tensor(6.1800, device='cuda:0'), tensor(5.0531, device='cuda:0'), tensor(6.1250, device='cuda:0'), tensor(4.6557, device='cuda:0'), tensor(4.8981, device='cuda:0'), tensor(5.7722, device='cuda:0'), tensor(5.5665, device='cuda:0'), tensor(5.9893, device='cuda:0'), tensor(6.2134, device='cuda:0'), tensor(5.9164, device='cuda:0'), tensor(5.9172, device='cuda:0'), tensor(4.9099, device='cuda:0'), tensor(5.8837, device='cuda:0'), tensor(4.7261, device='cuda:0'), tensor(5.8234, device='cuda:0'), tensor(6.1831, device='cuda:0'), tensor(5.8114, device='cuda:0'), tensor(5.9163, device='cuda:0'), tensor(6.0491, device='cuda:0'), tensor(4.9488, device='cuda:0'), tensor(6.3082, device='cuda:0'), tensor(6.1081, device='cuda:0'), tensor(6.0741, device='cuda:0'), tensor(4.9031, device='cuda:0'), tensor(5.5095, device='cuda:0'), tensor(4.7963, device='cuda:0'), tensor(5.0849, device='cuda:0'), tensor(5.1651, device='cuda:0'), tensor(4.8315, device='cuda:0'), tensor(4.1723, device='cuda:0'), tensor(4.6387, device='cuda:0'), tensor(5.8722, device='cuda:0'), tensor(5.8145, device='cuda:0'), tensor(4.6836, device='cuda:0'), tensor(4.5730, device='cuda:0'), tensor(4.8749, device='cuda:0'), tensor(4.6126, device='cuda:0'), tensor(6.0967, device='cuda:0'), tensor(4.8434, device='cuda:0'), tensor(4.9676, device='cuda:0'), tensor(4.3043, device='cuda:0'), tensor(5.8799, device='cuda:0'), tensor(4.7741, device='cuda:0'), tensor(4.8606, device='cuda:0'), tensor(5.9505, device='cuda:0'), tensor(5.8778, device='cuda:0'), tensor(5.8491, device='cuda:0'), tensor(4.9664, device='cuda:0'), tensor(4.7605, device='cuda:0'), tensor(4.6833, device='cuda:0'), tensor(4.6004, device='cuda:0'), tensor(6.0133, device='cuda:0'), tensor(4.3784, device='cuda:0'), tensor(6.0068, device='cuda:0'), tensor(5.8423, device='cuda:0'), tensor(5.9159, device='cuda:0'), tensor(4.6774, device='cuda:0'), tensor(4.9829, device='cuda:0'), tensor(4.7739, device='cuda:0'), tensor(4.8637, device='cuda:0'), tensor(4.4970, device='cuda:0'), tensor(5.7478, device='cuda:0'), tensor(4.7749, device='cuda:0'), tensor(5.0180, device='cuda:0'), tensor(6.2030, device='cuda:0'), tensor(5.9480, device='cuda:0'), tensor(4.8933, device='cuda:0'), tensor(5.9219, device='cuda:0'), tensor(5.7933, device='cuda:0'), tensor(5.8554, device='cuda:0'), tensor(4.7123, device='cuda:0'), tensor(4.7081, device='cuda:0'), tensor(5.9644, device='cuda:0'), tensor(5.9758, device='cuda:0'), tensor(4.5273, device='cuda:0'), tensor(5.8728, device='cuda:0'), tensor(4.7793, device='cuda:0'), tensor(5.8766, device='cuda:0'), tensor(4.8225, device='cuda:0'), tensor(4.7392, device='cuda:0'), tensor(4.4674, device='cuda:0'), tensor(6.1304, device='cuda:0'), tensor(4.5849, device='cuda:0'), tensor(5.9755, device='cuda:0'), tensor(4.7456, device='cuda:0'), tensor(4.5510, device='cuda:0'), tensor(4.9162, device='cuda:0'), tensor(4.4624, device='cuda:0'), tensor(5.6321, device='cuda:0'), tensor(5.9427, device='cuda:0'), tensor(4.3365, device='cuda:0'), tensor(5.9057, device='cuda:0'), tensor(5.6070, device='cuda:0'), tensor(5.7406, device='cuda:0'), tensor(6.0336, device='cuda:0'), tensor(4.7657, device='cuda:0'), tensor(4.6235, device='cuda:0'), tensor(4.9264, device='cuda:0'), tensor(5.8000, device='cuda:0'), tensor(6.1030, device='cuda:0'), tensor(5.8213, device='cuda:0'), tensor(4.8888, device='cuda:0'), tensor(5.8603, device='cuda:0'), tensor(5.9127, device='cuda:0'), tensor(5.9197, device='cuda:0'), tensor(5.7612, device='cuda:0'), tensor(5.8827, device='cuda:0'), tensor(6.2877, device='cuda:0'), tensor(5.7450, device='cuda:0'), tensor(5.0715, device='cuda:0'), tensor(4.9374, device='cuda:0'), tensor(5.8932, device='cuda:0'), tensor(5.9964, device='cuda:0'), tensor(4.8660, device='cuda:0'), tensor(4.6854, device='cuda:0'), tensor(4.9437, device='cuda:0'), tensor(5.1876, device='cuda:0'), tensor(5.9715, device='cuda:0'), tensor(6.0553, device='cuda:0'), tensor(5.7655, device='cuda:0'), tensor(5.7360, device='cuda:0'), tensor(5.7183, device='cuda:0'), tensor(6.2894, device='cuda:0'), tensor(5.0362, device='cuda:0'), tensor(4.9667, device='cuda:0'), tensor(5.5951, device='cuda:0'), tensor(5.9417, device='cuda:0'), tensor(6.2076, device='cuda:0'), tensor(6.0206, device='cuda:0'), tensor(4.7937, device='cuda:0'), tensor(4.9818, device='cuda:0'), tensor(4.8434, device='cuda:0'), tensor(4.8543, device='cuda:0'), tensor(5.9819, device='cuda:0'), tensor(4.6991, device='cuda:0'), tensor(6.0542, device='cuda:0'), tensor(6.0931, device='cuda:0'), tensor(6.2136, device='cuda:0'), tensor(4.1588, device='cuda:0'), tensor(4.6878, device='cuda:0'), tensor(4.6566, device='cuda:0'), tensor(5.8681, device='cuda:0'), tensor(4.6608, device='cuda:0'), tensor(4.7361, device='cuda:0'), tensor(5.9965, device='cuda:0'), tensor(6.1143, device='cuda:0'), tensor(4.9937, device='cuda:0'), tensor(5.9962, device='cuda:0'), tensor(4.7632, device='cuda:0'), tensor(5.9688, device='cuda:0'), tensor(5.3699, device='cuda:0'), tensor(4.7376, device='cuda:0'), tensor(6.0775, device='cuda:0'), tensor(4.8654, device='cuda:0'), tensor(4.7986, device='cuda:0'), tensor(5.7637, device='cuda:0'), tensor(5.3592, device='cuda:0'), tensor(4.7282, device='cuda:0'), tensor(4.7533, device='cuda:0'), tensor(4.4811, device='cuda:0'), tensor(4.3509, device='cuda:0'), tensor(5.4773, device='cuda:0'), tensor(6.0141, device='cuda:0'), tensor(5.5408, device='cuda:0'), tensor(5.8499, device='cuda:0'), tensor(4.9211, device='cuda:0'), tensor(4.7602, device='cuda:0'), tensor(4.9245, device='cuda:0'), tensor(5.8491, device='cuda:0'), tensor(5.7660, device='cuda:0'), tensor(5.0393, device='cuda:0'), tensor(5.9316, device='cuda:0'), tensor(4.6553, device='cuda:0'), tensor(5.8486, device='cuda:0'), tensor(5.7194, device='cuda:0'), tensor(4.6467, device='cuda:0'), tensor(4.5651, device='cuda:0'), tensor(4.5534, device='cuda:0'), tensor(4.8039, device='cuda:0'), tensor(5.4745, device='cuda:0'), tensor(4.6461, device='cuda:0'), tensor(5.8388, device='cuda:0'), tensor(4.5868, device='cuda:0'), tensor(4.3347, device='cuda:0'), tensor(4.6157, device='cuda:0'), tensor(5.8017, device='cuda:0'), tensor(5.8586, device='cuda:0'), tensor(4.7295, device='cuda:0'), tensor(5.7869, device='cuda:0'), tensor(4.8703, device='cuda:0'), tensor(4.5402, device='cuda:0'), tensor(5.6467, device='cuda:0'), tensor(5.8875, device='cuda:0'), tensor(4.7811, device='cuda:0'), tensor(4.8333, device='cuda:0'), tensor(6.0529, device='cuda:0'), tensor(6.0786, device='cuda:0'), tensor(4.7377, device='cuda:0'), tensor(4.7221, device='cuda:0'), tensor(4.9852, device='cuda:0'), tensor(6.1968, device='cuda:0'), tensor(4.6877, device='cuda:0'), tensor(4.5238, device='cuda:0'), tensor(4.8428, device='cuda:0'), tensor(4.8389, device='cuda:0'), tensor(5.7040, device='cuda:0'), tensor(5.6527, device='cuda:0'), tensor(4.6643, device='cuda:0'), tensor(5.8617, device='cuda:0'), tensor(5.7571, device='cuda:0'), tensor(4.6833, device='cuda:0'), tensor(6.1478, device='cuda:0'), tensor(4.4678, device='cuda:0'), tensor(4.9303, device='cuda:0'), tensor(4.5367, device='cuda:0'), tensor(5.9866, device='cuda:0'), tensor(6.2292, device='cuda:0'), tensor(5.9059, device='cuda:0'), tensor(6.0586, device='cuda:0'), tensor(4.7050, device='cuda:0'), tensor(4.7190, device='cuda:0'), tensor(4.8977, device='cuda:0'), tensor(5.9127, device='cuda:0'), tensor(5.7183, device='cuda:0'), tensor(5.8893, device='cuda:0'), tensor(5.8810, device='cuda:0'), tensor(4.5366, device='cuda:0'), tensor(4.7043, device='cuda:0'), tensor(5.9981, device='cuda:0'), tensor(5.9563, device='cuda:0'), tensor(5.9003, device='cuda:0'), tensor(5.6615, device='cuda:0'), tensor(6.1133, device='cuda:0'), tensor(4.3782, device='cuda:0'), tensor(4.6743, device='cuda:0'), tensor(5.7991, device='cuda:0'), tensor(5.6742, device='cuda:0'), tensor(4.7646, device='cuda:0'), tensor(5.7571, device='cuda:0'), tensor(4.7621, device='cuda:0'), tensor(5.6656, device='cuda:0'), tensor(4.9741, device='cuda:0'), tensor(5.0255, device='cuda:0'), tensor(5.2208, device='cuda:0'), tensor(5.7342, device='cuda:0'), tensor(4.7898, device='cuda:0'), tensor(5.8685, device='cuda:0'), tensor(5.8628, device='cuda:0'), tensor(4.3578, device='cuda:0'), tensor(4.6828, device='cuda:0'), tensor(5.6846, device='cuda:0'), tensor(5.6586, device='cuda:0'), tensor(4.8214, device='cuda:0'), tensor(6.0311, device='cuda:0'), tensor(5.8467, device='cuda:0'), tensor(4.8007, device='cuda:0'), tensor(4.6691, device='cuda:0'), tensor(4.4979, device='cuda:0'), tensor(5.0033, device='cuda:0'), tensor(5.6712, device='cuda:0'), tensor(4.8248, device='cuda:0'), tensor(4.8247, device='cuda:0'), tensor(5.7858, device='cuda:0'), tensor(5.8105, device='cuda:0'), tensor(4.6655, device='cuda:0'), tensor(4.5936, device='cuda:0'), tensor(5.7346, device='cuda:0'), tensor(5.9750, device='cuda:0'), tensor(5.5788, device='cuda:0'), tensor(4.5222, device='cuda:0'), tensor(5.7149, device='cuda:0'), tensor(4.7091, device='cuda:0'), tensor(5.7988, device='cuda:0'), tensor(5.9498, device='cuda:0'), tensor(6.0984, device='cuda:0'), tensor(4.6120, device='cuda:0'), tensor(5.6428, device='cuda:0'), tensor(4.8889, device='cuda:0'), tensor(5.9228, device='cuda:0'), tensor(5.7425, device='cuda:0'), tensor(5.7594, device='cuda:0'), tensor(5.0726, device='cuda:0'), tensor(4.9061, device='cuda:0'), tensor(5.6724, device='cuda:0'), tensor(5.5620, device='cuda:0'), tensor(4.8867, device='cuda:0'), tensor(4.9181, device='cuda:0'), tensor(4.8848, device='cuda:0'), tensor(4.5982, device='cuda:0'), tensor(5.5752, device='cuda:0'), tensor(4.6492, device='cuda:0'), tensor(5.9654, device='cuda:0'), tensor(4.4828, device='cuda:0'), tensor(6.1098, device='cuda:0'), tensor(5.9689, device='cuda:0'), tensor(5.9837, device='cuda:0'), tensor(5.6685, device='cuda:0'), tensor(6.0280, device='cuda:0'), tensor(4.5388, device='cuda:0'), tensor(5.8163, device='cuda:0'), tensor(5.6998, device='cuda:0'), tensor(4.8416, device='cuda:0'), tensor(5.6575, device='cuda:0'), tensor(4.8283, device='cuda:0'), tensor(6.2597, device='cuda:0'), tensor(5.7090, device='cuda:0'), tensor(5.0664, device='cuda:0'), tensor(4.4460, device='cuda:0'), tensor(5.8474, device='cuda:0'), tensor(4.7458, device='cuda:0'), tensor(4.7172, device='cuda:0'), tensor(4.5256, device='cuda:0'), tensor(4.4921, device='cuda:0'), tensor(5.3113, device='cuda:0'), tensor(4.7869, device='cuda:0'), tensor(5.7812, device='cuda:0'), tensor(6.2092, device='cuda:0'), tensor(4.7629, device='cuda:0'), tensor(4.7290, device='cuda:0'), tensor(6.0760, device='cuda:0'), tensor(5.7683, device='cuda:0'), tensor(4.7208, device='cuda:0'), tensor(4.7160, device='cuda:0'), tensor(4.7647, device='cuda:0'), tensor(4.9413, device='cuda:0'), tensor(6.0498, device='cuda:0'), tensor(5.5637, device='cuda:0'), tensor(5.8488, device='cuda:0'), tensor(5.8101, device='cuda:0'), tensor(4.5221, device='cuda:0'), tensor(4.7565, device='cuda:0'), tensor(5.0872, device='cuda:0'), tensor(5.9745, device='cuda:0'), tensor(5.9246, device='cuda:0'), tensor(4.8903, device='cuda:0'), tensor(4.4794, device='cuda:0'), tensor(4.4206, device='cuda:0'), tensor(5.9314, device='cuda:0'), tensor(5.5564, device='cuda:0'), tensor(4.4839, device='cuda:0'), tensor(5.3156, device='cuda:0'), tensor(5.9949, device='cuda:0'), tensor(4.7658, device='cuda:0'), tensor(5.9455, device='cuda:0'), tensor(5.8680, device='cuda:0'), tensor(5.3908, device='cuda:0'), tensor(5.7183, device='cuda:0'), tensor(4.6193, device='cuda:0'), tensor(5.6837, device='cuda:0'), tensor(4.7249, device='cuda:0'), tensor(4.8579, device='cuda:0'), tensor(4.6815, device='cuda:0'), tensor(4.4388, device='cuda:0'), tensor(5.8048, device='cuda:0'), tensor(4.9453, device='cuda:0'), tensor(4.4967, device='cuda:0'), tensor(4.7126, device='cuda:0'), tensor(4.4049, device='cuda:0'), tensor(5.8192, device='cuda:0'), tensor(5.7147, device='cuda:0'), tensor(4.4256, device='cuda:0'), tensor(5.4763, device='cuda:0'), tensor(4.5538, device='cuda:0'), tensor(4.9335, device='cuda:0'), tensor(4.3986, device='cuda:0'), tensor(5.8838, device='cuda:0'), tensor(5.7467, device='cuda:0'), tensor(4.5432, device='cuda:0'), tensor(5.0140, device='cuda:0'), tensor(4.8849, device='cuda:0'), tensor(6.0884, device='cuda:0'), tensor(4.7287, device='cuda:0'), tensor(5.0100, device='cuda:0'), tensor(5.9824, device='cuda:0'), tensor(5.9491, device='cuda:0'), tensor(4.5280, device='cuda:0'), tensor(4.5948, device='cuda:0'), tensor(5.6931, device='cuda:0'), tensor(4.7372, device='cuda:0'), tensor(4.5005, device='cuda:0'), tensor(5.8387, device='cuda:0'), tensor(5.6939, device='cuda:0'), tensor(5.6577, device='cuda:0'), tensor(4.6056, device='cuda:0'), tensor(6.0731, device='cuda:0'), tensor(5.6399, device='cuda:0'), tensor(4.7037, device='cuda:0'), tensor(4.8310, device='cuda:0'), tensor(6.0633, device='cuda:0'), tensor(4.1455, device='cuda:0'), tensor(6.0379, device='cuda:0'), tensor(5.7542, device='cuda:0'), tensor(4.4280, device='cuda:0'), tensor(5.2004, device='cuda:0'), tensor(5.7924, device='cuda:0'), tensor(5.9666, device='cuda:0'), tensor(4.8468, device='cuda:0'), tensor(4.9748, device='cuda:0'), tensor(5.6253, device='cuda:0'), tensor(5.8904, device='cuda:0'), tensor(4.7597, device='cuda:0'), tensor(4.9758, device='cuda:0'), tensor(4.5040, device='cuda:0'), tensor(5.9964, device='cuda:0'), tensor(5.8593, device='cuda:0'), tensor(4.3222, device='cuda:0'), tensor(4.6077, device='cuda:0'), tensor(4.6605, device='cuda:0'), tensor(4.3942, device='cuda:0'), tensor(6.0060, device='cuda:0'), tensor(4.7802, device='cuda:0'), tensor(4.6179, device='cuda:0'), tensor(6.0257, device='cuda:0'), tensor(5.6942, device='cuda:0'), tensor(4.6296, device='cuda:0'), tensor(4.5548, device='cuda:0'), tensor(6.0031, device='cuda:0'), tensor(5.9997, device='cuda:0'), tensor(5.9612, device='cuda:0'), tensor(6.1499, device='cuda:0'), tensor(4.8140, device='cuda:0'), tensor(4.6829, device='cuda:0'), tensor(5.6809, device='cuda:0'), tensor(5.8123, device='cuda:0'), tensor(4.6559, device='cuda:0'), tensor(5.9720, device='cuda:0'), tensor(5.8228, device='cuda:0'), tensor(4.5486, device='cuda:0'), tensor(4.7170, device='cuda:0'), tensor(5.7637, device='cuda:0'), tensor(6.0729, device='cuda:0'), tensor(5.9636, device='cuda:0'), tensor(5.8379, device='cuda:0'), tensor(5.6250, device='cuda:0'), tensor(4.5720, device='cuda:0'), tensor(5.6236, device='cuda:0'), tensor(4.7936, device='cuda:0'), tensor(4.6705, device='cuda:0'), tensor(5.0121, device='cuda:0'), tensor(5.6984, device='cuda:0'), tensor(5.5801, device='cuda:0'), tensor(4.7646, device='cuda:0'), tensor(6.1537, device='cuda:0'), tensor(5.5887, device='cuda:0'), tensor(4.6542, device='cuda:0'), tensor(6.1727, device='cuda:0'), tensor(6.1219, device='cuda:0'), tensor(5.5415, device='cuda:0'), tensor(4.7766, device='cuda:0'), tensor(4.6204, device='cuda:0'), tensor(5.5066, device='cuda:0'), tensor(5.7518, device='cuda:0'), tensor(4.5890, device='cuda:0'), tensor(4.6135, device='cuda:0'), tensor(4.9587, device='cuda:0'), tensor(5.8673, device='cuda:0'), tensor(5.9486, device='cuda:0'), tensor(4.4777, device='cuda:0'), tensor(5.8324, device='cuda:0'), tensor(5.8649, device='cuda:0'), tensor(4.6854, device='cuda:0'), tensor(4.7121, device='cuda:0'), tensor(4.5997, device='cuda:0'), tensor(4.6962, device='cuda:0'), tensor(4.7350, device='cuda:0'), tensor(4.7327, device='cuda:0'), tensor(4.6541, device='cuda:0'), tensor(4.7567, device='cuda:0'), tensor(4.7382, device='cuda:0'), tensor(5.9516, device='cuda:0'), tensor(5.6496, device='cuda:0'), tensor(4.5826, device='cuda:0'), tensor(4.9068, device='cuda:0'), tensor(6.2717, device='cuda:0'), tensor(4.5809, device='cuda:0'), tensor(5.8736, device='cuda:0'), tensor(6.1937, device='cuda:0'), tensor(5.9756, device='cuda:0'), tensor(5.6334, device='cuda:0'), tensor(5.9610, device='cuda:0'), tensor(4.7223, device='cuda:0'), tensor(4.6302, device='cuda:0'), tensor(4.2162, device='cuda:0'), tensor(4.6097, device='cuda:0'), tensor(4.4549, device='cuda:0'), tensor(5.9713, device='cuda:0'), tensor(4.6531, device='cuda:0'), tensor(4.3285, device='cuda:0'), tensor(5.7845, device='cuda:0'), tensor(5.7176, device='cuda:0'), tensor(5.3151, device='cuda:0'), tensor(5.1097, device='cuda:0'), tensor(5.9499, device='cuda:0'), tensor(4.8396, device='cuda:0'), tensor(4.5934, device='cuda:0'), tensor(5.8261, device='cuda:0'), tensor(4.7951, device='cuda:0'), tensor(4.5724, device='cuda:0'), tensor(4.5394, device='cuda:0'), tensor(5.5761, device='cuda:0'), tensor(5.5803, device='cuda:0'), tensor(5.5667, device='cuda:0'), tensor(4.5021, device='cuda:0'), tensor(4.5744, device='cuda:0'), tensor(5.8494, device='cuda:0'), tensor(4.6301, device='cuda:0'), tensor(4.9216, device='cuda:0'), tensor(4.7363, device='cuda:0'), tensor(6.1488, device='cuda:0'), tensor(6.1243, device='cuda:0'), tensor(6.0163, device='cuda:0'), tensor(4.5935, device='cuda:0'), tensor(6.0020, device='cuda:0'), tensor(5.0346, device='cuda:0'), tensor(4.8729, device='cuda:0'), tensor(4.9404, device='cuda:0'), tensor(4.9265, device='cuda:0'), tensor(4.5955, device='cuda:0'), tensor(4.5268, device='cuda:0'), tensor(5.7877, device='cuda:0'), tensor(5.7916, device='cuda:0'), tensor(4.7891, device='cuda:0'), tensor(5.8463, device='cuda:0'), tensor(5.6407, device='cuda:0'), tensor(4.6821, device='cuda:0'), tensor(5.6736, device='cuda:0'), tensor(4.7947, device='cuda:0'), tensor(5.7485, device='cuda:0'), tensor(5.8159, device='cuda:0'), tensor(5.7404, device='cuda:0'), tensor(4.7229, device='cuda:0'), tensor(4.2117, device='cuda:0'), tensor(4.8770, device='cuda:0'), tensor(5.7149, device='cuda:0'), tensor(4.7885, device='cuda:0'), tensor(4.4514, device='cuda:0'), tensor(4.7479, device='cuda:0'), tensor(5.4910, device='cuda:0'), tensor(5.5160, device='cuda:0'), tensor(4.8015, device='cuda:0'), tensor(4.7552, device='cuda:0'), tensor(5.9581, device='cuda:0'), tensor(5.8833, device='cuda:0'), tensor(5.0023, device='cuda:0'), tensor(4.6197, device='cuda:0'), tensor(4.5860, device='cuda:0'), tensor(4.6942, device='cuda:0'), tensor(5.6637, device='cuda:0'), tensor(6.0876, device='cuda:0'), tensor(5.7252, device='cuda:0'), tensor(4.2622, device='cuda:0'), tensor(5.8572, device='cuda:0'), tensor(5.1827, device='cuda:0'), tensor(5.5944, device='cuda:0'), tensor(5.6505, device='cuda:0'), tensor(4.5531, device='cuda:0'), tensor(5.9417, device='cuda:0'), tensor(4.5755, device='cuda:0'), tensor(5.8427, device='cuda:0'), tensor(4.6070, device='cuda:0'), tensor(4.7248, device='cuda:0'), tensor(5.5053, device='cuda:0'), tensor(5.9451, device='cuda:0'), tensor(5.8737, device='cuda:0'), tensor(5.7635, device='cuda:0'), tensor(5.7003, device='cuda:0'), tensor(4.8750, device='cuda:0'), tensor(5.7821, device='cuda:0'), tensor(5.8465, device='cuda:0'), tensor(4.7393, device='cuda:0'), tensor(5.7962, device='cuda:0'), tensor(4.5649, device='cuda:0'), tensor(5.9264, device='cuda:0'), tensor(5.7877, device='cuda:0'), tensor(5.6015, device='cuda:0'), tensor(5.7127, device='cuda:0'), tensor(5.8157, device='cuda:0'), tensor(4.9852, device='cuda:0'), tensor(4.6261, device='cuda:0'), tensor(5.6767, device='cuda:0'), tensor(6.2532, device='cuda:0'), tensor(4.6028, device='cuda:0'), tensor(5.7455, device='cuda:0'), tensor(6.1620, device='cuda:0'), tensor(5.9342, device='cuda:0'), tensor(4.5623, device='cuda:0'), tensor(5.8155, device='cuda:0'), tensor(5.6219, device='cuda:0'), tensor(4.5736, device='cuda:0'), tensor(5.7871, device='cuda:0'), tensor(4.8363, device='cuda:0'), tensor(5.7358, device='cuda:0'), tensor(6.0971, device='cuda:0'), tensor(5.7095, device='cuda:0'), tensor(5.7272, device='cuda:0'), tensor(6.0962, device='cuda:0'), tensor(4.7403, device='cuda:0'), tensor(6.0107, device='cuda:0'), tensor(4.9303, device='cuda:0'), tensor(5.4595, device='cuda:0'), tensor(5.6811, device='cuda:0'), tensor(4.8337, device='cuda:0'), tensor(5.5502, device='cuda:0'), tensor(5.7429, device='cuda:0'), tensor(4.7076, device='cuda:0'), tensor(4.6228, device='cuda:0'), tensor(4.7421, device='cuda:0'), tensor(6.1029, device='cuda:0'), tensor(5.8600, device='cuda:0'), tensor(4.6994, device='cuda:0'), tensor(5.7150, device='cuda:0'), tensor(5.6279, device='cuda:0'), tensor(5.7069, device='cuda:0'), tensor(4.7080, device='cuda:0'), tensor(5.7460, device='cuda:0'), tensor(5.6964, device='cuda:0'), tensor(4.6581, device='cuda:0'), tensor(4.5291, device='cuda:0'), tensor(5.7020, device='cuda:0'), tensor(5.6444, device='cuda:0'), tensor(6.0808, device='cuda:0'), tensor(5.8786, device='cuda:0'), tensor(4.5125, device='cuda:0'), tensor(5.6408, device='cuda:0'), tensor(4.7310, device='cuda:0'), tensor(5.6702, device='cuda:0'), tensor(5.7548, device='cuda:0'), tensor(5.8270, device='cuda:0'), tensor(5.7094, device='cuda:0'), tensor(5.7993, device='cuda:0'), tensor(5.8933, device='cuda:0'), tensor(5.6727, device='cuda:0'), tensor(4.6153, device='cuda:0'), tensor(5.8674, device='cuda:0'), tensor(6.0287, device='cuda:0'), tensor(4.8126, device='cuda:0'), tensor(4.3776, device='cuda:0'), tensor(4.3157, device='cuda:0'), tensor(6.0017, device='cuda:0'), tensor(5.9116, device='cuda:0'), tensor(6.0086, device='cuda:0'), tensor(5.9726, device='cuda:0'), tensor(5.6526, device='cuda:0'), tensor(4.3906, device='cuda:0'), tensor(5.7843, device='cuda:0'), tensor(5.8231, device='cuda:0'), tensor(4.4743, device='cuda:0'), tensor(5.7232, device='cuda:0'), tensor(5.9421, device='cuda:0'), tensor(4.4814, device='cuda:0'), tensor(4.4437, device='cuda:0'), tensor(5.8754, device='cuda:0'), tensor(5.0661, device='cuda:0'), tensor(5.6959, device='cuda:0'), tensor(5.7930, device='cuda:0'), tensor(5.4787, device='cuda:0'), tensor(5.5419, device='cuda:0'), tensor(5.7179, device='cuda:0'), tensor(4.7292, device='cuda:0'), tensor(4.8192, device='cuda:0'), tensor(5.8033, device='cuda:0'), tensor(5.7853, device='cuda:0'), tensor(4.5318, device='cuda:0'), tensor(5.8465, device='cuda:0'), tensor(5.6837, device='cuda:0'), tensor(5.8182, device='cuda:0'), tensor(4.0062, device='cuda:0'), tensor(4.4362, device='cuda:0'), tensor(5.7712, device='cuda:0'), tensor(5.8856, device='cuda:0'), tensor(4.8744, device='cuda:0'), tensor(4.7106, device='cuda:0'), tensor(5.8612, device='cuda:0'), tensor(5.6065, device='cuda:0'), tensor(4.7464, device='cuda:0'), tensor(4.6902, device='cuda:0'), tensor(4.6505, device='cuda:0'), tensor(4.7167, device='cuda:0'), tensor(5.7455, device='cuda:0'), tensor(5.9679, device='cuda:0'), tensor(6.1083, device='cuda:0'), tensor(5.6248, device='cuda:0'), tensor(6.0980, device='cuda:0'), tensor(6.0707, device='cuda:0'), tensor(4.5864, device='cuda:0'), tensor(4.8055, device='cuda:0'), tensor(5.8401, device='cuda:0'), tensor(5.7093, device='cuda:0'), tensor(6.1087, device='cuda:0'), tensor(5.5915, device='cuda:0'), tensor(5.9413, device='cuda:0'), tensor(5.8130, device='cuda:0'), tensor(5.7610, device='cuda:0'), tensor(5.7778, device='cuda:0'), tensor(5.7809, device='cuda:0'), tensor(5.9836, device='cuda:0'), tensor(5.7071, device='cuda:0'), tensor(4.7582, device='cuda:0'), tensor(5.5518, device='cuda:0'), tensor(5.7071, device='cuda:0'), tensor(5.7157, device='cuda:0'), tensor(5.9912, device='cuda:0'), tensor(5.9815, device='cuda:0'), tensor(5.9219, device='cuda:0'), tensor(5.6539, device='cuda:0'), tensor(4.6321, device='cuda:0'), tensor(5.7232, device='cuda:0'), tensor(6.0567, device='cuda:0'), tensor(5.9173, device='cuda:0'), tensor(5.9433, device='cuda:0'), tensor(4.3608, device='cuda:0'), tensor(4.6479, device='cuda:0'), tensor(5.7602, device='cuda:0'), tensor(4.9391, device='cuda:0'), tensor(4.7265, device='cuda:0'), tensor(4.7276, device='cuda:0'), tensor(5.6286, device='cuda:0'), tensor(6.0310, device='cuda:0'), tensor(4.6564, device='cuda:0'), tensor(4.7150, device='cuda:0'), tensor(4.6649, device='cuda:0'), tensor(4.9791, device='cuda:0'), tensor(5.6765, device='cuda:0'), tensor(4.9161, device='cuda:0'), tensor(5.8499, device='cuda:0'), tensor(4.8489, device='cuda:0'), tensor(6.2286, device='cuda:0'), tensor(4.7827, device='cuda:0'), tensor(5.4915, device='cuda:0'), tensor(4.5317, device='cuda:0'), tensor(5.0685, device='cuda:0'), tensor(4.9778, device='cuda:0'), tensor(4.6927, device='cuda:0'), tensor(5.8827, device='cuda:0'), tensor(5.8278, device='cuda:0'), tensor(4.5934, device='cuda:0'), tensor(5.8858, device='cuda:0'), tensor(5.6428, device='cuda:0'), tensor(5.4730, device='cuda:0'), tensor(6.1319, device='cuda:0'), tensor(5.8403, device='cuda:0'), tensor(4.7902, device='cuda:0'), tensor(4.5056, device='cuda:0'), tensor(5.8170, device='cuda:0'), tensor(4.7220, device='cuda:0'), tensor(5.8151, device='cuda:0'), tensor(6.1891, device='cuda:0'), tensor(5.6497, device='cuda:0'), tensor(5.9220, device='cuda:0'), tensor(4.7825, device='cuda:0'), tensor(5.6365, device='cuda:0'), tensor(4.2180, device='cuda:0'), tensor(4.6866, device='cuda:0'), tensor(5.6086, device='cuda:0'), tensor(5.9563, device='cuda:0'), tensor(4.4798, device='cuda:0'), tensor(5.3305, device='cuda:0'), tensor(5.6693, device='cuda:0'), tensor(5.6154, device='cuda:0'), tensor(4.6769, device='cuda:0'), tensor(5.9745, device='cuda:0'), tensor(5.7854, device='cuda:0'), tensor(5.8908, device='cuda:0'), tensor(5.8953, device='cuda:0'), tensor(4.5649, device='cuda:0'), tensor(4.6347, device='cuda:0'), tensor(4.9792, device='cuda:0'), tensor(4.5443, device='cuda:0'), tensor(5.5218, device='cuda:0'), tensor(5.9698, device='cuda:0'), tensor(4.5074, device='cuda:0'), tensor(5.5741, device='cuda:0'), tensor(4.6062, device='cuda:0'), tensor(5.8438, device='cuda:0'), tensor(6.0495, device='cuda:0'), tensor(4.8196, device='cuda:0'), tensor(4.6026, device='cuda:0'), tensor(4.2876, device='cuda:0'), tensor(4.7756, device='cuda:0'), tensor(5.8800, device='cuda:0'), tensor(5.9154, device='cuda:0'), tensor(6.0286, device='cuda:0'), tensor(4.8384, device='cuda:0'), tensor(4.6255, device='cuda:0'), tensor(5.9390, device='cuda:0'), tensor(5.7085, device='cuda:0'), tensor(5.6138, device='cuda:0'), tensor(4.9508, device='cuda:0'), tensor(5.7540, device='cuda:0'), tensor(4.5441, device='cuda:0'), tensor(4.5295, device='cuda:0'), tensor(5.8968, device='cuda:0'), tensor(5.5809, device='cuda:0'), tensor(4.4772, device='cuda:0'), tensor(5.5525, device='cuda:0'), tensor(4.7113, device='cuda:0'), tensor(4.5357, device='cuda:0'), tensor(5.5632, device='cuda:0'), tensor(5.9341, device='cuda:0'), tensor(5.6619, device='cuda:0'), tensor(4.6998, device='cuda:0'), tensor(5.9535, device='cuda:0'), tensor(4.4719, device='cuda:0'), tensor(6.0385, device='cuda:0'), tensor(4.6359, device='cuda:0'), tensor(4.7492, device='cuda:0'), tensor(4.7775, device='cuda:0'), tensor(4.4704, device='cuda:0'), tensor(6.0414, device='cuda:0'), tensor(4.5109, device='cuda:0'), tensor(6.0187, device='cuda:0'), tensor(4.9092, device='cuda:0'), tensor(5.9305, device='cuda:0'), tensor(5.6678, device='cuda:0'), tensor(4.4761, device='cuda:0'), tensor(4.5995, device='cuda:0'), tensor(4.3305, device='cuda:0'), tensor(4.6320, device='cuda:0'), tensor(6.0243, device='cuda:0'), tensor(4.4151, device='cuda:0'), tensor(4.5442, device='cuda:0'), tensor(5.7512, device='cuda:0'), tensor(4.5437, device='cuda:0'), tensor(4.7875, device='cuda:0'), tensor(4.5904, device='cuda:0'), tensor(5.7716, device='cuda:0'), tensor(4.4821, device='cuda:0'), tensor(4.3557, device='cuda:0'), tensor(4.5400, device='cuda:0'), tensor(4.4154, device='cuda:0'), tensor(4.5865, device='cuda:0'), tensor(4.5559, device='cuda:0'), tensor(5.6484, device='cuda:0'), tensor(5.6165, device='cuda:0'), tensor(6.1062, device='cuda:0'), tensor(5.9978, device='cuda:0'), tensor(6.0016, device='cuda:0'), tensor(4.8365, device='cuda:0'), tensor(4.6327, device='cuda:0'), tensor(5.9011, device='cuda:0'), tensor(4.6453, device='cuda:0'), tensor(4.8015, device='cuda:0'), tensor(5.6653, device='cuda:0'), tensor(5.9654, device='cuda:0'), tensor(4.4555, device='cuda:0'), tensor(6.0661, device='cuda:0'), tensor(4.2701, device='cuda:0'), tensor(4.6989, device='cuda:0'), tensor(5.7802, device='cuda:0'), tensor(5.5700, device='cuda:0'), tensor(5.8281, device='cuda:0'), tensor(5.8531, device='cuda:0'), tensor(5.6598, device='cuda:0'), tensor(4.7136, device='cuda:0'), tensor(4.5551, device='cuda:0'), tensor(4.8582, device='cuda:0'), tensor(5.8437, device='cuda:0'), tensor(4.5717, device='cuda:0'), tensor(4.9822, device='cuda:0'), tensor(4.6178, device='cuda:0'), tensor(5.7581, device='cuda:0'), tensor(4.2474, device='cuda:0'), tensor(4.1356, device='cuda:0'), tensor(4.7690, device='cuda:0'), tensor(5.8263, device='cuda:0'), tensor(5.5688, device='cuda:0'), tensor(4.7523, device='cuda:0'), tensor(5.5263, device='cuda:0'), tensor(4.7195, device='cuda:0'), tensor(5.7251, device='cuda:0'), tensor(4.6117, device='cuda:0'), tensor(6.1208, device='cuda:0'), tensor(5.4063, device='cuda:0'), tensor(5.4894, device='cuda:0'), tensor(5.8575, device='cuda:0'), tensor(4.5687, device='cuda:0'), tensor(4.8941, device='cuda:0'), tensor(4.6188, device='cuda:0'), tensor(6.0383, device='cuda:0'), tensor(4.5665, device='cuda:0'), tensor(5.7216, device='cuda:0'), tensor(5.5610, device='cuda:0'), tensor(4.1584, device='cuda:0'), tensor(5.2279, device='cuda:0'), tensor(6.0398, device='cuda:0'), tensor(5.8265, device='cuda:0'), tensor(6.0081, device='cuda:0'), tensor(5.9767, device='cuda:0'), tensor(5.9859, device='cuda:0'), tensor(4.4468, device='cuda:0'), tensor(5.7655, device='cuda:0'), tensor(5.6072, device='cuda:0'), tensor(5.9479, device='cuda:0'), tensor(4.7938, device='cuda:0'), tensor(5.4088, device='cuda:0'), tensor(5.5337, device='cuda:0'), tensor(4.6057, device='cuda:0'), tensor(4.5228, device='cuda:0'), tensor(4.9489, device='cuda:0'), tensor(4.8873, device='cuda:0'), tensor(5.8655, device='cuda:0'), tensor(5.7708, device='cuda:0'), tensor(5.7842, device='cuda:0'), tensor(5.0065, device='cuda:0'), tensor(5.6674, device='cuda:0'), tensor(4.8728, device='cuda:0'), tensor(4.4154, device='cuda:0'), tensor(4.6484, device='cuda:0'), tensor(4.9131, device='cuda:0'), tensor(4.5436, device='cuda:0'), tensor(5.7761, device='cuda:0'), tensor(6.2739, device='cuda:0'), tensor(4.4399, device='cuda:0'), tensor(5.9083, device='cuda:0'), tensor(4.2745, device='cuda:0'), tensor(4.5333, device='cuda:0'), tensor(5.0273, device='cuda:0'), tensor(5.8680, device='cuda:0'), tensor(4.4768, device='cuda:0'), tensor(4.9457, device='cuda:0'), tensor(4.5868, device='cuda:0'), tensor(4.4958, device='cuda:0'), tensor(4.4734, device='cuda:0'), tensor(4.5314, device='cuda:0'), tensor(4.5957, device='cuda:0'), tensor(5.7715, device='cuda:0'), tensor(5.8010, device='cuda:0'), tensor(5.4534, device='cuda:0'), tensor(4.5820, device='cuda:0'), tensor(5.9729, device='cuda:0'), tensor(6.1653, device='cuda:0'), tensor(6.0993, device='cuda:0'), tensor(4.6235, device='cuda:0'), tensor(4.2910, device='cuda:0'), tensor(5.7507, device='cuda:0'), tensor(4.8963, device='cuda:0'), tensor(4.7534, device='cuda:0'), tensor(5.7094, device='cuda:0'), tensor(5.6516, device='cuda:0'), tensor(4.5617, device='cuda:0'), tensor(5.9965, device='cuda:0'), tensor(4.7144, device='cuda:0'), tensor(4.8389, device='cuda:0'), tensor(5.6795, device='cuda:0'), tensor(4.7812, device='cuda:0'), tensor(5.7226, device='cuda:0'), tensor(6.0596, device='cuda:0'), tensor(4.7177, device='cuda:0'), tensor(4.2772, device='cuda:0'), tensor(4.7356, device='cuda:0'), tensor(5.6125, device='cuda:0'), tensor(5.7842, device='cuda:0'), tensor(4.5778, device='cuda:0'), tensor(5.6185, device='cuda:0'), tensor(5.8566, device='cuda:0'), tensor(6.1281, device='cuda:0'), tensor(4.4271, device='cuda:0'), tensor(4.5013, device='cuda:0'), tensor(5.9108, device='cuda:0'), tensor(4.8794, device='cuda:0'), tensor(5.8124, device='cuda:0'), tensor(5.8340, device='cuda:0'), tensor(4.6198, device='cuda:0'), tensor(5.6748, device='cuda:0'), tensor(5.5306, device='cuda:0'), tensor(4.8726, device='cuda:0'), tensor(4.5825, device='cuda:0'), tensor(4.7987, device='cuda:0'), tensor(6.1234, device='cuda:0'), tensor(4.7073, device='cuda:0'), tensor(5.5085, device='cuda:0'), tensor(5.7371, device='cuda:0'), tensor(5.9110, device='cuda:0'), tensor(4.8479, device='cuda:0'), tensor(4.7364, device='cuda:0'), tensor(4.1677, device='cuda:0'), tensor(4.5166, device='cuda:0'), tensor(4.6101, device='cuda:0'), tensor(5.7498, device='cuda:0'), tensor(4.8562, device='cuda:0'), tensor(4.5529, device='cuda:0'), tensor(6.0651, device='cuda:0'), tensor(5.7394, device='cuda:0'), tensor(4.4270, device='cuda:0'), tensor(5.6939, device='cuda:0'), tensor(4.5702, device='cuda:0'), tensor(4.5687, device='cuda:0'), tensor(4.8306, device='cuda:0'), tensor(4.5542, device='cuda:0'), tensor(5.7755, device='cuda:0'), tensor(5.8327, device='cuda:0'), tensor(5.7540, device='cuda:0'), tensor(4.5887, device='cuda:0'), tensor(4.5491, device='cuda:0'), tensor(5.8355, device='cuda:0'), tensor(5.8648, device='cuda:0'), tensor(5.9553, device='cuda:0'), tensor(5.4420, device='cuda:0'), tensor(4.5695, device='cuda:0'), tensor(4.4671, device='cuda:0'), tensor(5.7483, device='cuda:0'), tensor(4.5404, device='cuda:0'), tensor(6.1488, device='cuda:0'), tensor(4.5475, device='cuda:0'), tensor(5.6626, device='cuda:0'), tensor(4.4699, device='cuda:0'), tensor(4.5427, device='cuda:0'), tensor(5.5659, device='cuda:0'), tensor(5.6413, device='cuda:0'), tensor(5.5689, device='cuda:0'), tensor(5.4512, device='cuda:0'), tensor(4.5523, device='cuda:0'), tensor(5.7986, device='cuda:0'), tensor(5.9028, device='cuda:0'), tensor(5.6912, device='cuda:0'), tensor(5.7293, device='cuda:0'), tensor(4.5666, device='cuda:0'), tensor(6.0551, device='cuda:0'), tensor(5.2375, device='cuda:0'), tensor(4.6059, device='cuda:0'), tensor(4.6946, device='cuda:0'), tensor(5.7954, device='cuda:0'), tensor(5.9259, device='cuda:0'), tensor(4.7764, device='cuda:0'), tensor(4.6432, device='cuda:0'), tensor(5.9039, device='cuda:0'), tensor(5.8231, device='cuda:0'), tensor(5.0720, device='cuda:0'), tensor(4.4006, device='cuda:0'), tensor(5.4034, device='cuda:0'), tensor(4.6205, device='cuda:0'), tensor(4.5440, device='cuda:0'), tensor(5.7352, device='cuda:0'), tensor(5.9837, device='cuda:0'), tensor(4.7646, device='cuda:0'), tensor(5.7613, device='cuda:0'), tensor(4.3022, device='cuda:0'), tensor(4.6853, device='cuda:0'), tensor(4.6204, device='cuda:0'), tensor(5.8059, device='cuda:0'), tensor(4.6915, device='cuda:0'), tensor(4.7363, device='cuda:0'), tensor(5.6601, device='cuda:0'), tensor(4.5843, device='cuda:0'), tensor(4.6570, device='cuda:0'), tensor(5.7055, device='cuda:0'), tensor(5.5799, device='cuda:0'), tensor(5.8465, device='cuda:0'), tensor(5.6797, device='cuda:0'), tensor(4.7599, device='cuda:0'), tensor(4.9380, device='cuda:0'), tensor(4.7172, device='cuda:0'), tensor(4.4275, device='cuda:0'), tensor(5.8503, device='cuda:0'), tensor(5.5825, device='cuda:0'), tensor(4.6870, device='cuda:0'), tensor(4.3710, device='cuda:0'), tensor(5.9288, device='cuda:0'), tensor(4.8743, device='cuda:0'), tensor(6.0583, device='cuda:0'), tensor(4.5509, device='cuda:0'), tensor(5.5380, device='cuda:0'), tensor(4.5697, device='cuda:0'), tensor(4.3145, device='cuda:0'), tensor(5.6891, device='cuda:0'), tensor(4.9174, device='cuda:0'), tensor(5.1203, device='cuda:0'), tensor(4.8054, device='cuda:0'), tensor(4.8425, device='cuda:0'), tensor(5.9979, device='cuda:0'), tensor(5.9246, device='cuda:0'), tensor(5.7224, device='cuda:0'), tensor(5.5567, device='cuda:0'), tensor(4.4042, device='cuda:0'), tensor(4.5621, device='cuda:0'), tensor(4.9132, device='cuda:0'), tensor(5.8480, device='cuda:0'), tensor(5.9023, device='cuda:0'), tensor(4.9876, device='cuda:0'), tensor(4.5267, device='cuda:0'), tensor(4.6912, device='cuda:0'), tensor(5.7968, device='cuda:0'), tensor(5.2844, device='cuda:0'), tensor(4.8537, device='cuda:0'), tensor(6.1041, device='cuda:0'), tensor(5.5391, device='cuda:0'), tensor(4.5420, device='cuda:0'), tensor(5.6166, device='cuda:0'), tensor(5.8312, device='cuda:0'), tensor(5.9051, device='cuda:0'), tensor(4.6586, device='cuda:0'), tensor(4.3246, device='cuda:0'), tensor(5.7983, device='cuda:0'), tensor(5.9248, device='cuda:0'), tensor(4.6115, device='cuda:0'), tensor(4.6164, device='cuda:0'), tensor(5.3831, device='cuda:0'), tensor(4.8139, device='cuda:0'), tensor(6.0597, device='cuda:0'), tensor(5.6240, device='cuda:0'), tensor(4.7642, device='cuda:0'), tensor(5.9434, device='cuda:0'), tensor(5.5913, device='cuda:0'), tensor(4.8632, device='cuda:0'), tensor(4.3897, device='cuda:0'), tensor(5.4811, device='cuda:0'), tensor(6.1569, device='cuda:0'), tensor(4.8577, device='cuda:0'), tensor(4.7285, device='cuda:0'), tensor(4.5712, device='cuda:0'), tensor(4.7509, device='cuda:0'), tensor(4.3355, device='cuda:0'), tensor(4.8230, device='cuda:0'), tensor(6.1955, device='cuda:0'), tensor(6.0756, device='cuda:0'), tensor(5.7751, device='cuda:0'), tensor(5.8370, device='cuda:0'), tensor(5.8269, device='cuda:0'), tensor(5.6324, device='cuda:0'), tensor(5.7412, device='cuda:0'), tensor(5.8492, device='cuda:0'), tensor(4.5186, device='cuda:0'), tensor(5.6385, device='cuda:0'), tensor(5.5990, device='cuda:0'), tensor(5.4530, device='cuda:0'), tensor(5.9169, device='cuda:0'), tensor(4.6198, device='cuda:0'), tensor(5.6665, device='cuda:0'), tensor(5.9671, device='cuda:0'), tensor(4.8778, device='cuda:0'), tensor(4.6033, device='cuda:0'), tensor(4.7342, device='cuda:0'), tensor(4.7866, device='cuda:0'), tensor(5.7205, device='cuda:0'), tensor(6.0168, device='cuda:0'), tensor(5.4613, device='cuda:0'), tensor(5.0150, device='cuda:0'), tensor(5.5704, device='cuda:0'), tensor(5.5613, device='cuda:0'), tensor(4.5743, device='cuda:0'), tensor(5.8537, device='cuda:0'), tensor(5.7261, device='cuda:0'), tensor(4.4802, device='cuda:0'), tensor(5.7107, device='cuda:0'), tensor(5.6954, device='cuda:0'), tensor(5.8269, device='cuda:0'), tensor(6.0714, device='cuda:0'), tensor(5.7820, device='cuda:0'), tensor(5.8630, device='cuda:0'), tensor(5.6885, device='cuda:0'), tensor(5.8009, device='cuda:0'), tensor(4.8899, device='cuda:0'), tensor(4.6441, device='cuda:0'), tensor(5.9968, device='cuda:0'), tensor(5.7958, device='cuda:0'), tensor(5.5603, device='cuda:0'), tensor(4.6591, device='cuda:0'), tensor(4.8721, device='cuda:0'), tensor(6.0188, device='cuda:0'), tensor(4.5530, device='cuda:0'), tensor(4.4428, device='cuda:0'), tensor(5.7092, device='cuda:0'), tensor(5.7761, device='cuda:0'), tensor(5.0500, device='cuda:0'), tensor(6.0438, device='cuda:0'), tensor(4.6400, device='cuda:0'), tensor(5.4353, device='cuda:0'), tensor(4.7365, device='cuda:0'), tensor(5.4767, device='cuda:0'), tensor(5.7297, device='cuda:0'), tensor(5.7684, device='cuda:0'), tensor(4.6035, device='cuda:0'), tensor(4.5955, device='cuda:0'), tensor(5.5460, device='cuda:0'), tensor(4.5203, device='cuda:0'), tensor(4.0207, device='cuda:0'), tensor(4.6113, device='cuda:0'), tensor(4.5265, device='cuda:0'), tensor(5.6416, device='cuda:0'), tensor(4.7461, device='cuda:0'), tensor(5.6864, device='cuda:0'), tensor(5.6199, device='cuda:0'), tensor(6.2529, device='cuda:0'), tensor(5.6359, device='cuda:0'), tensor(4.7196, device='cuda:0'), tensor(4.7580, device='cuda:0'), tensor(5.8666, device='cuda:0'), tensor(5.9236, device='cuda:0'), tensor(5.4158, device='cuda:0'), tensor(4.7585, device='cuda:0'), tensor(4.8060, device='cuda:0'), tensor(4.6106, device='cuda:0'), tensor(5.8067, device='cuda:0'), tensor(4.6757, device='cuda:0'), tensor(5.6529, device='cuda:0'), tensor(5.6834, device='cuda:0'), tensor(4.6598, device='cuda:0'), tensor(4.6002, device='cuda:0'), tensor(4.5091, device='cuda:0'), tensor(5.6161, device='cuda:0'), tensor(4.8962, device='cuda:0'), tensor(4.9275, device='cuda:0'), tensor(4.4431, device='cuda:0'), tensor(5.8636, device='cuda:0'), tensor(4.6114, device='cuda:0'), tensor(5.9130, device='cuda:0'), tensor(5.7619, device='cuda:0'), tensor(6.0512, device='cuda:0'), tensor(4.4679, device='cuda:0'), tensor(5.8490, device='cuda:0'), tensor(5.6994, device='cuda:0'), tensor(5.4465, device='cuda:0'), tensor(4.3593, device='cuda:0'), tensor(4.6978, device='cuda:0'), tensor(5.8812, device='cuda:0'), tensor(4.8440, device='cuda:0'), tensor(4.8947, device='cuda:0'), tensor(4.4943, device='cuda:0'), tensor(4.8383, device='cuda:0'), tensor(5.7428, device='cuda:0'), tensor(4.7027, device='cuda:0'), tensor(5.5765, device='cuda:0'), tensor(4.9404, device='cuda:0'), tensor(5.8559, device='cuda:0'), tensor(4.3917, device='cuda:0'), tensor(4.2776, device='cuda:0'), tensor(4.6650, device='cuda:0'), tensor(4.2756, device='cuda:0'), tensor(4.6650, device='cuda:0'), tensor(4.7852, device='cuda:0'), tensor(5.8592, device='cuda:0'), tensor(5.9134, device='cuda:0'), tensor(5.7384, device='cuda:0'), tensor(5.6968, device='cuda:0'), tensor(5.0352, device='cuda:0'), tensor(5.9027, device='cuda:0'), tensor(5.6635, device='cuda:0'), tensor(5.8799, device='cuda:0'), tensor(4.5284, device='cuda:0'), tensor(4.5511, device='cuda:0'), tensor(4.3794, device='cuda:0'), tensor(6.0034, device='cuda:0'), tensor(4.4283, device='cuda:0'), tensor(4.6938, device='cuda:0'), tensor(5.7615, device='cuda:0'), tensor(4.6909, device='cuda:0'), tensor(4.5967, device='cuda:0'), tensor(4.9881, device='cuda:0'), tensor(5.7638, device='cuda:0'), tensor(5.6763, device='cuda:0'), tensor(5.8225, device='cuda:0'), tensor(5.6825, device='cuda:0'), tensor(4.7778, device='cuda:0'), tensor(4.6637, device='cuda:0'), tensor(4.5920, device='cuda:0'), tensor(4.8935, device='cuda:0'), tensor(5.6942, device='cuda:0'), tensor(4.7506, device='cuda:0'), tensor(4.6754, device='cuda:0'), tensor(5.7496, device='cuda:0'), tensor(4.7933, device='cuda:0'), tensor(4.5035, device='cuda:0'), tensor(4.5134, device='cuda:0'), tensor(4.5968, device='cuda:0'), tensor(5.6681, device='cuda:0'), tensor(4.4482, device='cuda:0'), tensor(4.7071, device='cuda:0'), tensor(6.0260, device='cuda:0'), tensor(5.7790, device='cuda:0'), tensor(4.5134, device='cuda:0'), tensor(5.5300, device='cuda:0'), tensor(5.7424, device='cuda:0'), tensor(4.5883, device='cuda:0'), tensor(4.6419, device='cuda:0'), tensor(5.7753, device='cuda:0'), tensor(4.7757, device='cuda:0'), tensor(6.0884, device='cuda:0'), tensor(5.5729, device='cuda:0'), tensor(5.5233, device='cuda:0'), tensor(5.5628, device='cuda:0'), tensor(5.6980, device='cuda:0'), tensor(5.7032, device='cuda:0'), tensor(5.6864, device='cuda:0'), tensor(4.4452, device='cuda:0'), tensor(4.2343, device='cuda:0'), tensor(5.8350, device='cuda:0'), tensor(4.7028, device='cuda:0'), tensor(5.6061, device='cuda:0'), tensor(5.9176, device='cuda:0'), tensor(5.6793, device='cuda:0'), tensor(5.7741, device='cuda:0'), tensor(4.7372, device='cuda:0'), tensor(5.7998, device='cuda:0'), tensor(4.6821, device='cuda:0'), tensor(4.4884, device='cuda:0'), tensor(4.4504, device='cuda:0'), tensor(5.7593, device='cuda:0'), tensor(5.6262, device='cuda:0'), tensor(5.7961, device='cuda:0'), tensor(4.2074, device='cuda:0'), tensor(5.7353, device='cuda:0'), tensor(4.3517, device='cuda:0'), tensor(5.7467, device='cuda:0'), tensor(5.8163, device='cuda:0'), tensor(4.7551, device='cuda:0'), tensor(5.7217, device='cuda:0'), tensor(5.7036, device='cuda:0'), tensor(5.8249, device='cuda:0'), tensor(4.5085, device='cuda:0'), tensor(4.9027, device='cuda:0'), tensor(5.9356, device='cuda:0'), tensor(4.7129, device='cuda:0'), tensor(4.7695, device='cuda:0'), tensor(5.6650, device='cuda:0'), tensor(5.5114, device='cuda:0'), tensor(5.7433, device='cuda:0'), tensor(5.6044, device='cuda:0'), tensor(5.5375, device='cuda:0'), tensor(5.0385, device='cuda:0'), tensor(5.7486, device='cuda:0'), tensor(5.7261, device='cuda:0'), tensor(5.9545, device='cuda:0'), tensor(4.6769, device='cuda:0'), tensor(4.4435, device='cuda:0'), tensor(4.3650, device='cuda:0'), tensor(4.9209, device='cuda:0'), tensor(4.7803, device='cuda:0'), tensor(4.7045, device='cuda:0'), tensor(5.8969, device='cuda:0'), tensor(5.5240, device='cuda:0'), tensor(4.6724, device='cuda:0'), tensor(5.9383, device='cuda:0'), tensor(4.5838, device='cuda:0'), tensor(5.5195, device='cuda:0'), tensor(5.8765, device='cuda:0'), tensor(5.9074, device='cuda:0'), tensor(5.7753, device='cuda:0'), tensor(5.5886, device='cuda:0'), tensor(4.8571, device='cuda:0'), tensor(5.8765, device='cuda:0'), tensor(5.8261, device='cuda:0'), tensor(5.8857, device='cuda:0'), tensor(4.3225, device='cuda:0'), tensor(4.6268, device='cuda:0'), tensor(4.9004, device='cuda:0'), tensor(5.5487, device='cuda:0'), tensor(4.5757, device='cuda:0'), tensor(4.6319, device='cuda:0'), tensor(5.4565, device='cuda:0'), tensor(4.2832, device='cuda:0'), tensor(4.6055, device='cuda:0'), tensor(6.0823, device='cuda:0'), tensor(4.6414, device='cuda:0'), tensor(5.7724, device='cuda:0'), tensor(4.3696, device='cuda:0'), tensor(5.4758, device='cuda:0'), tensor(4.9077, device='cuda:0'), tensor(5.5315, device='cuda:0'), tensor(6.0144, device='cuda:0'), tensor(5.7997, device='cuda:0'), tensor(4.3985, device='cuda:0'), tensor(5.7906, device='cuda:0'), tensor(6.0250, device='cuda:0'), tensor(4.9585, device='cuda:0'), tensor(4.6170, device='cuda:0'), tensor(5.6059, device='cuda:0'), tensor(4.6468, device='cuda:0'), tensor(4.3596, device='cuda:0'), tensor(5.5622, device='cuda:0'), tensor(5.8544, device='cuda:0'), tensor(5.8231, device='cuda:0'), tensor(4.6574, device='cuda:0'), tensor(4.4941, device='cuda:0'), tensor(4.7405, device='cuda:0'), tensor(5.7943, device='cuda:0'), tensor(4.6013, device='cuda:0'), tensor(5.6264, device='cuda:0'), tensor(4.6284, device='cuda:0'), tensor(5.7121, device='cuda:0'), tensor(5.6423, device='cuda:0'), tensor(5.6967, device='cuda:0'), tensor(6.1650, device='cuda:0'), tensor(5.5374, device='cuda:0'), tensor(5.8206, device='cuda:0'), tensor(4.4440, device='cuda:0'), tensor(5.9036, device='cuda:0'), tensor(5.9613, device='cuda:0'), tensor(5.6702, device='cuda:0'), tensor(4.7924, device='cuda:0'), tensor(5.9490, device='cuda:0'), tensor(6.0322, device='cuda:0'), tensor(4.1923, device='cuda:0'), tensor(5.6453, device='cuda:0'), tensor(4.8821, device='cuda:0'), tensor(5.6441, device='cuda:0'), tensor(5.7679, device='cuda:0'), tensor(4.6124, device='cuda:0'), tensor(6.0024, device='cuda:0'), tensor(4.2496, device='cuda:0'), tensor(5.9608, device='cuda:0'), tensor(5.4736, device='cuda:0'), tensor(5.9222, device='cuda:0'), tensor(5.9404, device='cuda:0'), tensor(5.7431, device='cuda:0'), tensor(4.7830, device='cuda:0'), tensor(4.3389, device='cuda:0'), tensor(5.5308, device='cuda:0'), tensor(4.2949, device='cuda:0'), tensor(4.4214, device='cuda:0'), tensor(5.5573, device='cuda:0'), tensor(4.5093, device='cuda:0'), tensor(6.0140, device='cuda:0'), tensor(4.5101, device='cuda:0'), tensor(4.6279, device='cuda:0'), tensor(4.6673, device='cuda:0'), tensor(5.8238, device='cuda:0'), tensor(5.8769, device='cuda:0'), tensor(5.8473, device='cuda:0'), tensor(5.5428, device='cuda:0'), tensor(5.8076, device='cuda:0'), tensor(6.3794, device='cuda:0'), tensor(4.4409, device='cuda:0'), tensor(5.8027, device='cuda:0'), tensor(5.0835, device='cuda:0'), tensor(4.4567, device='cuda:0'), tensor(4.5178, device='cuda:0'), tensor(4.8701, device='cuda:0'), tensor(4.8638, device='cuda:0'), tensor(4.6566, device='cuda:0'), tensor(5.9184, device='cuda:0'), tensor(5.4931, device='cuda:0'), tensor(4.4749, device='cuda:0'), tensor(4.6183, device='cuda:0'), tensor(5.7930, device='cuda:0'), tensor(6.0548, device='cuda:0'), tensor(5.6777, device='cuda:0'), tensor(5.7758, device='cuda:0'), tensor(5.6692, device='cuda:0'), tensor(5.7556, device='cuda:0'), tensor(5.8771, device='cuda:0'), tensor(5.3457, device='cuda:0'), tensor(6.1216, device='cuda:0'), tensor(4.7340, device='cuda:0'), tensor(4.8039, device='cuda:0'), tensor(4.3369, device='cuda:0'), tensor(4.7065, device='cuda:0'), tensor(5.7116, device='cuda:0'), tensor(5.8457, device='cuda:0'), tensor(5.9094, device='cuda:0'), tensor(4.4324, device='cuda:0'), tensor(4.4616, device='cuda:0'), tensor(5.8207, device='cuda:0'), tensor(4.8033, device='cuda:0'), tensor(5.3311, device='cuda:0'), tensor(4.5534, device='cuda:0'), tensor(5.7654, device='cuda:0'), tensor(4.5279, device='cuda:0'), tensor(4.5979, device='cuda:0'), tensor(4.6273, device='cuda:0'), tensor(5.6795, device='cuda:0'), tensor(4.2568, device='cuda:0'), tensor(4.7565, device='cuda:0'), tensor(5.5002, device='cuda:0'), tensor(4.5000, device='cuda:0'), tensor(4.4966, device='cuda:0'), tensor(5.7979, device='cuda:0'), tensor(5.6650, device='cuda:0'), tensor(4.4902, device='cuda:0'), tensor(4.0922, device='cuda:0'), tensor(5.5727, device='cuda:0'), tensor(5.6669, device='cuda:0'), tensor(5.9975, device='cuda:0'), tensor(4.5672, device='cuda:0'), tensor(5.8825, device='cuda:0'), tensor(4.7856, device='cuda:0'), tensor(4.5530, device='cuda:0'), tensor(5.9391, device='cuda:0'), tensor(4.5230, device='cuda:0'), tensor(4.4858, device='cuda:0'), tensor(4.3166, device='cuda:0'), tensor(5.7212, device='cuda:0'), tensor(5.5427, device='cuda:0'), tensor(4.7531, device='cuda:0'), tensor(4.7751, device='cuda:0'), tensor(5.0847, device='cuda:0'), tensor(4.5489, device='cuda:0'), tensor(4.5802, device='cuda:0'), tensor(4.4942, device='cuda:0'), tensor(4.5532, device='cuda:0'), tensor(5.7872, device='cuda:0'), tensor(4.8085, device='cuda:0'), tensor(4.5800, device='cuda:0'), tensor(4.6992, device='cuda:0'), tensor(4.4205, device='cuda:0'), tensor(4.7160, device='cuda:0'), tensor(4.6465, device='cuda:0'), tensor(5.8103, device='cuda:0'), tensor(4.4207, device='cuda:0'), tensor(4.4780, device='cuda:0'), tensor(6.0115, device='cuda:0'), tensor(5.9564, device='cuda:0'), tensor(4.7473, device='cuda:0'), tensor(5.4718, device='cuda:0'), tensor(4.5167, device='cuda:0'), tensor(4.3706, device='cuda:0'), tensor(5.5982, device='cuda:0'), tensor(5.8154, device='cuda:0'), tensor(5.5140, device='cuda:0'), tensor(5.6697, device='cuda:0'), tensor(6.0020, device='cuda:0'), tensor(4.7895, device='cuda:0'), tensor(4.3798, device='cuda:0'), tensor(5.5604, device='cuda:0'), tensor(5.0240, device='cuda:0'), tensor(4.5232, device='cuda:0'), tensor(5.6937, device='cuda:0'), tensor(5.8254, device='cuda:0'), tensor(5.5473, device='cuda:0'), tensor(4.4652, device='cuda:0'), tensor(4.4108, device='cuda:0'), tensor(5.7973, device='cuda:0'), tensor(5.7031, device='cuda:0'), tensor(5.9103, device='cuda:0'), tensor(5.5096, device='cuda:0'), tensor(4.5156, device='cuda:0'), tensor(4.6614, device='cuda:0'), tensor(5.4031, device='cuda:0'), tensor(5.8238, device='cuda:0'), tensor(5.7934, device='cuda:0'), tensor(4.5795, device='cuda:0'), tensor(5.4051, device='cuda:0'), tensor(5.8266, device='cuda:0'), tensor(5.4964, device='cuda:0'), tensor(4.8838, device='cuda:0'), tensor(4.2705, device='cuda:0'), tensor(4.5690, device='cuda:0'), tensor(4.4510, device='cuda:0'), tensor(4.7228, device='cuda:0'), tensor(4.4499, device='cuda:0'), tensor(4.4119, device='cuda:0'), tensor(4.4548, device='cuda:0'), tensor(4.5681, device='cuda:0'), tensor(4.3803, device='cuda:0'), tensor(4.7557, device='cuda:0'), tensor(4.4927, device='cuda:0'), tensor(4.4752, device='cuda:0'), tensor(5.6122, device='cuda:0'), tensor(4.7458, device='cuda:0'), tensor(4.7716, device='cuda:0'), tensor(4.1993, device='cuda:0'), tensor(6.3183, device='cuda:0'), tensor(4.7136, device='cuda:0'), tensor(5.7171, device='cuda:0'), tensor(4.6916, device='cuda:0'), tensor(5.6536, device='cuda:0'), tensor(5.7810, device='cuda:0'), tensor(4.3783, device='cuda:0'), tensor(5.7278, device='cuda:0'), tensor(4.8319, device='cuda:0'), tensor(4.5854, device='cuda:0'), tensor(4.4926, device='cuda:0'), tensor(4.6856, device='cuda:0'), tensor(6.1350, device='cuda:0'), tensor(5.9509, device='cuda:0'), tensor(4.7181, device='cuda:0'), tensor(5.8033, device='cuda:0'), tensor(5.8108, device='cuda:0'), tensor(5.7195, device='cuda:0'), tensor(5.7655, device='cuda:0'), tensor(4.4043, device='cuda:0'), tensor(5.8486, device='cuda:0'), tensor(4.7461, device='cuda:0'), tensor(5.5528, device='cuda:0'), tensor(4.6500, device='cuda:0'), tensor(4.7005, device='cuda:0'), tensor(5.4805, device='cuda:0'), tensor(4.6553, device='cuda:0'), tensor(5.7095, device='cuda:0'), tensor(5.8136, device='cuda:0'), tensor(5.4999, device='cuda:0'), tensor(4.7138, device='cuda:0'), tensor(4.5583, device='cuda:0'), tensor(5.8642, device='cuda:0'), tensor(4.8892, device='cuda:0'), tensor(6.1202, device='cuda:0'), tensor(4.7959, device='cuda:0'), tensor(4.4948, device='cuda:0'), tensor(4.2020, device='cuda:0'), tensor(4.5709, device='cuda:0'), tensor(4.5182, device='cuda:0'), tensor(5.6412, device='cuda:0'), tensor(5.8452, device='cuda:0'), tensor(5.8407, device='cuda:0'), tensor(4.5895, device='cuda:0'), tensor(4.3140, device='cuda:0'), tensor(4.7121, device='cuda:0'), tensor(5.8888, device='cuda:0'), tensor(5.8054, device='cuda:0'), tensor(5.8940, device='cuda:0'), tensor(5.8400, device='cuda:0'), tensor(4.3925, device='cuda:0'), tensor(5.6360, device='cuda:0'), tensor(5.4275, device='cuda:0'), tensor(4.5010, device='cuda:0'), tensor(5.8389, device='cuda:0'), tensor(4.5078, device='cuda:0'), tensor(5.5947, device='cuda:0'), tensor(5.7259, device='cuda:0'), tensor(4.4301, device='cuda:0'), tensor(5.9660, device='cuda:0'), tensor(4.8081, device='cuda:0'), tensor(5.5304, device='cuda:0'), tensor(5.7194, device='cuda:0'), tensor(4.5401, device='cuda:0'), tensor(5.6846, device='cuda:0'), tensor(5.7071, device='cuda:0'), tensor(5.7705, device='cuda:0'), tensor(5.4522, device='cuda:0'), tensor(5.6601, device='cuda:0'), tensor(4.7536, device='cuda:0'), tensor(4.7336, device='cuda:0'), tensor(5.9760, device='cuda:0'), tensor(5.5064, device='cuda:0'), tensor(5.7399, device='cuda:0'), tensor(5.4763, device='cuda:0'), tensor(4.5526, device='cuda:0'), tensor(4.4337, device='cuda:0'), tensor(5.3073, device='cuda:0'), tensor(4.9035, device='cuda:0'), tensor(5.6841, device='cuda:0'), tensor(4.8119, device='cuda:0'), tensor(4.6155, device='cuda:0'), tensor(4.7485, device='cuda:0'), tensor(5.7894, device='cuda:0'), tensor(4.4187, device='cuda:0'), tensor(4.2646, device='cuda:0'), tensor(5.7741, device='cuda:0'), tensor(4.6575, device='cuda:0'), tensor(6.0900, device='cuda:0'), tensor(4.2402, device='cuda:0'), tensor(4.8278, device='cuda:0'), tensor(5.4368, device='cuda:0'), tensor(5.8905, device='cuda:0'), tensor(5.6765, device='cuda:0'), tensor(4.5989, device='cuda:0'), tensor(5.4444, device='cuda:0'), tensor(5.5501, device='cuda:0'), tensor(5.7498, device='cuda:0'), tensor(5.5658, device='cuda:0'), tensor(5.7960, device='cuda:0'), tensor(4.8879, device='cuda:0'), tensor(4.3214, device='cuda:0'), tensor(4.7954, device='cuda:0'), tensor(4.3379, device='cuda:0'), tensor(4.6008, device='cuda:0'), tensor(5.6974, device='cuda:0'), tensor(5.6521, device='cuda:0'), tensor(5.8132, device='cuda:0'), tensor(4.5003, device='cuda:0'), tensor(4.5785, device='cuda:0'), tensor(4.7074, device='cuda:0'), tensor(4.8770, device='cuda:0'), tensor(4.8832, device='cuda:0'), tensor(5.7082, device='cuda:0'), tensor(4.2968, device='cuda:0'), tensor(5.9732, device='cuda:0'), tensor(4.3212, device='cuda:0'), tensor(4.8271, device='cuda:0'), tensor(4.6007, device='cuda:0'), tensor(4.4846, device='cuda:0'), tensor(4.4617, device='cuda:0'), tensor(4.5721, device='cuda:0'), tensor(4.2655, device='cuda:0'), tensor(6.2199, device='cuda:0'), tensor(4.4905, device='cuda:0'), tensor(4.2761, device='cuda:0'), tensor(5.5231, device='cuda:0'), tensor(5.7029, device='cuda:0'), tensor(4.9976, device='cuda:0'), tensor(5.0248, device='cuda:0'), tensor(5.8286, device='cuda:0'), tensor(5.9062, device='cuda:0'), tensor(4.1382, device='cuda:0'), tensor(4.2103, device='cuda:0'), tensor(4.1692, device='cuda:0'), tensor(4.4921, device='cuda:0'), tensor(4.7153, device='cuda:0'), tensor(5.9202, device='cuda:0'), tensor(4.7106, device='cuda:0'), tensor(4.6694, device='cuda:0'), tensor(4.5115, device='cuda:0'), tensor(5.8619, device='cuda:0'), tensor(4.1677, device='cuda:0'), tensor(4.5664, device='cuda:0'), tensor(4.4838, device='cuda:0'), tensor(5.6882, device='cuda:0'), tensor(5.3061, device='cuda:0'), tensor(4.6040, device='cuda:0'), tensor(5.5119, device='cuda:0'), tensor(5.9533, device='cuda:0'), tensor(6.0074, device='cuda:0'), tensor(5.9798, device='cuda:0'), tensor(5.7712, device='cuda:0'), tensor(4.5285, device='cuda:0'), tensor(5.7949, device='cuda:0'), tensor(4.6572, device='cuda:0'), tensor(4.5818, device='cuda:0'), tensor(4.8545, device='cuda:0'), tensor(5.9022, device='cuda:0'), tensor(5.6449, device='cuda:0'), tensor(4.3141, device='cuda:0'), tensor(5.4653, device='cuda:0'), tensor(5.5881, device='cuda:0'), tensor(5.8246, device='cuda:0'), tensor(5.8924, device='cuda:0'), tensor(5.3843, device='cuda:0'), tensor(4.3765, device='cuda:0'), tensor(4.4729, device='cuda:0'), tensor(5.6660, device='cuda:0'), tensor(4.8471, device='cuda:0'), tensor(4.7889, device='cuda:0'), tensor(5.4276, device='cuda:0'), tensor(5.8071, device='cuda:0'), tensor(5.9896, device='cuda:0'), tensor(4.3540, device='cuda:0'), tensor(5.8160, device='cuda:0'), tensor(5.6735, device='cuda:0'), tensor(4.5097, device='cuda:0'), tensor(4.7493, device='cuda:0'), tensor(4.7044, device='cuda:0'), tensor(4.5080, device='cuda:0'), tensor(4.4928, device='cuda:0'), tensor(3.9239, device='cuda:0'), tensor(5.4737, device='cuda:0'), tensor(5.9613, device='cuda:0'), tensor(5.5618, device='cuda:0'), tensor(4.4049, device='cuda:0'), tensor(5.7393, device='cuda:0'), tensor(5.8548, device='cuda:0'), tensor(5.8488, device='cuda:0'), tensor(5.9326, device='cuda:0'), tensor(4.6122, device='cuda:0'), tensor(5.8216, device='cuda:0'), tensor(4.6678, device='cuda:0'), tensor(4.5648, device='cuda:0'), tensor(4.4769, device='cuda:0'), tensor(5.5791, device='cuda:0'), tensor(5.3724, device='cuda:0'), tensor(4.5687, device='cuda:0'), tensor(4.6389, device='cuda:0'), tensor(5.6924, device='cuda:0'), tensor(4.3226, device='cuda:0'), tensor(4.3256, device='cuda:0'), tensor(4.4535, device='cuda:0'), tensor(4.4203, device='cuda:0'), tensor(5.6539, device='cuda:0'), tensor(5.3372, device='cuda:0'), tensor(5.6799, device='cuda:0'), tensor(5.9342, device='cuda:0'), tensor(4.3371, device='cuda:0'), tensor(4.9388, device='cuda:0'), tensor(4.7795, device='cuda:0'), tensor(4.5287, device='cuda:0'), tensor(4.4463, device='cuda:0'), tensor(4.6673, device='cuda:0'), tensor(5.7489, device='cuda:0'), tensor(4.4618, device='cuda:0'), tensor(6.1648, device='cuda:0'), tensor(4.5236, device='cuda:0'), tensor(4.2808, device='cuda:0'), tensor(5.6748, device='cuda:0'), tensor(4.6913, device='cuda:0'), tensor(4.6055, device='cuda:0'), tensor(4.3035, device='cuda:0'), tensor(5.8810, device='cuda:0'), tensor(4.6067, device='cuda:0'), tensor(4.8136, device='cuda:0'), tensor(4.5378, device='cuda:0'), tensor(5.8012, device='cuda:0'), tensor(4.2010, device='cuda:0'), tensor(4.5778, device='cuda:0'), tensor(4.5105, device='cuda:0'), tensor(4.3419, device='cuda:0'), tensor(5.3436, device='cuda:0'), tensor(5.5690, device='cuda:0'), tensor(4.6254, device='cuda:0'), tensor(4.9554, device='cuda:0'), tensor(4.3641, device='cuda:0'), tensor(5.9109, device='cuda:0'), tensor(5.8644, device='cuda:0'), tensor(4.4505, device='cuda:0'), tensor(4.8143, device='cuda:0'), tensor(4.2727, device='cuda:0'), tensor(4.6842, device='cuda:0'), tensor(5.8849, device='cuda:0'), tensor(4.2798, device='cuda:0'), tensor(4.2923, device='cuda:0'), tensor(5.8031, device='cuda:0'), tensor(4.5885, device='cuda:0'), tensor(5.6526, device='cuda:0'), tensor(5.7327, device='cuda:0'), tensor(5.7382, device='cuda:0'), tensor(4.6291, device='cuda:0'), tensor(4.7654, device='cuda:0'), tensor(4.6670, device='cuda:0'), tensor(5.8374, device='cuda:0'), tensor(4.5706, device='cuda:0'), tensor(6.0381, device='cuda:0'), tensor(4.2370, device='cuda:0'), tensor(5.6333, device='cuda:0'), tensor(5.5538, device='cuda:0'), tensor(5.9190, device='cuda:0'), tensor(4.7942, device='cuda:0'), tensor(4.4778, device='cuda:0'), tensor(5.5988, device='cuda:0'), tensor(4.4157, device='cuda:0'), tensor(5.5594, device='cuda:0'), tensor(4.6174, device='cuda:0'), tensor(4.7865, device='cuda:0'), tensor(4.7257, device='cuda:0'), tensor(4.4186, device='cuda:0'), tensor(5.8291, device='cuda:0'), tensor(4.4798, device='cuda:0'), tensor(4.4343, device='cuda:0'), tensor(5.7145, device='cuda:0'), tensor(5.6939, device='cuda:0'), tensor(4.5155, device='cuda:0'), tensor(4.7514, device='cuda:0'), tensor(4.3200, device='cuda:0'), tensor(5.7785, device='cuda:0'), tensor(5.8936, device='cuda:0'), tensor(5.5216, device='cuda:0'), tensor(5.7154, device='cuda:0'), tensor(4.5962, device='cuda:0'), tensor(4.6498, device='cuda:0'), tensor(5.9878, device='cuda:0'), tensor(5.5278, device='cuda:0'), tensor(5.4403, device='cuda:0'), tensor(4.6334, device='cuda:0'), tensor(5.6303, device='cuda:0'), tensor(4.5324, device='cuda:0'), tensor(4.6130, device='cuda:0'), tensor(5.9493, device='cuda:0'), tensor(5.6981, device='cuda:0'), tensor(4.4701, device='cuda:0'), tensor(5.6842, device='cuda:0'), tensor(5.6267, device='cuda:0'), tensor(4.2857, device='cuda:0'), tensor(4.3655, device='cuda:0'), tensor(5.7020, device='cuda:0'), tensor(5.5217, device='cuda:0'), tensor(5.5363, device='cuda:0'), tensor(5.8348, device='cuda:0'), tensor(4.0459, device='cuda:0'), tensor(4.5371, device='cuda:0'), tensor(4.5027, device='cuda:0'), tensor(4.8883, device='cuda:0'), tensor(5.9141, device='cuda:0'), tensor(4.9448, device='cuda:0'), tensor(5.6081, device='cuda:0'), tensor(4.4775, device='cuda:0'), tensor(5.6270, device='cuda:0'), tensor(5.7265, device='cuda:0'), tensor(5.7802, device='cuda:0'), tensor(4.6306, device='cuda:0'), tensor(4.3761, device='cuda:0'), tensor(4.6732, device='cuda:0'), tensor(4.6098, device='cuda:0'), tensor(4.4627, device='cuda:0'), tensor(4.4542, device='cuda:0'), tensor(4.6795, device='cuda:0'), tensor(4.8661, device='cuda:0'), tensor(5.6677, device='cuda:0'), tensor(4.4778, device='cuda:0'), tensor(4.6183, device='cuda:0'), tensor(5.7548, device='cuda:0'), tensor(5.9457, device='cuda:0'), tensor(4.6638, device='cuda:0'), tensor(5.6479, device='cuda:0'), tensor(4.3935, device='cuda:0'), tensor(5.1274, device='cuda:0'), tensor(4.5960, device='cuda:0'), tensor(4.5930, device='cuda:0'), tensor(5.5152, device='cuda:0'), tensor(5.7291, device='cuda:0'), tensor(5.7929, device='cuda:0'), tensor(5.7282, device='cuda:0'), tensor(5.9738, device='cuda:0'), tensor(6.1370, device='cuda:0'), tensor(4.3461, device='cuda:0'), tensor(4.2833, device='cuda:0'), tensor(5.7356, device='cuda:0'), tensor(4.6175, device='cuda:0'), tensor(5.7292, device='cuda:0'), tensor(5.4455, device='cuda:0'), tensor(5.7387, device='cuda:0'), tensor(4.3515, device='cuda:0'), tensor(5.2164, device='cuda:0'), tensor(5.5904, device='cuda:0'), tensor(4.4983, device='cuda:0'), tensor(4.7940, device='cuda:0'), tensor(5.8543, device='cuda:0'), tensor(4.4580, device='cuda:0'), tensor(4.3199, device='cuda:0'), tensor(5.8031, device='cuda:0'), tensor(5.6831, device='cuda:0'), tensor(4.5338, device='cuda:0'), tensor(5.9474, device='cuda:0'), tensor(5.8662, device='cuda:0'), tensor(4.4387, device='cuda:0'), tensor(5.4460, device='cuda:0'), tensor(4.7728, device='cuda:0'), tensor(5.7732, device='cuda:0'), tensor(4.3521, device='cuda:0'), tensor(5.9972, device='cuda:0'), tensor(5.5870, device='cuda:0'), tensor(5.8509, device='cuda:0'), tensor(5.8826, device='cuda:0'), tensor(5.6053, device='cuda:0'), tensor(5.7415, device='cuda:0'), tensor(4.0869, device='cuda:0'), tensor(5.4429, device='cuda:0'), tensor(4.4711, device='cuda:0'), tensor(5.3494, device='cuda:0'), tensor(5.6202, device='cuda:0'), tensor(4.5381, device='cuda:0'), tensor(4.4380, device='cuda:0'), tensor(5.7966, device='cuda:0'), tensor(4.7429, device='cuda:0'), tensor(5.6133, device='cuda:0'), tensor(4.3745, device='cuda:0'), tensor(4.1753, device='cuda:0'), tensor(4.4761, device='cuda:0'), tensor(4.5494, device='cuda:0'), tensor(5.7087, device='cuda:0'), tensor(5.5398, device='cuda:0'), tensor(5.8282, device='cuda:0'), tensor(4.5533, device='cuda:0'), tensor(4.4585, device='cuda:0'), tensor(5.8872, device='cuda:0'), tensor(6.0013, device='cuda:0'), tensor(4.2934, device='cuda:0'), tensor(4.3150, device='cuda:0'), tensor(5.6081, device='cuda:0'), tensor(5.7446, device='cuda:0'), tensor(4.3050, device='cuda:0'), tensor(5.9308, device='cuda:0'), tensor(5.9218, device='cuda:0'), tensor(5.5428, device='cuda:0'), tensor(6.1121, device='cuda:0'), tensor(5.9720, device='cuda:0'), tensor(5.6657, device='cuda:0'), tensor(3.9540, device='cuda:0'), tensor(4.3806, device='cuda:0'), tensor(4.8088, device='cuda:0'), tensor(5.6932, device='cuda:0'), tensor(5.6931, device='cuda:0'), tensor(4.5946, device='cuda:0'), tensor(5.7895, device='cuda:0'), tensor(5.7956, device='cuda:0'), tensor(4.4140, device='cuda:0'), tensor(5.8328, device='cuda:0'), tensor(4.7549, device='cuda:0'), tensor(5.7645, device='cuda:0'), tensor(5.5540, device='cuda:0'), tensor(4.5664, device='cuda:0'), tensor(5.8495, device='cuda:0'), tensor(5.8001, device='cuda:0'), tensor(4.0335, device='cuda:0'), tensor(4.5594, device='cuda:0'), tensor(4.8056, device='cuda:0'), tensor(4.4095, device='cuda:0'), tensor(4.3908, device='cuda:0'), tensor(4.5878, device='cuda:0'), tensor(5.7571, device='cuda:0'), tensor(4.6388, device='cuda:0'), tensor(5.7969, device='cuda:0'), tensor(4.2110, device='cuda:0'), tensor(5.8894, device='cuda:0'), tensor(4.6681, device='cuda:0'), tensor(5.9880, device='cuda:0'), tensor(5.7736, device='cuda:0'), tensor(5.9975, device='cuda:0'), tensor(4.2457, device='cuda:0'), tensor(4.5117, device='cuda:0'), tensor(4.4534, device='cuda:0'), tensor(4.6062, device='cuda:0'), tensor(4.6264, device='cuda:0'), tensor(4.7500, device='cuda:0'), tensor(5.6797, device='cuda:0'), tensor(5.8509, device='cuda:0'), tensor(4.4214, device='cuda:0'), tensor(5.6623, device='cuda:0'), tensor(6.0644, device='cuda:0'), tensor(5.6977, device='cuda:0'), tensor(4.8908, device='cuda:0'), tensor(4.5444, device='cuda:0'), tensor(5.4938, device='cuda:0'), tensor(6.0187, device='cuda:0'), tensor(5.4907, device='cuda:0'), tensor(4.5412, device='cuda:0'), tensor(5.8009, device='cuda:0'), tensor(4.6243, device='cuda:0'), tensor(4.3565, device='cuda:0'), tensor(5.6511, device='cuda:0'), tensor(4.6992, device='cuda:0'), tensor(4.6574, device='cuda:0'), tensor(5.9389, device='cuda:0'), tensor(5.5696, device='cuda:0'), tensor(4.5962, device='cuda:0'), tensor(4.5917, device='cuda:0'), tensor(4.8176, device='cuda:0'), tensor(4.2818, device='cuda:0'), tensor(4.1487, device='cuda:0'), tensor(5.7145, device='cuda:0'), tensor(5.8103, device='cuda:0'), tensor(4.4689, device='cuda:0'), tensor(4.5617, device='cuda:0'), tensor(6.0069, device='cuda:0'), tensor(4.4205, device='cuda:0'), tensor(5.9719, device='cuda:0'), tensor(5.7662, device='cuda:0'), tensor(5.4244, device='cuda:0'), tensor(5.6487, device='cuda:0'), tensor(5.7340, device='cuda:0'), tensor(5.7901, device='cuda:0'), tensor(4.4818, device='cuda:0'), tensor(5.7579, device='cuda:0'), tensor(4.6478, device='cuda:0'), tensor(5.8854, device='cuda:0'), tensor(5.0338, device='cuda:0'), tensor(5.6130, device='cuda:0'), tensor(4.1390, device='cuda:0'), tensor(5.6639, device='cuda:0'), tensor(5.8430, device='cuda:0'), tensor(4.5062, device='cuda:0'), tensor(5.8320, device='cuda:0'), tensor(4.5661, device='cuda:0'), tensor(4.2854, device='cuda:0'), tensor(4.4416, device='cuda:0'), tensor(5.4774, device='cuda:0'), tensor(5.5722, device='cuda:0'), tensor(5.6752, device='cuda:0'), tensor(4.7454, device='cuda:0'), tensor(5.5679, device='cuda:0'), tensor(5.7553, device='cuda:0'), tensor(4.6888, device='cuda:0'), tensor(5.7416, device='cuda:0'), tensor(5.4924, device='cuda:0'), tensor(4.6599, device='cuda:0'), tensor(5.7278, device='cuda:0'), tensor(5.8039, device='cuda:0'), tensor(4.2906, device='cuda:0'), tensor(4.6510, device='cuda:0'), tensor(5.6229, device='cuda:0'), tensor(4.3960, device='cuda:0'), tensor(4.3433, device='cuda:0'), tensor(4.3992, device='cuda:0'), tensor(4.4469, device='cuda:0'), tensor(5.6810, device='cuda:0'), tensor(5.8733, device='cuda:0'), tensor(5.8996, device='cuda:0'), tensor(5.6255, device='cuda:0'), tensor(5.6922, device='cuda:0'), tensor(4.4987, device='cuda:0'), tensor(5.5749, device='cuda:0'), tensor(5.6797, device='cuda:0'), tensor(5.5909, device='cuda:0'), tensor(5.9933, device='cuda:0'), tensor(5.8865, device='cuda:0'), tensor(4.7012, device='cuda:0'), tensor(5.5367, device='cuda:0'), tensor(5.6966, device='cuda:0'), tensor(5.9464, device='cuda:0'), tensor(5.6425, device='cuda:0'), tensor(4.6931, device='cuda:0'), tensor(5.7219, device='cuda:0'), tensor(4.5451, device='cuda:0'), tensor(4.4116, device='cuda:0'), tensor(5.6822, device='cuda:0'), tensor(5.8216, device='cuda:0'), tensor(4.8299, device='cuda:0'), tensor(4.6755, device='cuda:0'), tensor(5.7693, device='cuda:0'), tensor(4.4407, device='cuda:0'), tensor(4.5175, device='cuda:0'), tensor(5.5299, device='cuda:0'), tensor(4.5169, device='cuda:0'), tensor(4.3111, device='cuda:0'), tensor(5.9147, device='cuda:0'), tensor(5.7789, device='cuda:0'), tensor(5.5656, device='cuda:0'), tensor(4.6109, device='cuda:0'), tensor(5.6314, device='cuda:0'), tensor(4.0733, device='cuda:0'), tensor(4.3863, device='cuda:0'), tensor(5.6517, device='cuda:0'), tensor(4.2964, device='cuda:0'), tensor(4.3490, device='cuda:0'), tensor(5.8993, device='cuda:0'), tensor(4.5488, device='cuda:0'), tensor(4.9018, device='cuda:0'), tensor(4.0871, device='cuda:0'), tensor(4.2670, device='cuda:0'), tensor(5.7469, device='cuda:0'), tensor(4.4151, device='cuda:0'), tensor(5.5029, device='cuda:0'), tensor(4.6289, device='cuda:0'), tensor(4.5225, device='cuda:0'), tensor(4.4816, device='cuda:0'), tensor(5.5559, device='cuda:0'), tensor(5.7951, device='cuda:0'), tensor(4.8155, device='cuda:0'), tensor(5.7506, device='cuda:0'), tensor(4.7445, device='cuda:0'), tensor(4.5897, device='cuda:0'), tensor(5.8552, device='cuda:0'), tensor(5.6783, device='cuda:0'), tensor(4.5366, device='cuda:0'), tensor(5.5800, device='cuda:0'), tensor(4.7455, device='cuda:0'), tensor(5.5110, device='cuda:0'), tensor(5.5169, device='cuda:0'), tensor(5.6174, device='cuda:0'), tensor(4.3153, device='cuda:0'), tensor(4.0450, device='cuda:0'), tensor(5.9631, device='cuda:0'), tensor(5.7823, device='cuda:0'), tensor(5.6878, device='cuda:0'), tensor(5.7508, device='cuda:0'), tensor(5.8114, device='cuda:0'), tensor(4.5977, device='cuda:0'), tensor(5.9667, device='cuda:0'), tensor(5.8417, device='cuda:0'), tensor(4.5318, device='cuda:0'), tensor(5.5100, device='cuda:0'), tensor(4.3537, device='cuda:0'), tensor(5.7608, device='cuda:0'), tensor(4.4260, device='cuda:0'), tensor(5.9197, device='cuda:0'), tensor(4.4334, device='cuda:0'), tensor(5.7337, device='cuda:0'), tensor(4.3681, device='cuda:0'), tensor(5.5519, device='cuda:0'), tensor(5.7097, device='cuda:0'), tensor(5.4651, device='cuda:0'), tensor(5.4211, device='cuda:0'), tensor(5.3631, device='cuda:0'), tensor(5.9765, device='cuda:0'), tensor(5.5300, device='cuda:0'), tensor(5.4571, device='cuda:0'), tensor(4.4342, device='cuda:0'), tensor(5.3716, device='cuda:0'), tensor(5.5487, device='cuda:0'), tensor(4.6696, device='cuda:0'), tensor(4.6154, device='cuda:0'), tensor(4.9318, device='cuda:0'), tensor(5.7916, device='cuda:0'), tensor(5.9381, device='cuda:0'), tensor(5.7437, device='cuda:0'), tensor(4.6281, device='cuda:0'), tensor(4.1755, device='cuda:0'), tensor(4.4040, device='cuda:0'), tensor(5.8830, device='cuda:0'), tensor(4.4783, device='cuda:0'), tensor(4.2791, device='cuda:0'), tensor(5.8691, device='cuda:0'), tensor(4.6874, device='cuda:0'), tensor(4.7706, device='cuda:0'), tensor(4.5883, device='cuda:0'), tensor(4.7126, device='cuda:0'), tensor(5.7632, device='cuda:0'), tensor(4.5845, device='cuda:0'), tensor(5.6970, device='cuda:0'), tensor(4.4085, device='cuda:0'), tensor(5.6156, device='cuda:0'), tensor(4.3968, device='cuda:0'), tensor(4.1274, device='cuda:0'), tensor(5.5930, device='cuda:0'), tensor(4.5379, device='cuda:0'), tensor(4.2221, device='cuda:0'), tensor(4.0597, device='cuda:0'), tensor(5.9146, device='cuda:0'), tensor(4.6247, device='cuda:0'), tensor(4.1280, device='cuda:0'), tensor(5.7747, device='cuda:0'), tensor(5.6290, device='cuda:0'), tensor(4.7984, device='cuda:0'), tensor(4.4722, device='cuda:0'), tensor(4.6754, device='cuda:0'), tensor(5.2192, device='cuda:0'), tensor(4.5712, device='cuda:0'), tensor(4.4111, device='cuda:0'), tensor(5.5616, device='cuda:0'), tensor(4.4576, device='cuda:0'), tensor(5.7755, device='cuda:0'), tensor(4.5375, device='cuda:0'), tensor(5.5100, device='cuda:0'), tensor(4.4301, device='cuda:0'), tensor(5.5432, device='cuda:0'), tensor(4.3970, device='cuda:0'), tensor(5.7395, device='cuda:0'), tensor(4.6702, device='cuda:0'), tensor(5.5811, device='cuda:0'), tensor(4.7431, device='cuda:0'), tensor(5.3966, device='cuda:0'), tensor(5.5917, device='cuda:0'), tensor(5.5053, device='cuda:0'), tensor(4.2143, device='cuda:0'), tensor(4.5800, device='cuda:0'), tensor(4.0259, device='cuda:0'), tensor(5.6637, device='cuda:0'), tensor(4.4709, device='cuda:0'), tensor(4.3141, device='cuda:0'), tensor(4.5331, device='cuda:0'), tensor(4.5743, device='cuda:0'), tensor(5.7455, device='cuda:0'), tensor(5.7951, device='cuda:0'), tensor(4.4592, device='cuda:0'), tensor(4.7263, device='cuda:0'), tensor(4.4210, device='cuda:0'), tensor(5.9133, device='cuda:0'), tensor(4.9166, device='cuda:0'), tensor(4.3472, device='cuda:0'), tensor(4.9361, device='cuda:0'), tensor(4.6343, device='cuda:0'), tensor(6.0599, device='cuda:0'), tensor(5.7847, device='cuda:0'), tensor(5.9867, device='cuda:0'), tensor(4.4180, device='cuda:0'), tensor(4.5196, device='cuda:0'), tensor(4.3481, device='cuda:0'), tensor(4.5107, device='cuda:0'), tensor(6.0208, device='cuda:0'), tensor(4.4151, device='cuda:0'), tensor(4.4188, device='cuda:0'), tensor(4.0974, device='cuda:0'), tensor(4.7001, device='cuda:0'), tensor(4.7325, device='cuda:0'), tensor(4.6239, device='cuda:0'), tensor(4.5007, device='cuda:0'), tensor(4.6150, device='cuda:0'), tensor(5.5456, device='cuda:0'), tensor(4.6336, device='cuda:0'), tensor(4.6432, device='cuda:0'), tensor(4.5678, device='cuda:0'), tensor(4.4977, device='cuda:0'), tensor(4.4171, device='cuda:0'), tensor(4.4674, device='cuda:0'), tensor(6.0329, device='cuda:0'), tensor(5.7625, device='cuda:0'), tensor(4.7917, device='cuda:0'), tensor(5.7753, device='cuda:0'), tensor(4.4838, device='cuda:0'), tensor(5.7773, device='cuda:0'), tensor(3.9920, device='cuda:0'), tensor(5.6834, device='cuda:0'), tensor(4.2113, device='cuda:0'), tensor(4.3755, device='cuda:0'), tensor(4.3537, device='cuda:0'), tensor(4.2439, device='cuda:0'), tensor(5.6942, device='cuda:0'), tensor(4.4478, device='cuda:0'), tensor(4.7316, device='cuda:0'), tensor(5.6340, device='cuda:0'), tensor(4.4652, device='cuda:0'), tensor(5.6555, device='cuda:0'), tensor(4.6976, device='cuda:0'), tensor(5.5158, device='cuda:0'), tensor(5.5895, device='cuda:0'), tensor(4.8066, device='cuda:0'), tensor(5.6495, device='cuda:0'), tensor(4.5363, device='cuda:0'), tensor(4.5848, device='cuda:0'), tensor(5.8815, device='cuda:0'), tensor(4.3983, device='cuda:0'), tensor(4.4492, device='cuda:0'), tensor(4.5404, device='cuda:0'), tensor(4.4845, device='cuda:0'), tensor(4.2846, device='cuda:0'), tensor(5.6806, device='cuda:0'), tensor(6.1146, device='cuda:0'), tensor(4.6494, device='cuda:0'), tensor(5.4628, device='cuda:0'), tensor(5.8285, device='cuda:0'), tensor(4.4961, device='cuda:0'), tensor(5.4105, device='cuda:0'), tensor(5.8269, device='cuda:0'), tensor(4.4801, device='cuda:0'), tensor(4.4480, device='cuda:0'), tensor(4.4613, device='cuda:0'), tensor(5.7005, device='cuda:0'), tensor(5.5538, device='cuda:0'), tensor(5.6401, device='cuda:0'), tensor(4.3733, device='cuda:0'), tensor(4.5333, device='cuda:0'), tensor(4.5051, device='cuda:0'), tensor(4.6907, device='cuda:0'), tensor(4.3170, device='cuda:0'), tensor(4.1711, device='cuda:0'), tensor(5.6704, device='cuda:0'), tensor(5.6331, device='cuda:0'), tensor(5.6809, device='cuda:0'), tensor(5.6647, device='cuda:0'), tensor(5.5034, device='cuda:0'), tensor(5.2612, device='cuda:0'), tensor(4.8643, device='cuda:0'), tensor(4.3021, device='cuda:0'), tensor(5.6713, device='cuda:0'), tensor(4.3110, device='cuda:0'), tensor(5.3374, device='cuda:0'), tensor(4.6715, device='cuda:0'), tensor(5.9244, device='cuda:0'), tensor(5.6975, device='cuda:0'), tensor(5.6038, device='cuda:0'), tensor(5.8271, device='cuda:0'), tensor(5.6931, device='cuda:0'), tensor(5.6041, device='cuda:0'), tensor(4.2251, device='cuda:0'), tensor(4.4888, device='cuda:0'), tensor(4.8506, device='cuda:0'), tensor(4.8304, device='cuda:0'), tensor(5.4883, device='cuda:0'), tensor(5.8123, device='cuda:0'), tensor(4.8180, device='cuda:0'), tensor(5.3091, device='cuda:0'), tensor(4.7710, device='cuda:0'), tensor(5.6468, device='cuda:0'), tensor(5.7622, device='cuda:0'), tensor(4.4369, device='cuda:0'), tensor(5.6353, device='cuda:0'), tensor(5.7017, device='cuda:0'), tensor(5.7156, device='cuda:0'), tensor(4.7176, device='cuda:0'), tensor(4.3614, device='cuda:0'), tensor(4.3373, device='cuda:0'), tensor(4.6743, device='cuda:0'), tensor(5.7317, device='cuda:0'), tensor(6.1673, device='cuda:0'), tensor(5.9379, device='cuda:0'), tensor(4.1057, device='cuda:0'), tensor(4.3452, device='cuda:0'), tensor(5.5922, device='cuda:0'), tensor(3.9502, device='cuda:0'), tensor(5.7024, device='cuda:0'), tensor(5.5415, device='cuda:0'), tensor(4.7404, device='cuda:0'), tensor(5.7015, device='cuda:0'), tensor(6.2144, device='cuda:0'), tensor(5.7039, device='cuda:0'), tensor(4.7587, device='cuda:0'), tensor(5.5428, device='cuda:0'), tensor(4.6767, device='cuda:0'), tensor(4.4244, device='cuda:0'), tensor(4.9571, device='cuda:0'), tensor(5.7286, device='cuda:0'), tensor(4.1222, device='cuda:0'), tensor(4.5566, device='cuda:0'), tensor(5.9367, device='cuda:0'), tensor(5.9159, device='cuda:0'), tensor(5.6319, device='cuda:0'), tensor(4.4546, device='cuda:0'), tensor(6.0113, device='cuda:0'), tensor(6.1907, device='cuda:0'), tensor(4.4739, device='cuda:0'), tensor(5.8831, device='cuda:0'), tensor(4.3705, device='cuda:0'), tensor(5.6795, device='cuda:0'), tensor(4.4192, device='cuda:0'), tensor(5.7243, device='cuda:0'), tensor(5.4024, device='cuda:0'), tensor(4.5884, device='cuda:0'), tensor(5.8459, device='cuda:0'), tensor(4.6365, device='cuda:0'), tensor(4.4220, device='cuda:0'), tensor(5.4647, device='cuda:0'), tensor(4.5762, device='cuda:0'), tensor(4.4254, device='cuda:0'), tensor(4.6519, device='cuda:0'), tensor(4.5901, device='cuda:0'), tensor(5.4087, device='cuda:0'), tensor(5.5823, device='cuda:0'), tensor(5.4452, device='cuda:0'), tensor(4.4176, device='cuda:0'), tensor(4.2666, device='cuda:0'), tensor(4.9539, device='cuda:0'), tensor(5.6318, device='cuda:0'), tensor(4.3384, device='cuda:0'), tensor(4.1960, device='cuda:0'), tensor(5.8309, device='cuda:0'), tensor(4.7558, device='cuda:0'), tensor(6.2827, device='cuda:0'), tensor(5.8655, device='cuda:0'), tensor(5.9547, device='cuda:0'), tensor(5.7701, device='cuda:0'), tensor(5.7528, device='cuda:0'), tensor(5.9231, device='cuda:0'), tensor(4.4984, device='cuda:0'), tensor(4.2944, device='cuda:0'), tensor(4.7261, device='cuda:0'), tensor(4.4770, device='cuda:0'), tensor(4.1795, device='cuda:0'), tensor(5.6749, device='cuda:0'), tensor(5.5854, device='cuda:0'), tensor(5.6450, device='cuda:0'), tensor(5.4753, device='cuda:0'), tensor(5.4871, device='cuda:0'), tensor(5.5080, device='cuda:0'), tensor(4.2537, device='cuda:0'), tensor(4.1893, device='cuda:0'), tensor(5.7533, device='cuda:0'), tensor(4.6458, device='cuda:0'), tensor(5.7895, device='cuda:0'), tensor(5.6916, device='cuda:0'), tensor(5.5899, device='cuda:0'), tensor(5.9962, device='cuda:0'), tensor(4.4216, device='cuda:0'), tensor(4.4326, device='cuda:0'), tensor(4.5390, device='cuda:0'), tensor(5.7130, device='cuda:0'), tensor(4.6664, device='cuda:0'), tensor(5.5453, device='cuda:0'), tensor(6.0209, device='cuda:0'), tensor(4.9112, device='cuda:0'), tensor(5.7605, device='cuda:0'), tensor(5.3409, device='cuda:0'), tensor(4.3149, device='cuda:0'), tensor(5.4178, device='cuda:0'), tensor(5.5514, device='cuda:0'), tensor(4.3311, device='cuda:0'), tensor(5.7250, device='cuda:0'), tensor(4.0417, device='cuda:0'), tensor(4.2282, device='cuda:0'), tensor(4.5269, device='cuda:0'), tensor(5.9801, device='cuda:0'), tensor(5.5985, device='cuda:0'), tensor(4.4213, device='cuda:0'), tensor(4.3887, device='cuda:0'), tensor(4.5117, device='cuda:0'), tensor(4.4989, device='cuda:0'), tensor(5.6789, device='cuda:0'), tensor(5.5972, device='cuda:0'), tensor(4.5268, device='cuda:0'), tensor(4.6825, device='cuda:0'), tensor(5.7092, device='cuda:0'), tensor(4.4937, device='cuda:0'), tensor(4.4508, device='cuda:0'), tensor(5.8543, device='cuda:0'), tensor(5.8374, device='cuda:0'), tensor(4.4225, device='cuda:0'), tensor(5.4814, device='cuda:0'), tensor(4.5948, device='cuda:0'), tensor(5.4985, device='cuda:0'), tensor(4.7050, device='cuda:0'), tensor(4.1650, device='cuda:0'), tensor(4.7320, device='cuda:0'), tensor(4.2745, device='cuda:0'), tensor(5.4893, device='cuda:0'), tensor(4.5591, device='cuda:0'), tensor(4.8255, device='cuda:0'), tensor(4.3282, device='cuda:0'), tensor(5.5600, device='cuda:0'), tensor(5.8646, device='cuda:0'), tensor(4.2482, device='cuda:0'), tensor(5.6053, device='cuda:0'), tensor(5.3774, device='cuda:0'), tensor(4.4998, device='cuda:0'), tensor(4.6052, device='cuda:0'), tensor(4.2372, device='cuda:0'), tensor(4.3885, device='cuda:0'), tensor(4.4893, device='cuda:0'), tensor(4.2742, device='cuda:0'), tensor(5.6348, device='cuda:0'), tensor(4.5692, device='cuda:0'), tensor(5.8539, device='cuda:0'), tensor(4.7064, device='cuda:0'), tensor(4.5229, device='cuda:0'), tensor(5.4875, device='cuda:0'), tensor(4.1444, device='cuda:0'), tensor(5.7545, device='cuda:0'), tensor(4.3977, device='cuda:0'), tensor(5.8456, device='cuda:0'), tensor(5.6336, device='cuda:0'), tensor(5.6959, device='cuda:0'), tensor(5.7966, device='cuda:0'), tensor(6.1027, device='cuda:0'), tensor(4.3381, device='cuda:0'), tensor(5.8987, device='cuda:0'), tensor(5.4447, device='cuda:0'), tensor(4.3536, device='cuda:0'), tensor(4.4031, device='cuda:0'), tensor(4.8231, device='cuda:0'), tensor(4.9763, device='cuda:0'), tensor(4.3652, device='cuda:0'), tensor(4.6619, device='cuda:0'), tensor(6.3745, device='cuda:0'), tensor(4.3650, device='cuda:0'), tensor(5.7704, device='cuda:0'), tensor(5.2378, device='cuda:0'), tensor(4.5954, device='cuda:0'), tensor(4.3399, device='cuda:0'), tensor(5.5305, device='cuda:0'), tensor(4.6729, device='cuda:0'), tensor(4.1267, device='cuda:0'), tensor(5.8120, device='cuda:0'), tensor(4.2671, device='cuda:0'), tensor(4.2931, device='cuda:0'), tensor(5.8068, device='cuda:0'), tensor(5.3148, device='cuda:0'), tensor(4.4180, device='cuda:0'), tensor(4.3965, device='cuda:0'), tensor(4.4128, device='cuda:0'), tensor(4.7029, device='cuda:0'), tensor(5.5587, device='cuda:0'), tensor(4.8488, device='cuda:0'), tensor(4.3039, device='cuda:0'), tensor(4.1613, device='cuda:0'), tensor(4.5300, device='cuda:0'), tensor(4.2128, device='cuda:0'), tensor(5.5767, device='cuda:0'), tensor(5.6325, device='cuda:0'), tensor(5.8590, device='cuda:0'), tensor(5.8123, device='cuda:0'), tensor(4.6306, device='cuda:0'), tensor(5.8072, device='cuda:0'), tensor(4.2549, device='cuda:0'), tensor(5.5618, device='cuda:0'), tensor(5.6716, device='cuda:0'), tensor(5.6293, device='cuda:0'), tensor(5.8242, device='cuda:0'), tensor(4.5786, device='cuda:0'), tensor(4.5971, device='cuda:0'), tensor(5.6062, device='cuda:0'), tensor(5.8010, device='cuda:0'), tensor(5.5382, device='cuda:0'), tensor(4.6770, device='cuda:0'), tensor(4.2638, device='cuda:0'), tensor(4.6068, device='cuda:0'), tensor(4.9409, device='cuda:0'), tensor(4.4896, device='cuda:0'), tensor(5.5014, device='cuda:0'), tensor(5.7368, device='cuda:0'), tensor(4.3226, device='cuda:0'), tensor(4.5166, device='cuda:0'), tensor(4.6238, device='cuda:0'), tensor(4.5068, device='cuda:0'), tensor(5.6328, device='cuda:0'), tensor(5.8360, device='cuda:0'), tensor(5.6301, device='cuda:0'), tensor(6.1441, device='cuda:0'), tensor(5.4153, device='cuda:0'), tensor(5.6200, device='cuda:0'), tensor(4.1686, device='cuda:0'), tensor(5.6247, device='cuda:0'), tensor(4.3616, device='cuda:0'), tensor(5.4766, device='cuda:0'), tensor(5.7405, device='cuda:0'), tensor(5.6066, device='cuda:0'), tensor(4.5768, device='cuda:0'), tensor(4.5156, device='cuda:0'), tensor(4.5212, device='cuda:0'), tensor(5.7100, device='cuda:0'), tensor(5.6833, device='cuda:0'), tensor(5.6715, device='cuda:0'), tensor(5.6873, device='cuda:0'), tensor(5.4693, device='cuda:0'), tensor(5.6717, device='cuda:0'), tensor(4.5027, device='cuda:0'), tensor(4.1344, device='cuda:0'), tensor(4.7462, device='cuda:0'), tensor(5.7586, device='cuda:0'), tensor(4.5774, device='cuda:0'), tensor(5.4611, device='cuda:0'), tensor(4.1360, device='cuda:0'), tensor(5.7506, device='cuda:0'), tensor(5.7970, device='cuda:0'), tensor(4.4619, device='cuda:0'), tensor(5.9553, device='cuda:0'), tensor(6.1374, device='cuda:0'), tensor(5.6583, device='cuda:0'), tensor(5.7318, device='cuda:0'), tensor(5.8449, device='cuda:0'), tensor(4.7993, device='cuda:0'), tensor(5.0008, device='cuda:0'), tensor(5.7763, device='cuda:0'), tensor(5.1269, device='cuda:0'), tensor(4.2306, device='cuda:0'), tensor(4.5575, device='cuda:0'), tensor(5.7682, device='cuda:0'), tensor(4.3361, device='cuda:0'), tensor(5.7881, device='cuda:0'), tensor(5.7393, device='cuda:0'), tensor(4.2323, device='cuda:0'), tensor(5.6518, device='cuda:0'), tensor(4.8758, device='cuda:0'), tensor(4.3207, device='cuda:0'), tensor(5.7150, device='cuda:0'), tensor(3.9245, device='cuda:0'), tensor(5.9300, device='cuda:0'), tensor(5.7153, device='cuda:0'), tensor(5.9072, device='cuda:0'), tensor(4.5837, device='cuda:0'), tensor(5.5580, device='cuda:0'), tensor(4.4830, device='cuda:0'), tensor(4.8053, device='cuda:0'), tensor(5.7296, device='cuda:0'), tensor(4.3245, device='cuda:0'), tensor(5.5566, device='cuda:0'), tensor(5.5534, device='cuda:0'), tensor(5.9300, device='cuda:0'), tensor(5.9645, device='cuda:0'), tensor(4.4115, device='cuda:0'), tensor(5.5476, device='cuda:0'), tensor(5.5321, device='cuda:0'), tensor(4.1029, device='cuda:0'), tensor(4.5504, device='cuda:0'), tensor(4.5227, device='cuda:0'), tensor(5.8758, device='cuda:0'), tensor(5.0958, device='cuda:0'), tensor(5.5764, device='cuda:0'), tensor(4.6234, device='cuda:0'), tensor(4.7106, device='cuda:0'), tensor(5.4407, device='cuda:0'), tensor(6.0115, device='cuda:0'), tensor(5.6178, device='cuda:0'), tensor(5.5503, device='cuda:0'), tensor(4.7455, device='cuda:0'), tensor(4.9873, device='cuda:0'), tensor(5.7773, device='cuda:0'), tensor(5.9297, device='cuda:0'), tensor(4.5452, device='cuda:0'), tensor(4.7599, device='cuda:0'), tensor(4.6645, device='cuda:0'), tensor(4.6572, device='cuda:0'), tensor(5.7124, device='cuda:0'), tensor(5.9764, device='cuda:0'), tensor(4.3452, device='cuda:0'), tensor(5.3949, device='cuda:0'), tensor(4.2705, device='cuda:0'), tensor(4.7109, device='cuda:0'), tensor(4.6462, device='cuda:0'), tensor(5.5775, device='cuda:0'), tensor(5.6020, device='cuda:0'), tensor(5.7498, device='cuda:0'), tensor(5.6636, device='cuda:0'), tensor(4.3642, device='cuda:0'), tensor(4.3476, device='cuda:0'), tensor(5.7078, device='cuda:0'), tensor(4.6690, device='cuda:0'), tensor(5.6045, device='cuda:0'), tensor(4.3301, device='cuda:0'), tensor(5.6044, device='cuda:0'), tensor(4.5194, device='cuda:0'), tensor(5.6026, device='cuda:0'), tensor(5.7194, device='cuda:0'), tensor(4.3182, device='cuda:0'), tensor(4.6853, device='cuda:0'), tensor(5.7794, device='cuda:0'), tensor(4.9822, device='cuda:0'), tensor(4.4853, device='cuda:0'), tensor(4.5291, device='cuda:0'), tensor(5.8516, device='cuda:0'), tensor(4.6706, device='cuda:0'), tensor(4.7162, device='cuda:0'), tensor(4.3221, device='cuda:0'), tensor(5.5828, device='cuda:0'), tensor(5.6112, device='cuda:0'), tensor(5.6201, device='cuda:0'), tensor(5.7310, device='cuda:0'), tensor(4.5189, device='cuda:0'), tensor(4.5738, device='cuda:0'), tensor(5.7329, device='cuda:0'), tensor(5.6914, device='cuda:0'), tensor(4.4175, device='cuda:0'), tensor(4.3418, device='cuda:0'), tensor(5.5754, device='cuda:0'), tensor(4.2474, device='cuda:0'), tensor(4.2676, device='cuda:0'), tensor(4.3846, device='cuda:0'), tensor(5.9552, device='cuda:0'), tensor(4.0841, device='cuda:0'), tensor(5.8679, device='cuda:0'), tensor(4.4865, device='cuda:0'), tensor(4.2722, device='cuda:0'), tensor(5.6753, device='cuda:0'), tensor(4.2742, device='cuda:0'), tensor(5.7677, device='cuda:0'), tensor(5.7698, device='cuda:0'), tensor(4.5497, device='cuda:0'), tensor(4.0795, device='cuda:0'), tensor(4.2921, device='cuda:0'), tensor(5.6212, device='cuda:0'), tensor(4.4881, device='cuda:0'), tensor(5.9164, device='cuda:0'), tensor(5.7644, device='cuda:0'), tensor(5.6637, device='cuda:0'), tensor(5.4598, device='cuda:0'), tensor(5.7313, device='cuda:0'), tensor(4.4456, device='cuda:0'), tensor(4.2921, device='cuda:0'), tensor(5.5770, device='cuda:0'), tensor(4.6111, device='cuda:0'), tensor(4.5385, device='cuda:0'), tensor(5.5397, device='cuda:0'), tensor(4.3232, device='cuda:0'), tensor(4.3629, device='cuda:0'), tensor(4.0838, device='cuda:0'), tensor(4.2954, device='cuda:0'), tensor(4.4453, device='cuda:0'), tensor(4.7525, device='cuda:0'), tensor(4.6021, device='cuda:0'), tensor(4.3820, device='cuda:0'), tensor(4.8844, device='cuda:0'), tensor(4.0702, device='cuda:0'), tensor(4.1332, device='cuda:0'), tensor(6.0782, device='cuda:0'), tensor(4.0353, device='cuda:0'), tensor(4.4025, device='cuda:0'), tensor(6.0264, device='cuda:0'), tensor(4.7120, device='cuda:0'), tensor(5.7650, device='cuda:0'), tensor(4.5739, device='cuda:0'), tensor(4.2419, device='cuda:0'), tensor(5.9609, device='cuda:0'), tensor(5.5269, device='cuda:0'), tensor(4.6827, device='cuda:0'), tensor(5.6402, device='cuda:0'), tensor(4.3688, device='cuda:0'), tensor(5.5140, device='cuda:0'), tensor(5.4578, device='cuda:0'), tensor(5.4256, device='cuda:0'), tensor(4.6540, device='cuda:0'), tensor(5.7211, device='cuda:0'), tensor(4.8394, device='cuda:0'), tensor(5.8320, device='cuda:0'), tensor(4.4617, device='cuda:0'), tensor(5.3852, device='cuda:0'), tensor(5.4346, device='cuda:0'), tensor(5.5933, device='cuda:0'), tensor(5.6667, device='cuda:0'), tensor(4.4871, device='cuda:0'), tensor(5.6922, device='cuda:0'), tensor(4.9011, device='cuda:0'), tensor(4.6560, device='cuda:0'), tensor(5.9500, device='cuda:0'), tensor(5.5919, device='cuda:0'), tensor(5.4661, device='cuda:0'), tensor(5.9936, device='cuda:0'), tensor(4.6216, device='cuda:0'), tensor(5.6252, device='cuda:0'), tensor(4.4241, device='cuda:0'), tensor(4.5626, device='cuda:0'), tensor(5.4662, device='cuda:0'), tensor(5.7123, device='cuda:0'), tensor(4.5012, device='cuda:0'), tensor(4.2637, device='cuda:0'), tensor(5.7905, device='cuda:0'), tensor(4.5332, device='cuda:0'), tensor(4.1467, device='cuda:0'), tensor(5.5311, device='cuda:0'), tensor(5.5541, device='cuda:0'), tensor(5.3841, device='cuda:0'), tensor(5.6959, device='cuda:0'), tensor(5.5824, device='cuda:0'), tensor(4.1812, device='cuda:0'), tensor(5.6225, device='cuda:0'), tensor(4.1757, device='cuda:0'), tensor(4.6198, device='cuda:0'), tensor(4.5561, device='cuda:0'), tensor(5.6710, device='cuda:0'), tensor(5.4316, device='cuda:0'), tensor(5.3695, device='cuda:0'), tensor(5.9383, device='cuda:0'), tensor(5.6113, device='cuda:0'), tensor(4.5992, device='cuda:0'), tensor(5.6491, device='cuda:0'), tensor(3.9007, device='cuda:0'), tensor(4.5956, device='cuda:0'), tensor(4.9603, device='cuda:0'), tensor(4.4423, device='cuda:0'), tensor(5.6730, device='cuda:0'), tensor(4.5842, device='cuda:0'), tensor(4.0555, device='cuda:0'), tensor(5.5070, device='cuda:0'), tensor(5.4694, device='cuda:0'), tensor(4.5277, device='cuda:0'), tensor(4.8225, device='cuda:0'), tensor(4.6357, device='cuda:0'), tensor(5.4288, device='cuda:0'), tensor(5.7608, device='cuda:0'), tensor(4.7915, device='cuda:0'), tensor(5.4363, device='cuda:0'), tensor(5.6990, device='cuda:0'), tensor(4.4112, device='cuda:0'), tensor(4.9134, device='cuda:0'), tensor(4.8048, device='cuda:0'), tensor(5.7299, device='cuda:0'), tensor(5.7499, device='cuda:0'), tensor(4.2842, device='cuda:0'), tensor(4.7076, device='cuda:0'), tensor(5.5083, device='cuda:0'), tensor(4.7616, device='cuda:0'), tensor(5.5100, device='cuda:0'), tensor(5.5782, device='cuda:0'), tensor(5.6932, device='cuda:0'), tensor(5.5575, device='cuda:0'), tensor(4.3823, device='cuda:0'), tensor(5.6026, device='cuda:0'), tensor(4.4892, device='cuda:0'), tensor(4.1812, device='cuda:0'), tensor(5.8801, device='cuda:0'), tensor(4.2410, device='cuda:0'), tensor(4.8462, device='cuda:0'), tensor(4.4702, device='cuda:0'), tensor(4.5227, device='cuda:0'), tensor(4.2602, device='cuda:0'), tensor(5.5795, device='cuda:0'), tensor(4.2350, device='cuda:0'), tensor(4.3197, device='cuda:0'), tensor(5.8882, device='cuda:0'), tensor(5.7681, device='cuda:0'), tensor(4.9008, device='cuda:0'), tensor(5.7218, device='cuda:0'), tensor(5.8871, device='cuda:0'), tensor(4.5831, device='cuda:0'), tensor(5.7806, device='cuda:0'), tensor(5.6215, device='cuda:0'), tensor(5.7924, device='cuda:0'), tensor(5.9075, device='cuda:0'), tensor(5.9255, device='cuda:0'), tensor(4.5243, device='cuda:0'), tensor(5.4709, device='cuda:0'), tensor(5.6560, device='cuda:0'), tensor(5.3602, device='cuda:0'), tensor(4.3648, device='cuda:0'), tensor(4.2541, device='cuda:0'), tensor(4.5029, device='cuda:0'), tensor(4.5507, device='cuda:0'), tensor(5.5237, device='cuda:0'), tensor(5.3534, device='cuda:0'), tensor(4.6032, device='cuda:0'), tensor(5.5778, device='cuda:0'), tensor(5.6778, device='cuda:0'), tensor(4.8016, device='cuda:0'), tensor(6.0387, device='cuda:0'), tensor(5.7317, device='cuda:0'), tensor(5.5011, device='cuda:0'), tensor(5.8176, device='cuda:0'), tensor(4.7408, device='cuda:0'), tensor(5.9276, device='cuda:0'), tensor(5.4188, device='cuda:0'), tensor(4.2160, device='cuda:0'), tensor(5.6739, device='cuda:0'), tensor(5.9310, device='cuda:0'), tensor(5.5108, device='cuda:0'), tensor(4.5306, device='cuda:0'), tensor(4.9086, device='cuda:0'), tensor(5.6490, device='cuda:0'), tensor(5.6193, device='cuda:0'), tensor(5.7353, device='cuda:0'), tensor(5.5997, device='cuda:0'), tensor(5.8327, device='cuda:0'), tensor(5.7198, device='cuda:0'), tensor(5.6254, device='cuda:0'), tensor(5.3465, device='cuda:0'), tensor(4.2294, device='cuda:0'), tensor(4.7166, device='cuda:0'), tensor(5.6175, device='cuda:0'), tensor(5.5602, device='cuda:0'), tensor(4.4622, device='cuda:0'), tensor(5.4088, device='cuda:0'), tensor(4.5156, device='cuda:0'), tensor(4.1908, device='cuda:0'), tensor(5.7888, device='cuda:0'), tensor(4.3417, device='cuda:0'), tensor(4.2607, device='cuda:0'), tensor(4.4240, device='cuda:0'), tensor(5.8705, device='cuda:0'), tensor(5.8480, device='cuda:0'), tensor(5.7358, device='cuda:0'), tensor(5.5391, device='cuda:0'), tensor(5.7804, device='cuda:0'), tensor(4.6688, device='cuda:0'), tensor(5.8196, device='cuda:0'), tensor(5.6786, device='cuda:0'), tensor(5.7436, device='cuda:0'), tensor(5.6038, device='cuda:0'), tensor(4.3856, device='cuda:0'), tensor(4.6159, device='cuda:0'), tensor(5.4869, device='cuda:0'), tensor(5.5492, device='cuda:0'), tensor(5.7139, device='cuda:0'), tensor(4.1223, device='cuda:0'), tensor(5.6521, device='cuda:0'), tensor(4.3872, device='cuda:0'), tensor(4.4385, device='cuda:0'), tensor(5.8913, device='cuda:0'), tensor(4.4688, device='cuda:0'), tensor(4.1473, device='cuda:0'), tensor(4.2116, device='cuda:0'), tensor(5.4957, device='cuda:0'), tensor(4.6982, device='cuda:0'), tensor(5.6329, device='cuda:0'), tensor(4.3173, device='cuda:0'), tensor(4.0626, device='cuda:0'), tensor(5.5932, device='cuda:0'), tensor(4.8628, device='cuda:0'), tensor(5.6290, device='cuda:0'), tensor(5.5351, device='cuda:0'), tensor(4.8020, device='cuda:0'), tensor(5.8491, device='cuda:0'), tensor(4.0958, device='cuda:0'), tensor(5.7579, device='cuda:0'), tensor(4.1452, device='cuda:0'), tensor(4.6790, device='cuda:0'), tensor(4.6181, device='cuda:0'), tensor(5.4437, device='cuda:0'), tensor(4.7350, device='cuda:0'), tensor(4.6059, device='cuda:0'), tensor(5.6989, device='cuda:0'), tensor(5.5192, device='cuda:0'), tensor(5.5821, device='cuda:0'), tensor(4.6111, device='cuda:0'), tensor(4.7549, device='cuda:0'), tensor(4.3549, device='cuda:0'), tensor(5.8571, device='cuda:0'), tensor(4.2649, device='cuda:0'), tensor(5.5827, device='cuda:0'), tensor(4.3102, device='cuda:0'), tensor(4.3435, device='cuda:0'), tensor(5.5574, device='cuda:0'), tensor(4.6961, device='cuda:0'), tensor(5.6535, device='cuda:0'), tensor(4.7093, device='cuda:0'), tensor(4.4904, device='cuda:0'), tensor(5.4707, device='cuda:0'), tensor(5.6342, device='cuda:0'), tensor(5.3519, device='cuda:0'), tensor(4.4076, device='cuda:0'), tensor(4.5206, device='cuda:0'), tensor(4.4513, device='cuda:0'), tensor(4.1192, device='cuda:0'), tensor(5.7447, device='cuda:0'), tensor(5.9996, device='cuda:0'), tensor(4.7984, device='cuda:0'), tensor(5.8921, device='cuda:0'), tensor(4.4107, device='cuda:0'), tensor(4.2455, device='cuda:0'), tensor(4.4705, device='cuda:0'), tensor(4.5368, device='cuda:0'), tensor(5.7239, device='cuda:0'), tensor(4.3488, device='cuda:0'), tensor(5.6377, device='cuda:0'), tensor(3.9220, device='cuda:0'), tensor(4.6614, device='cuda:0'), tensor(5.7395, device='cuda:0'), tensor(5.7832, device='cuda:0'), tensor(5.7873, device='cuda:0'), tensor(5.5405, device='cuda:0'), tensor(5.9213, device='cuda:0'), tensor(5.7252, device='cuda:0'), tensor(5.6323, device='cuda:0'), tensor(5.8538, device='cuda:0'), tensor(4.6664, device='cuda:0'), tensor(4.4543, device='cuda:0'), tensor(5.7657, device='cuda:0'), tensor(5.5924, device='cuda:0'), tensor(4.2929, device='cuda:0'), tensor(6.0392, device='cuda:0'), tensor(4.1956, device='cuda:0'), tensor(4.5073, device='cuda:0'), tensor(4.7810, device='cuda:0'), tensor(4.8391, device='cuda:0'), tensor(4.4577, device='cuda:0'), tensor(5.4634, device='cuda:0'), tensor(5.9426, device='cuda:0'), tensor(4.3445, device='cuda:0'), tensor(4.8812, device='cuda:0'), tensor(4.4664, device='cuda:0'), tensor(4.5953, device='cuda:0'), tensor(4.2436, device='cuda:0'), tensor(4.4875, device='cuda:0'), tensor(4.5912, device='cuda:0'), tensor(4.5802, device='cuda:0'), tensor(5.5364, device='cuda:0'), tensor(5.6951, device='cuda:0'), tensor(4.0553, device='cuda:0'), tensor(5.5632, device='cuda:0'), tensor(5.5217, device='cuda:0'), tensor(5.7400, device='cuda:0'), tensor(4.5096, device='cuda:0'), tensor(4.2117, device='cuda:0'), tensor(4.5974, device='cuda:0'), tensor(5.4140, device='cuda:0'), tensor(4.2909, device='cuda:0'), tensor(5.8361, device='cuda:0'), tensor(5.9318, device='cuda:0'), tensor(5.3191, device='cuda:0'), tensor(5.8380, device='cuda:0'), tensor(4.2570, device='cuda:0'), tensor(5.4778, device='cuda:0'), tensor(5.9637, device='cuda:0'), tensor(4.9096, device='cuda:0'), tensor(5.6243, device='cuda:0'), tensor(5.6783, device='cuda:0'), tensor(4.6292, device='cuda:0'), tensor(5.5672, device='cuda:0'), tensor(4.5011, device='cuda:0'), tensor(5.7286, device='cuda:0'), tensor(4.8932, device='cuda:0'), tensor(4.5623, device='cuda:0'), tensor(5.7115, device='cuda:0'), tensor(5.4647, device='cuda:0'), tensor(4.5276, device='cuda:0'), tensor(5.4436, device='cuda:0'), tensor(4.6550, device='cuda:0'), tensor(5.2641, device='cuda:0'), tensor(4.4902, device='cuda:0'), tensor(5.4350, device='cuda:0'), tensor(5.8587, device='cuda:0'), tensor(4.5410, device='cuda:0'), tensor(5.3309, device='cuda:0'), tensor(5.7958, device='cuda:0'), tensor(4.6283, device='cuda:0'), tensor(4.5468, device='cuda:0'), tensor(5.7244, device='cuda:0'), tensor(5.4545, device='cuda:0'), tensor(5.5073, device='cuda:0'), tensor(5.7824, device='cuda:0'), tensor(5.7538, device='cuda:0'), tensor(4.5341, device='cuda:0'), tensor(5.5143, device='cuda:0'), tensor(4.4022, device='cuda:0'), tensor(5.1851, device='cuda:0'), tensor(4.4862, device='cuda:0'), tensor(5.5690, device='cuda:0'), tensor(4.5321, device='cuda:0'), tensor(5.7850, device='cuda:0'), tensor(5.5251, device='cuda:0'), tensor(5.4030, device='cuda:0'), tensor(5.4670, device='cuda:0'), tensor(5.4408, device='cuda:0'), tensor(4.7422, device='cuda:0'), tensor(5.6033, device='cuda:0'), tensor(5.7284, device='cuda:0'), tensor(5.9908, device='cuda:0'), tensor(4.3871, device='cuda:0'), tensor(4.8623, device='cuda:0'), tensor(5.3041, device='cuda:0'), tensor(5.6097, device='cuda:0'), tensor(5.8768, device='cuda:0'), tensor(4.5833, device='cuda:0'), tensor(4.3762, device='cuda:0'), tensor(4.2861, device='cuda:0'), tensor(4.3257, device='cuda:0'), tensor(4.5170, device='cuda:0'), tensor(4.5119, device='cuda:0'), tensor(4.6413, device='cuda:0'), tensor(4.3964, device='cuda:0'), tensor(5.7165, device='cuda:0'), tensor(5.7354, device='cuda:0'), tensor(4.7148, device='cuda:0'), tensor(4.2008, device='cuda:0'), tensor(4.1844, device='cuda:0'), tensor(4.5754, device='cuda:0'), tensor(5.9024, device='cuda:0'), tensor(5.6558, device='cuda:0'), tensor(4.7106, device='cuda:0'), tensor(4.5554, device='cuda:0'), tensor(4.2014, device='cuda:0'), tensor(5.5999, device='cuda:0'), tensor(5.7145, device='cuda:0'), tensor(5.8246, device='cuda:0'), tensor(4.1222, device='cuda:0'), tensor(4.7260, device='cuda:0'), tensor(5.5162, device='cuda:0'), tensor(6.0942, device='cuda:0'), tensor(4.5546, device='cuda:0'), tensor(5.7362, device='cuda:0'), tensor(4.5991, device='cuda:0'), tensor(5.8209, device='cuda:0'), tensor(6.1313, device='cuda:0'), tensor(5.6583, device='cuda:0'), tensor(5.5789, device='cuda:0'), tensor(4.3002, device='cuda:0'), tensor(5.5650, device='cuda:0'), tensor(4.3664, device='cuda:0'), tensor(5.6087, device='cuda:0'), tensor(5.6439, device='cuda:0'), tensor(4.7365, device='cuda:0'), tensor(5.5394, device='cuda:0'), tensor(5.7229, device='cuda:0'), tensor(5.7969, device='cuda:0'), tensor(4.4211, device='cuda:0'), tensor(4.2578, device='cuda:0'), tensor(5.6569, device='cuda:0'), tensor(5.9961, device='cuda:0'), tensor(5.8699, device='cuda:0'), tensor(5.7612, device='cuda:0'), tensor(4.4505, device='cuda:0'), tensor(5.5332, device='cuda:0'), tensor(4.5188, device='cuda:0'), tensor(5.6527, device='cuda:0'), tensor(4.3250, device='cuda:0'), tensor(4.7035, device='cuda:0'), tensor(5.5740, device='cuda:0'), tensor(5.3283, device='cuda:0'), tensor(4.5083, device='cuda:0'), tensor(5.5975, device='cuda:0'), tensor(4.1906, device='cuda:0'), tensor(4.1273, device='cuda:0'), tensor(4.8340, device='cuda:0'), tensor(4.5771, device='cuda:0'), tensor(4.5486, device='cuda:0'), tensor(4.3444, device='cuda:0'), tensor(5.5685, device='cuda:0'), tensor(5.7232, device='cuda:0'), tensor(5.6670, device='cuda:0'), tensor(4.4803, device='cuda:0'), tensor(5.8552, device='cuda:0'), tensor(5.4462, device='cuda:0'), tensor(5.6870, device='cuda:0'), tensor(5.5100, device='cuda:0'), tensor(5.5488, device='cuda:0'), tensor(5.3749, device='cuda:0'), tensor(5.6313, device='cuda:0'), tensor(5.7560, device='cuda:0'), tensor(5.8757, device='cuda:0'), tensor(5.1180, device='cuda:0'), tensor(5.8327, device='cuda:0'), tensor(5.6445, device='cuda:0'), tensor(5.4546, device='cuda:0'), tensor(5.5495, device='cuda:0'), tensor(4.5909, device='cuda:0'), tensor(4.6054, device='cuda:0'), tensor(4.1755, device='cuda:0'), tensor(5.3894, device='cuda:0'), tensor(4.5283, device='cuda:0'), tensor(6.0560, device='cuda:0'), tensor(4.3446, device='cuda:0'), tensor(4.3160, device='cuda:0'), tensor(4.2937, device='cuda:0'), tensor(4.2321, device='cuda:0'), tensor(5.5468, device='cuda:0'), tensor(5.6227, device='cuda:0'), tensor(5.5284, device='cuda:0'), tensor(4.8163, device='cuda:0'), tensor(5.6808, device='cuda:0'), tensor(5.8790, device='cuda:0'), tensor(5.9265, device='cuda:0'), tensor(5.6290, device='cuda:0'), tensor(5.7124, device='cuda:0'), tensor(4.2339, device='cuda:0'), tensor(4.2359, device='cuda:0'), tensor(4.3292, device='cuda:0'), tensor(4.6624, device='cuda:0'), tensor(5.9191, device='cuda:0'), tensor(5.4968, device='cuda:0'), tensor(5.7213, device='cuda:0'), tensor(5.3694, device='cuda:0'), tensor(4.5361, device='cuda:0'), tensor(5.0608, device='cuda:0'), tensor(4.5152, device='cuda:0'), tensor(5.9609, device='cuda:0'), tensor(4.3963, device='cuda:0'), tensor(5.8058, device='cuda:0'), tensor(4.7226, device='cuda:0'), tensor(4.0685, device='cuda:0'), tensor(5.3926, device='cuda:0'), tensor(4.7070, device='cuda:0'), tensor(4.3868, device='cuda:0'), tensor(4.0893, device='cuda:0'), tensor(5.5307, device='cuda:0'), tensor(4.5836, device='cuda:0'), tensor(5.6975, device='cuda:0'), tensor(5.3727, device='cuda:0'), tensor(4.5527, device='cuda:0'), tensor(5.7545, device='cuda:0'), tensor(5.6812, device='cuda:0'), tensor(5.5656, device='cuda:0'), tensor(4.6489, device='cuda:0'), tensor(5.5159, device='cuda:0'), tensor(5.4721, device='cuda:0'), tensor(4.4878, device='cuda:0'), tensor(5.7587, device='cuda:0'), tensor(4.2549, device='cuda:0'), tensor(4.4854, device='cuda:0'), tensor(5.6442, device='cuda:0'), tensor(4.5607, device='cuda:0'), tensor(5.7619, device='cuda:0'), tensor(5.4411, device='cuda:0'), tensor(4.4636, device='cuda:0'), tensor(5.4690, device='cuda:0'), tensor(4.5269, device='cuda:0'), tensor(4.5929, device='cuda:0'), tensor(4.7357, device='cuda:0'), tensor(5.5814, device='cuda:0'), tensor(4.6388, device='cuda:0'), tensor(4.2404, device='cuda:0'), tensor(5.5554, device='cuda:0'), tensor(4.3795, device='cuda:0'), tensor(5.4543, device='cuda:0'), tensor(5.7379, device='cuda:0'), tensor(5.7410, device='cuda:0'), tensor(5.8201, device='cuda:0'), tensor(5.7247, device='cuda:0'), tensor(5.4805, device='cuda:0'), tensor(4.5731, device='cuda:0'), tensor(5.5647, device='cuda:0'), tensor(6.0822, device='cuda:0'), tensor(5.7838, device='cuda:0'), tensor(4.2777, device='cuda:0'), tensor(5.4608, device='cuda:0'), tensor(5.7269, device='cuda:0'), tensor(5.8610, device='cuda:0'), tensor(5.5693, device='cuda:0'), tensor(5.7941, device='cuda:0'), tensor(5.8158, device='cuda:0'), tensor(4.8018, device='cuda:0'), tensor(5.5061, device='cuda:0'), tensor(5.6797, device='cuda:0'), tensor(5.2514, device='cuda:0'), tensor(5.4768, device='cuda:0'), tensor(5.7079, device='cuda:0'), tensor(4.4693, device='cuda:0'), tensor(4.6132, device='cuda:0'), tensor(4.4925, device='cuda:0'), tensor(4.5207, device='cuda:0'), tensor(5.7661, device='cuda:0'), tensor(4.4038, device='cuda:0'), tensor(4.4089, device='cuda:0'), tensor(5.8901, device='cuda:0'), tensor(4.5247, device='cuda:0'), tensor(4.3058, device='cuda:0'), tensor(4.4070, device='cuda:0'), tensor(5.7026, device='cuda:0'), tensor(5.2950, device='cuda:0'), tensor(5.6355, device='cuda:0'), tensor(5.7446, device='cuda:0'), tensor(4.4950, device='cuda:0'), tensor(4.2979, device='cuda:0'), tensor(5.6603, device='cuda:0'), tensor(4.6880, device='cuda:0'), tensor(5.5181, device='cuda:0'), tensor(5.4378, device='cuda:0'), tensor(4.3115, device='cuda:0'), tensor(4.0052, device='cuda:0'), tensor(4.5223, device='cuda:0'), tensor(4.3812, device='cuda:0'), tensor(5.4459, device='cuda:0'), tensor(5.7449, device='cuda:0'), tensor(4.3335, device='cuda:0'), tensor(4.0647, device='cuda:0'), tensor(5.9440, device='cuda:0'), tensor(5.6894, device='cuda:0'), tensor(5.7380, device='cuda:0'), tensor(5.5856, device='cuda:0'), tensor(5.6335, device='cuda:0'), tensor(5.5202, device='cuda:0'), tensor(4.3336, device='cuda:0'), tensor(4.7606, device='cuda:0'), tensor(5.4810, device='cuda:0'), tensor(4.5213, device='cuda:0'), tensor(5.6760, device='cuda:0'), tensor(4.5372, device='cuda:0'), tensor(4.2428, device='cuda:0'), tensor(4.6973, device='cuda:0'), tensor(4.4605, device='cuda:0'), tensor(5.4530, device='cuda:0'), tensor(4.0019, device='cuda:0'), tensor(5.4825, device='cuda:0'), tensor(5.6095, device='cuda:0'), tensor(5.8198, device='cuda:0'), tensor(5.5436, device='cuda:0'), tensor(4.2878, device='cuda:0'), tensor(5.7000, device='cuda:0'), tensor(4.1940, device='cuda:0'), tensor(5.6828, device='cuda:0'), tensor(5.6736, device='cuda:0'), tensor(4.6424, device='cuda:0'), tensor(4.6539, device='cuda:0'), tensor(4.6370, device='cuda:0'), tensor(5.7197, device='cuda:0'), tensor(5.3440, device='cuda:0'), tensor(5.7193, device='cuda:0'), tensor(5.6233, device='cuda:0'), tensor(5.8289, device='cuda:0'), tensor(4.1662, device='cuda:0'), tensor(4.1751, device='cuda:0'), tensor(4.4335, device='cuda:0'), tensor(5.9390, device='cuda:0'), tensor(4.4124, device='cuda:0'), tensor(5.5785, device='cuda:0'), tensor(5.8166, device='cuda:0'), tensor(4.5565, device='cuda:0'), tensor(4.2488, device='cuda:0'), tensor(4.5681, device='cuda:0'), tensor(4.2787, device='cuda:0'), tensor(4.7099, device='cuda:0'), tensor(5.6561, device='cuda:0'), tensor(4.3903, device='cuda:0'), tensor(5.6589, device='cuda:0'), tensor(4.6275, device='cuda:0'), tensor(4.2202, device='cuda:0'), tensor(5.4011, device='cuda:0'), tensor(4.2783, device='cuda:0'), tensor(4.4935, device='cuda:0'), tensor(4.4197, device='cuda:0'), tensor(5.6552, device='cuda:0'), tensor(5.7470, device='cuda:0'), tensor(5.6539, device='cuda:0'), tensor(5.4923, device='cuda:0'), tensor(5.9584, device='cuda:0'), tensor(5.7006, device='cuda:0'), tensor(5.5519, device='cuda:0'), tensor(4.3678, device='cuda:0'), tensor(5.5802, device='cuda:0'), tensor(4.4221, device='cuda:0'), tensor(4.2359, device='cuda:0'), tensor(5.7348, device='cuda:0'), tensor(5.7075, device='cuda:0'), tensor(4.4803, device='cuda:0'), tensor(5.8539, device='cuda:0'), tensor(4.8578, device='cuda:0'), tensor(4.2535, device='cuda:0'), tensor(4.4143, device='cuda:0'), tensor(4.3445, device='cuda:0'), tensor(5.8181, device='cuda:0'), tensor(5.2926, device='cuda:0'), tensor(4.2337, device='cuda:0'), tensor(5.7903, device='cuda:0'), tensor(5.2732, device='cuda:0'), tensor(4.1533, device='cuda:0'), tensor(5.5649, device='cuda:0'), tensor(5.5283, device='cuda:0'), tensor(4.4822, device='cuda:0'), tensor(5.8809, device='cuda:0'), tensor(5.7981, device='cuda:0'), tensor(5.7538, device='cuda:0'), tensor(4.4630, device='cuda:0'), tensor(5.8018, device='cuda:0'), tensor(5.7489, device='cuda:0'), tensor(4.3269, device='cuda:0'), tensor(4.2732, device='cuda:0'), tensor(4.2053, device='cuda:0'), tensor(4.8048, device='cuda:0'), tensor(5.8339, device='cuda:0'), tensor(4.5438, device='cuda:0'), tensor(5.9248, device='cuda:0'), tensor(5.5671, device='cuda:0'), tensor(5.5817, device='cuda:0'), tensor(5.7071, device='cuda:0'), tensor(5.5713, device='cuda:0'), tensor(4.1572, device='cuda:0'), tensor(5.6000, device='cuda:0'), tensor(4.8632, device='cuda:0'), tensor(4.2525, device='cuda:0'), tensor(5.7627, device='cuda:0'), tensor(4.3310, device='cuda:0'), tensor(4.2468, device='cuda:0'), tensor(5.5935, device='cuda:0'), tensor(4.3483, device='cuda:0'), tensor(5.6672, device='cuda:0'), tensor(4.1260, device='cuda:0'), tensor(5.4643, device='cuda:0'), tensor(4.4850, device='cuda:0'), tensor(5.7607, device='cuda:0'), tensor(4.3018, device='cuda:0'), tensor(4.2686, device='cuda:0'), tensor(5.5932, device='cuda:0'), tensor(4.8248, device='cuda:0'), tensor(4.5789, device='cuda:0'), tensor(5.7734, device='cuda:0'), tensor(4.0403, device='cuda:0'), tensor(4.3342, device='cuda:0'), tensor(5.5410, device='cuda:0'), tensor(6.0104, device='cuda:0'), tensor(4.2575, device='cuda:0'), tensor(5.6404, device='cuda:0'), tensor(5.8774, device='cuda:0'), tensor(5.8669, device='cuda:0'), tensor(4.9042, device='cuda:0'), tensor(4.4044, device='cuda:0'), tensor(5.7689, device='cuda:0'), tensor(4.1055, device='cuda:0'), tensor(5.5817, device='cuda:0'), tensor(5.3586, device='cuda:0'), tensor(4.1118, device='cuda:0'), tensor(5.6778, device='cuda:0'), tensor(4.4596, device='cuda:0'), tensor(4.4827, device='cuda:0'), tensor(4.7228, device='cuda:0'), tensor(4.3246, device='cuda:0'), tensor(5.7895, device='cuda:0'), tensor(4.2954, device='cuda:0'), tensor(4.3792, device='cuda:0'), tensor(5.7906, device='cuda:0'), tensor(4.5164, device='cuda:0'), tensor(4.4238, device='cuda:0'), tensor(4.5901, device='cuda:0'), tensor(4.5212, device='cuda:0'), tensor(5.5211, device='cuda:0'), tensor(4.1775, device='cuda:0'), tensor(4.6232, device='cuda:0'), tensor(5.6849, device='cuda:0'), tensor(4.2020, device='cuda:0'), tensor(4.5275, device='cuda:0'), tensor(4.5621, device='cuda:0'), tensor(4.8878, device='cuda:0'), tensor(6.1359, device='cuda:0'), tensor(5.8535, device='cuda:0'), tensor(4.4068, device='cuda:0'), tensor(5.6876, device='cuda:0'), tensor(4.7582, device='cuda:0'), tensor(5.8375, device='cuda:0'), tensor(4.6509, device='cuda:0'), tensor(4.9295, device='cuda:0'), tensor(4.3126, device='cuda:0'), tensor(4.4041, device='cuda:0'), tensor(5.4460, device='cuda:0'), tensor(4.2975, device='cuda:0'), tensor(5.7015, device='cuda:0'), tensor(5.3616, device='cuda:0'), tensor(5.9531, device='cuda:0'), tensor(4.6639, device='cuda:0'), tensor(4.2154, device='cuda:0'), tensor(4.3119, device='cuda:0'), tensor(5.7894, device='cuda:0'), tensor(4.7556, device='cuda:0'), tensor(4.4870, device='cuda:0'), tensor(4.6308, device='cuda:0'), tensor(5.4703, device='cuda:0'), tensor(5.5087, device='cuda:0'), tensor(5.7755, device='cuda:0'), tensor(4.1858, device='cuda:0'), tensor(5.9380, device='cuda:0'), tensor(5.6205, device='cuda:0'), tensor(4.2982, device='cuda:0'), tensor(4.3625, device='cuda:0'), tensor(5.4834, device='cuda:0'), tensor(5.4779, device='cuda:0'), tensor(5.4575, device='cuda:0'), tensor(4.6948, device='cuda:0'), tensor(5.8132, device='cuda:0'), tensor(5.5666, device='cuda:0'), tensor(4.2586, device='cuda:0'), tensor(4.4477, device='cuda:0'), tensor(5.4757, device='cuda:0'), tensor(4.3955, device='cuda:0'), tensor(5.6360, device='cuda:0'), tensor(5.7433, device='cuda:0'), tensor(4.5975, device='cuda:0'), tensor(5.8674, device='cuda:0'), tensor(5.5998, device='cuda:0'), tensor(5.8510, device='cuda:0'), tensor(5.6758, device='cuda:0'), tensor(4.4046, device='cuda:0'), tensor(4.3742, device='cuda:0'), tensor(5.4462, device='cuda:0'), tensor(5.7878, device='cuda:0'), tensor(5.8087, device='cuda:0'), tensor(5.6659, device='cuda:0'), tensor(5.2066, device='cuda:0'), tensor(5.6591, device='cuda:0'), tensor(4.6125, device='cuda:0'), tensor(5.6536, device='cuda:0'), tensor(4.8792, device='cuda:0'), tensor(4.6760, device='cuda:0'), tensor(4.3505, device='cuda:0'), tensor(5.7610, device='cuda:0'), tensor(5.6661, device='cuda:0'), tensor(4.4221, device='cuda:0'), tensor(5.6228, device='cuda:0'), tensor(5.4635, device='cuda:0'), tensor(4.3687, device='cuda:0'), tensor(5.4242, device='cuda:0'), tensor(4.7002, device='cuda:0'), tensor(4.3343, device='cuda:0'), tensor(5.4500, device='cuda:0'), tensor(4.3900, device='cuda:0'), tensor(4.5253, device='cuda:0'), tensor(5.6899, device='cuda:0'), tensor(4.7831, device='cuda:0'), tensor(5.5075, device='cuda:0'), tensor(4.8437, device='cuda:0'), tensor(5.6645, device='cuda:0'), tensor(4.3421, device='cuda:0'), tensor(4.3689, device='cuda:0'), tensor(5.2213, device='cuda:0'), tensor(4.0639, device='cuda:0'), tensor(5.8196, device='cuda:0'), tensor(4.2149, device='cuda:0'), tensor(5.8351, device='cuda:0'), tensor(3.8766, device='cuda:0'), tensor(5.6885, device='cuda:0'), tensor(5.6667, device='cuda:0'), tensor(5.5376, device='cuda:0'), tensor(5.6886, device='cuda:0'), tensor(5.3784, device='cuda:0'), tensor(5.4243, device='cuda:0'), tensor(4.5719, device='cuda:0'), tensor(4.2264, device='cuda:0'), tensor(4.3059, device='cuda:0'), tensor(4.4858, device='cuda:0'), tensor(5.4824, device='cuda:0'), tensor(4.3445, device='cuda:0'), tensor(5.3819, device='cuda:0'), tensor(5.7989, device='cuda:0'), tensor(5.5242, device='cuda:0'), tensor(5.6008, device='cuda:0'), tensor(5.6206, device='cuda:0'), tensor(4.4979, device='cuda:0'), tensor(4.2430, device='cuda:0'), tensor(4.9910, device='cuda:0'), tensor(4.5683, device='cuda:0'), tensor(5.1340, device='cuda:0'), tensor(4.2610, device='cuda:0'), tensor(5.7986, device='cuda:0'), tensor(5.5335, device='cuda:0'), tensor(4.1623, device='cuda:0'), tensor(4.5668, device='cuda:0'), tensor(5.6338, device='cuda:0'), tensor(5.5243, device='cuda:0'), tensor(4.4823, device='cuda:0'), tensor(4.7329, device='cuda:0'), tensor(4.7240, device='cuda:0'), tensor(5.7602, device='cuda:0'), tensor(5.6446, device='cuda:0'), tensor(4.0251, device='cuda:0'), tensor(5.4803, device='cuda:0'), tensor(5.7870, device='cuda:0'), tensor(4.5059, device='cuda:0'), tensor(5.6886, device='cuda:0'), tensor(5.6672, device='cuda:0'), tensor(3.9681, device='cuda:0'), tensor(4.0667, device='cuda:0'), tensor(4.0875, device='cuda:0'), tensor(5.4127, device='cuda:0'), tensor(5.7305, device='cuda:0'), tensor(5.5939, device='cuda:0'), tensor(5.6955, device='cuda:0'), tensor(5.3748, device='cuda:0'), tensor(4.4831, device='cuda:0'), tensor(4.6029, device='cuda:0'), tensor(5.7888, device='cuda:0'), tensor(5.8492, device='cuda:0'), tensor(5.9528, device='cuda:0'), tensor(5.4579, device='cuda:0'), tensor(4.8018, device='cuda:0'), tensor(5.3118, device='cuda:0'), tensor(4.8170, device='cuda:0'), tensor(5.3420, device='cuda:0'), tensor(5.0849, device='cuda:0'), tensor(4.5690, device='cuda:0'), tensor(5.6151, device='cuda:0'), tensor(4.3247, device='cuda:0'), tensor(5.6977, device='cuda:0'), tensor(5.4465, device='cuda:0'), tensor(5.6111, device='cuda:0'), tensor(4.4337, device='cuda:0'), tensor(4.2972, device='cuda:0'), tensor(4.6462, device='cuda:0'), tensor(4.5139, device='cuda:0'), tensor(5.6228, device='cuda:0'), tensor(5.4005, device='cuda:0'), tensor(4.5166, device='cuda:0'), tensor(5.7470, device='cuda:0'), tensor(5.6043, device='cuda:0'), tensor(5.5465, device='cuda:0'), tensor(5.8759, device='cuda:0'), tensor(5.6088, device='cuda:0'), tensor(5.5859, device='cuda:0'), tensor(4.3797, device='cuda:0'), tensor(5.5619, device='cuda:0'), tensor(5.6607, device='cuda:0'), tensor(4.2987, device='cuda:0'), tensor(4.8332, device='cuda:0'), tensor(4.0629, device='cuda:0'), tensor(4.5459, device='cuda:0'), tensor(4.3218, device='cuda:0'), tensor(5.5062, device='cuda:0'), tensor(5.4006, device='cuda:0'), tensor(4.5818, device='cuda:0'), tensor(6.0381, device='cuda:0'), tensor(4.4342, device='cuda:0'), tensor(5.7440, device='cuda:0'), tensor(5.9790, device='cuda:0'), tensor(5.9233, device='cuda:0'), tensor(4.3244, device='cuda:0'), tensor(5.7819, device='cuda:0'), tensor(4.3476, device='cuda:0'), tensor(6.0024, device='cuda:0'), tensor(5.5937, device='cuda:0'), tensor(5.6388, device='cuda:0'), tensor(4.5480, device='cuda:0'), tensor(5.8303, device='cuda:0'), tensor(5.5871, device='cuda:0'), tensor(5.5833, device='cuda:0'), tensor(5.5629, device='cuda:0'), tensor(4.7537, device='cuda:0'), tensor(4.8012, device='cuda:0'), tensor(4.5397, device='cuda:0'), tensor(5.6392, device='cuda:0'), tensor(4.4037, device='cuda:0'), tensor(5.4716, device='cuda:0'), tensor(5.5901, device='cuda:0'), tensor(4.4763, device='cuda:0'), tensor(4.2568, device='cuda:0'), tensor(4.4629, device='cuda:0'), tensor(4.6295, device='cuda:0'), tensor(4.4908, device='cuda:0'), tensor(4.1237, device='cuda:0'), tensor(4.6674, device='cuda:0'), tensor(5.6968, device='cuda:0'), tensor(4.8026, device='cuda:0'), tensor(5.6503, device='cuda:0'), tensor(5.3420, device='cuda:0'), tensor(5.7737, device='cuda:0'), tensor(4.6255, device='cuda:0'), tensor(5.5973, device='cuda:0'), tensor(4.1133, device='cuda:0'), tensor(5.3256, device='cuda:0'), tensor(4.6592, device='cuda:0'), tensor(5.4871, device='cuda:0'), tensor(6.0003, device='cuda:0'), tensor(4.4925, device='cuda:0'), tensor(5.3890, device='cuda:0'), tensor(5.4916, device='cuda:0'), tensor(4.8885, device='cuda:0'), tensor(5.4395, device='cuda:0'), tensor(4.4449, device='cuda:0'), tensor(4.1419, device='cuda:0'), tensor(5.7625, device='cuda:0'), tensor(4.0126, device='cuda:0'), tensor(5.5882, device='cuda:0'), tensor(5.5966, device='cuda:0'), tensor(4.3728, device='cuda:0'), tensor(5.8542, device='cuda:0'), tensor(5.4415, device='cuda:0'), tensor(4.4974, device='cuda:0'), tensor(4.7079, device='cuda:0'), tensor(5.5036, device='cuda:0'), tensor(5.4641, device='cuda:0'), tensor(5.5180, device='cuda:0'), tensor(4.5387, device='cuda:0'), tensor(4.6562, device='cuda:0'), tensor(4.1254, device='cuda:0'), tensor(4.2891, device='cuda:0'), tensor(5.5538, device='cuda:0'), tensor(4.7986, device='cuda:0'), tensor(5.8249, device='cuda:0'), tensor(5.7636, device='cuda:0'), tensor(5.5801, device='cuda:0'), tensor(4.4347, device='cuda:0'), tensor(5.7286, device='cuda:0'), tensor(4.3377, device='cuda:0'), tensor(4.4165, device='cuda:0'), tensor(3.7477, device='cuda:0'), tensor(4.6040, device='cuda:0'), tensor(5.6287, device='cuda:0'), tensor(4.4281, device='cuda:0'), tensor(4.5287, device='cuda:0'), tensor(4.4791, device='cuda:0'), tensor(4.4075, device='cuda:0'), tensor(5.9150, device='cuda:0'), tensor(5.5064, device='cuda:0'), tensor(4.2797, device='cuda:0'), tensor(4.2301, device='cuda:0'), tensor(4.4520, device='cuda:0'), tensor(4.3795, device='cuda:0'), tensor(5.6596, device='cuda:0'), tensor(5.5869, device='cuda:0'), tensor(5.7103, device='cuda:0'), tensor(4.3854, device='cuda:0'), tensor(5.8303, device='cuda:0'), tensor(4.5495, device='cuda:0'), tensor(4.4384, device='cuda:0'), tensor(5.7533, device='cuda:0'), tensor(4.6958, device='cuda:0'), tensor(5.6169, device='cuda:0'), tensor(5.6044, device='cuda:0'), tensor(4.2911, device='cuda:0'), tensor(5.5292, device='cuda:0'), tensor(4.8076, device='cuda:0'), tensor(5.9720, device='cuda:0'), tensor(5.6926, device='cuda:0'), tensor(4.7353, device='cuda:0'), tensor(5.5449, device='cuda:0'), tensor(4.3540, device='cuda:0'), tensor(4.5906, device='cuda:0'), tensor(4.0571, device='cuda:0'), tensor(5.7919, device='cuda:0'), tensor(5.6089, device='cuda:0'), tensor(5.3870, device='cuda:0'), tensor(4.3553, device='cuda:0'), tensor(5.7002, device='cuda:0'), tensor(5.6560, device='cuda:0'), tensor(4.1436, device='cuda:0'), tensor(4.1059, device='cuda:0'), tensor(6.0544, device='cuda:0'), tensor(4.6148, device='cuda:0'), tensor(4.5212, device='cuda:0'), tensor(4.2867, device='cuda:0'), tensor(5.5703, device='cuda:0'), tensor(5.7331, device='cuda:0'), tensor(5.7994, device='cuda:0'), tensor(4.3558, device='cuda:0'), tensor(4.7991, device='cuda:0'), tensor(4.4314, device='cuda:0'), tensor(4.4150, device='cuda:0'), tensor(5.6688, device='cuda:0'), tensor(4.4458, device='cuda:0'), tensor(4.3112, device='cuda:0'), tensor(5.6765, device='cuda:0'), tensor(4.1784, device='cuda:0'), tensor(5.6952, device='cuda:0'), tensor(5.7618, device='cuda:0'), tensor(4.5385, device='cuda:0'), tensor(4.2283, device='cuda:0'), tensor(4.4341, device='cuda:0'), tensor(4.7122, device='cuda:0'), tensor(5.4794, device='cuda:0'), tensor(4.5601, device='cuda:0'), tensor(5.6264, device='cuda:0'), tensor(4.3193, device='cuda:0'), tensor(5.7199, device='cuda:0'), tensor(4.4971, device='cuda:0'), tensor(4.5619, device='cuda:0'), tensor(4.6527, device='cuda:0'), tensor(5.7589, device='cuda:0'), tensor(4.3308, device='cuda:0'), tensor(4.3372, device='cuda:0'), tensor(5.7240, device='cuda:0'), tensor(4.2226, device='cuda:0'), tensor(4.5087, device='cuda:0'), tensor(4.5385, device='cuda:0'), tensor(5.8552, device='cuda:0'), tensor(5.4086, device='cuda:0'), tensor(5.6210, device='cuda:0'), tensor(4.3470, device='cuda:0'), tensor(4.2614, device='cuda:0'), tensor(4.1488, device='cuda:0'), tensor(5.5669, device='cuda:0'), tensor(4.2791, device='cuda:0'), tensor(5.5158, device='cuda:0'), tensor(5.3032, device='cuda:0'), tensor(5.8220, device='cuda:0'), tensor(5.5036, device='cuda:0'), tensor(5.7002, device='cuda:0'), tensor(4.5051, device='cuda:0'), tensor(5.5882, device='cuda:0'), tensor(5.4081, device='cuda:0'), tensor(5.6637, device='cuda:0'), tensor(5.6419, device='cuda:0'), tensor(5.4539, device='cuda:0'), tensor(5.6133, device='cuda:0'), tensor(5.6475, device='cuda:0'), tensor(5.7139, device='cuda:0'), tensor(5.7461, device='cuda:0'), tensor(4.3182, device='cuda:0'), tensor(4.2199, device='cuda:0'), tensor(5.1920, device='cuda:0'), tensor(5.4862, device='cuda:0'), tensor(4.1728, device='cuda:0'), tensor(6.1881, device='cuda:0'), tensor(4.5347, device='cuda:0'), tensor(4.3594, device='cuda:0'), tensor(5.5514, device='cuda:0'), tensor(5.4525, device='cuda:0'), tensor(4.2525, device='cuda:0'), tensor(5.5639, device='cuda:0'), tensor(5.6787, device='cuda:0'), tensor(5.6302, device='cuda:0'), tensor(4.6028, device='cuda:0'), tensor(5.7144, device='cuda:0'), tensor(4.6252, device='cuda:0'), tensor(5.5686, device='cuda:0'), tensor(4.4834, device='cuda:0'), tensor(4.9014, device='cuda:0'), tensor(4.5238, device='cuda:0'), tensor(4.4733, device='cuda:0'), tensor(5.6138, device='cuda:0'), tensor(5.7825, device='cuda:0'), tensor(5.8362, device='cuda:0'), tensor(5.5881, device='cuda:0'), tensor(4.1227, device='cuda:0'), tensor(4.0831, device='cuda:0'), tensor(5.3002, device='cuda:0'), tensor(3.6507, device='cuda:0'), tensor(4.4048, device='cuda:0'), tensor(4.6465, device='cuda:0'), tensor(5.7409, device='cuda:0'), tensor(5.4926, device='cuda:0'), tensor(5.8502, device='cuda:0'), tensor(5.7612, device='cuda:0'), tensor(4.4762, device='cuda:0'), tensor(4.0868, device='cuda:0'), tensor(5.4840, device='cuda:0'), tensor(4.0457, device='cuda:0'), tensor(4.2800, device='cuda:0'), tensor(5.4863, device='cuda:0'), tensor(5.4954, device='cuda:0'), tensor(5.4810, device='cuda:0'), tensor(4.6551, device='cuda:0'), tensor(4.4619, device='cuda:0'), tensor(5.3956, device='cuda:0'), tensor(5.9606, device='cuda:0'), tensor(5.7750, device='cuda:0'), tensor(5.7084, device='cuda:0'), tensor(5.6235, device='cuda:0'), tensor(5.5765, device='cuda:0'), tensor(5.6241, device='cuda:0'), tensor(5.6460, device='cuda:0'), tensor(5.5398, device='cuda:0'), tensor(4.5542, device='cuda:0'), tensor(4.5723, device='cuda:0'), tensor(4.4603, device='cuda:0'), tensor(4.8184, device='cuda:0'), tensor(4.6509, device='cuda:0'), tensor(4.1500, device='cuda:0'), tensor(5.7143, device='cuda:0'), tensor(4.1686, device='cuda:0'), tensor(4.7025, device='cuda:0'), tensor(5.5540, device='cuda:0'), tensor(4.6102, device='cuda:0'), tensor(4.1819, device='cuda:0'), tensor(5.7011, device='cuda:0'), tensor(5.4161, device='cuda:0'), tensor(4.2996, device='cuda:0'), tensor(4.4964, device='cuda:0'), tensor(5.5020, device='cuda:0'), tensor(4.5550, device='cuda:0'), tensor(5.5430, device='cuda:0'), tensor(5.7913, device='cuda:0'), tensor(5.5865, device='cuda:0'), tensor(5.7063, device='cuda:0'), tensor(5.6518, device='cuda:0'), tensor(4.5625, device='cuda:0'), tensor(5.3969, device='cuda:0'), tensor(5.8464, device='cuda:0'), tensor(4.1732, device='cuda:0'), tensor(4.2230, device='cuda:0'), tensor(4.3186, device='cuda:0'), tensor(5.4749, device='cuda:0'), tensor(5.3887, device='cuda:0'), tensor(4.6257, device='cuda:0'), tensor(4.8822, device='cuda:0'), tensor(4.3910, device='cuda:0'), tensor(4.3663, device='cuda:0'), tensor(5.8114, device='cuda:0'), tensor(5.6946, device='cuda:0'), tensor(4.6024, device='cuda:0'), tensor(5.8390, device='cuda:0'), tensor(4.3803, device='cuda:0'), tensor(4.4693, device='cuda:0'), tensor(5.7236, device='cuda:0'), tensor(5.6558, device='cuda:0'), tensor(3.9013, device='cuda:0'), tensor(5.3495, device='cuda:0'), tensor(4.0336, device='cuda:0'), tensor(4.2226, device='cuda:0'), tensor(4.5905, device='cuda:0'), tensor(5.5612, device='cuda:0'), tensor(5.8013, device='cuda:0'), tensor(4.3025, device='cuda:0'), tensor(5.1621, device='cuda:0'), tensor(4.5160, device='cuda:0'), tensor(4.3589, device='cuda:0'), tensor(4.5178, device='cuda:0'), tensor(4.6174, device='cuda:0'), tensor(4.2972, device='cuda:0'), tensor(5.8276, device='cuda:0'), tensor(5.9330, device='cuda:0'), tensor(5.4094, device='cuda:0'), tensor(5.9181, device='cuda:0'), tensor(4.6283, device='cuda:0'), tensor(5.2343, device='cuda:0')]\n",
            "Time: 282m 13s (- -280m 35s), Epoch: [2/3], Step: [100/6669], Train Loss: 4.951913356781006\n",
            "Time: 286m 24s (- -285m 1s), Epoch: [2/3], Step: [200/6669], Train Loss: 4.9363932609558105\n",
            "Time: 290m 33s (- -290m 25s), Epoch: [2/3], Step: [300/6669], Train Loss: 4.752422332763672\n",
            "Time: 294m 43s (- -294m 0s), Epoch: [2/3], Step: [400/6669], Train Loss: 4.905048847198486\n",
            "Time: 298m 53s (- -299m 42s), Epoch: [2/3], Step: [500/6669], Train Loss: 4.842410564422607\n",
            "Time: 303m 2s (- -303m 27s), Epoch: [2/3], Step: [600/6669], Train Loss: 4.718133926391602\n",
            "Time: 307m 12s (- -307m 13s), Epoch: [2/3], Step: [700/6669], Train Loss: 4.855536460876465\n",
            "Time: 311m 23s (- -312m 59s), Epoch: [2/3], Step: [800/6669], Train Loss: 4.88270902633667\n",
            "Time: 315m 34s (- -316m 46s), Epoch: [2/3], Step: [900/6669], Train Loss: 4.906332015991211\n",
            "Time: 319m 45s (- -320m 33s), Epoch: [2/3], Step: [1000/6669], Train Loss: 4.854396820068359\n",
            "Time: 323m 56s (- -324m 21s), Epoch: [2/3], Step: [1100/6669], Train Loss: 4.87593936920166\n",
            "Time: 328m 6s (- -328m 10s), Epoch: [2/3], Step: [1200/6669], Train Loss: 4.752178192138672\n",
            "Time: 332m 16s (- -333m 58s), Epoch: [2/3], Step: [1300/6669], Train Loss: 4.861237525939941\n"
          ],
          "name": "stdout"
        }
      ]
    },
    {
      "metadata": {
        "id": "NrQcSzSZ0d6w",
        "colab_type": "code",
        "colab": {}
      },
      "cell_type": "code",
      "source": [
        ""
      ],
      "execution_count": 0,
      "outputs": []
    },
    {
      "metadata": {
        "id": "cHskVQog0d6y",
        "colab_type": "code",
        "colab": {}
      },
      "cell_type": "code",
      "source": [
        ""
      ],
      "execution_count": 0,
      "outputs": []
    },
    {
      "metadata": {
        "id": "hL4xIkW80d62",
        "colab_type": "code",
        "colab": {}
      },
      "cell_type": "code",
      "source": [
        ""
      ],
      "execution_count": 0,
      "outputs": []
    }
  ]
}